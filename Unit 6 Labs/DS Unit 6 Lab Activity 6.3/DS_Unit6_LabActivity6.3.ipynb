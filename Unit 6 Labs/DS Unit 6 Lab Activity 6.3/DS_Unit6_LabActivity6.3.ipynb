{
 "cells": [
  {
   "cell_type": "markdown",
   "id": "bb07c41d-19ac-4fbc-aacf-e153f18cd652",
   "metadata": {},
   "source": [
    "# DS Lab Activity 6.3. Network Analysis**\n",
    "\n",
    "\n",
    "## **Learning Objectives**\n",
    "By the end of this lab, students will:\n",
    "1. **Load and preprocess** the dataset into a graph.\n",
    "2. **Analyze network topology** (number of nodes, edges, density, degree distribution).\n",
    "3. **Compute centrality measures** (Degree Centrality, Betweenness, Closeness, Eigenvector Centrality).\n",
    "4. **Apply the PageRank algorithm** and interpret results.\n",
    "5. **Identify ego-networks** for nodes with the highest centrality.\n",
    "6. **Visualize key insights** using NetworkX and Matplotlib.\n",
    "\n",
    "---\n",
    "\n",
    "## **Dataset Overview**\n",
    "The dataset (`colaboration.txt`) contains pairs of **collaborating entities (e.g., authors, researchers)**. Each row represents an **undirected edge** between two entities. Arxiv HEP-TH (High Energy Physics - Theory) collaboration network is from the e-print arXiv and covers scientific collaborations between authors papers submitted to High Energy Physics - Theory category. If an author $i$ co-authored a paper with author $j$, the graph contains a undirected edge from $i$ to $j$. If the paper is co-authored by $k$ authors this generates a completely connected (sub)graph on $k$ nodes. The data covers papers in the period from January 1993 to April 2003 (124 months). It begins within a few months of the inception of the arXiv, and thus represents essentially the complete history of its HEP-TH section.\n",
    "\n",
    "## Summary of commands\n",
    "The following table summarizes the **centrality measures** and their corresponding **NetworkX commands**, along with **interpretation and use cases**.\n",
    "\n",
    "| **Centrality Measure**      | **NetworkX Command**                     | **Interpretation** | **Use Case** |\n",
    "|-----------------------------|------------------------------------------|--------------------|--------------|\n",
    "| **Degree Centrality**       | `nx.degree_centrality(G)`               | Measures how many direct connections a node has, relative to the total possible connections. | Identifies **popular nodes** in collaboration or social networks. |\n",
    "| **Betweenness Centrality**  | `nx.betweenness_centrality(G)`          | Identifies nodes that act as bridges between different parts of the network. | Detects **key intermediaries** or **gatekeepers** in communication. |\n",
    "| **Closeness Centrality**    | `nx.closeness_centrality(G)`            | Measures how quickly a node can reach all other nodes in the network. | Useful in **epidemic modeling** or **efficient information flow**. |\n",
    "| **Eigenvector Centrality**  | `nx.eigenvector_centrality(G)`          | Assigns importance based on **connections to influential nodes**. | Identifies **influencers** in networks, similar to Google's **PageRank**. |\n",
    "| **PageRank**                | `nx.pagerank(G, alpha=0.85)`            | A variant of eigenvector centrality that ranks nodes based on link importance. | Used in **search engine ranking** and **influence scoring**. |\n",
    "\n",
    "### **Step 1: Load and Prepare the Dataset**"
   ]
  },
  {
   "cell_type": "code",
   "execution_count": 1,
   "id": "d1372928-f51a-46c4-a978-3cbae7cdbaa8",
   "metadata": {},
   "outputs": [
    {
     "name": "stdout",
     "output_type": "stream",
     "text": [
      "Graph Loaded: 9877 nodes, 25998 edges, Density: 0.00053\n"
     ]
    }
   ],
   "source": [
    "import networkx as nx\n",
    "import pandas as pd\n",
    "import matplotlib.pyplot as plt\n",
    "\n",
    "# Load the dataset\n",
    "file_path = \"colaboration.txt\"\n",
    "\n",
    "# Read dataset and create edge list\n",
    "edges = []\n",
    "with open(file_path, \"r\") as file:\n",
    "    for line in file:\n",
    "        nodes = line.strip().split()\n",
    "        if len(nodes) == 2:\n",
    "            edges.append((int(nodes[0]), int(nodes[1])))\n",
    "\n",
    "# Create an undirected graph\n",
    "G = nx.Graph()\n",
    "G.add_edges_from(edges)\n",
    "\n",
    "# Display basic graph statistics\n",
    "num_nodes = G.number_of_nodes()\n",
    "num_edges = G.number_of_edges()\n",
    "density = nx.density(G)\n",
    "print(f\"Graph Loaded: {num_nodes} nodes, {num_edges} edges, Density: {density:.5f}\")"
   ]
  },
  {
   "cell_type": "markdown",
   "id": "1dedee10-c9e5-4c71-bafb-65c78c0db784",
   "metadata": {},
   "source": [
    "### **Step 2: Analyze Network Topology**"
   ]
  },
  {
   "cell_type": "code",
   "execution_count": 2,
   "id": "bbf30c61-f4bc-4ba8-9332-29aaa3da830d",
   "metadata": {},
   "outputs": [
    {
     "name": "stdout",
     "output_type": "stream",
     "text": [
      "Max Degree: 65, Min Degree: 1, Avg Degree: 5.26\n"
     ]
    },
    {
     "data": {
      "image/png": "[encoded data removed]",
      "text/plain": [
       "<Figure size 800x500 with 1 Axes>"
      ]
     },
     "metadata": {},
     "output_type": "display_data"
    }
   ],
   "source": [
    "# Degree distribution\n",
    "degree_sequence = [deg for _, deg in G.degree()]\n",
    "max_degree = max(degree_sequence)\n",
    "min_degree = min(degree_sequence)\n",
    "avg_degree = sum(degree_sequence) / len(degree_sequence)\n",
    "\n",
    "print(f\"Max Degree: {max_degree}, Min Degree: {min_degree}, Avg Degree: {avg_degree:.2f}\")\n",
    "\n",
    "# Visualize degree distribution\n",
    "plt.figure(figsize=(8, 5))\n",
    "plt.hist(degree_sequence, bins=30, color='blue', alpha=0.7)\n",
    "plt.xlabel(\"Degree\")\n",
    "plt.ylabel(\"Frequency\")\n",
    "plt.title(\"Degree Distribution\")\n",
    "plt.show()"
   ]
  },
  {
   "cell_type": "markdown",
   "id": "7a3b91ea-24a0-4d14-b6f0-1f6851adc078",
   "metadata": {},
   "source": [
    "### **Step 3: Compute Centrality Measures**\n",
    "\n",
    "**Note.** The following code cells may take a longer time to run, be patient!"
   ]
  },
  {
   "cell_type": "code",
   "execution_count": null,
   "id": "ac180178-3bfe-4aee-880e-1f445a9ba0fd",
   "metadata": {},
   "outputs": [],
   "source": [
    "# Compute centrality measures\n",
    "degree_centrality = nx.degree_centrality(G)\n",
    "betweenness_centrality = nx.betweenness_centrality(G)\n",
    "closeness_centrality = nx.closeness_centrality(G)\n",
    "eigenvector_centrality = nx.eigenvector_centrality(G, max_iter=1000)\n",
    "\n",
    "# Create DataFrame for comparison\n",
    "centrality_df = pd.DataFrame({\n",
    "    \"Node\": list(degree_centrality.keys()),\n",
    "    \"Degree Centrality\": list(degree_centrality.values()),\n",
    "    \"Betweenness Centrality\": list(betweenness_centrality.values()),\n",
    "    \"Closeness Centrality\": list(closeness_centrality.values()),\n",
    "    \"Eigenvector Centrality\": list(eigenvector_centrality.values())\n",
    "})\n",
    "\n",
    "# Sort by degree centrality\n",
    "centrality_df = centrality_df.sort_values(by=\"Degree Centrality\", ascending=False)\n",
    "print(\"\\nTop Nodes by Degree Centrality:\")\n",
    "print(centrality_df.head(10))"
   ]
  },
  {
   "cell_type": "markdown",
   "id": "7ed5fe3d-475a-4fce-99a5-1ed9521cc1ea",
   "metadata": {},
   "source": [
    "### **Step 4: Apply the PageRank Algorithm**"
   ]
  },
  {
   "cell_type": "code",
   "execution_count": null,
   "id": "f7b58880-1ef9-4f27-8c67-ae28b0f0eee4",
   "metadata": {},
   "outputs": [],
   "source": [
    "# Compute PageRank\n",
    "pagerank = nx.pagerank(G)\n",
    "\n",
    "# Convert to DataFrame\n",
    "pagerank_df = pd.DataFrame({\"Node\": list(pagerank.keys()), \"PageRank\": list(pagerank.values())})\n",
    "pagerank_df = pagerank_df.sort_values(by=\"PageRank\", ascending=False)\n",
    "\n",
    "# Display top nodes\n",
    "print(\"\\nTop 10 Nodes by PageRank:\")\n",
    "print(pagerank_df.head(10))"
   ]
  },
  {
   "cell_type": "markdown",
   "id": "89e37146-27e8-42fa-864e-7bf70b323c78",
   "metadata": {},
   "source": [
    "### **Step 5: Find Ego-Networks of Top Central Nodes**"
   ]
  },
  {
   "cell_type": "code",
   "execution_count": null,
   "id": "5e1cdae4-b6cf-48f9-9191-108c8a912e46",
   "metadata": {},
   "outputs": [],
   "source": [
    "# Find the most central node\n",
    "top_node = centrality_df.iloc[0][\"Node\"]\n",
    "\n",
    "# Extract ego-network\n",
    "ego = nx.ego_graph(G, top_node)\n",
    "\n",
    "# Plot ego-network\n",
    "plt.figure(figsize=(8, 6))\n",
    "pos = nx.spring_layout(ego, seed=42)\n",
    "nx.draw(ego, pos, with_labels=True, node_color='orange', edge_color='blue', node_size=400, font_size=7)\n",
    "plt.title(f\"Ego-Network of Node {top_node}\")\n",
    "plt.show()"
   ]
  }
 ],
 "metadata": {
  "kernelspec": {
   "display_name": "Python 3 (ipykernel)",
   "language": "python",
   "name": "python3"
  },
  "language_info": {
   "codemirror_mode": {
    "name": "ipython",
    "version": 3
   },
   "file_extension": ".py",
   "mimetype": "text/x-python",
   "name": "python",
   "nbconvert_exporter": "python",
   "pygments_lexer": "ipython3",
   "version": "3.10.6"
  }
 },
 "nbformat": 4,
 "nbformat_minor": 5
}
