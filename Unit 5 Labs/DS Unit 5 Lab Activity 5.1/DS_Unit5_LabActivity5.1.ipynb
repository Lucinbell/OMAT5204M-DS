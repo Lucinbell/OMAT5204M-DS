{
 "cells": [
  {
   "cell_type": "markdown",
   "metadata": {},
   "source": [
    "# Lab Activity 5.1. Least Squares solution for a simple 2d regression problem  \n",
    "\n",
    "In this activity, you will see how we can implement the least squares and apply it on synthetic data. The benefit is that we will see how the different coefficients used to create the data will surface as the weights of the least squares. In addition we will see how the noise will affect the exactness of the final solution that the least squares can produce.\n",
    "\n",
    "**Learning Outcomes**\n",
    "\n",
    "1. Implement a least squares solution using numpy only\n",
    "2. Apply the implemented solution on a synthetic data and examine the resultant weights\n"
   ]
  },
  {
   "cell_type": "code",
   "execution_count": 1,
   "metadata": {},
   "outputs": [],
   "source": [
    "import numpy as np\n",
    "from numpy.linalg import inv  # NumPy Linear algebra library\n",
    "import matplotlib.pyplot as plt\n",
    "import pandas as pd\n",
    "%matplotlib inline"
   ]
  },
  {
   "cell_type": "code",
   "execution_count": 2,
   "metadata": {},
   "outputs": [],
   "source": [
    "# generate the data\n",
    "def get_t( X, w_):\n",
    "    w_ = np.array(w_)\n",
    "    return  w_.dot(X)\n",
    "    \n",
    "def getData(w_, noise=0, n = 1000 ):\n",
    "    x1 = np.linspace(-10, 10, num = n)           # sampling uniformly from the x axis\n",
    "    x2 = np.random.normal(x1,5)                  # same but some noise to avoid matrix X^-1 singularity\n",
    "    X  = np.array([np.ones(len(x1)), x1, x2])    # design matrix here it is a transpose of what we have studied because it makes implementaiton slightly less cluttered\n",
    "    t  = get_t(X, w_)                            # get the target value\n",
    "    t  = np.random.normal(t,noise)               # add noise to the target to see the effect on the MSE\n",
    "    return X,t\n",
    "\n"
   ]
  },
  {
   "cell_type": "markdown",
   "metadata": {},
   "source": [
    "We will solve for both cases (with and without basis)"
   ]
  },
  {
   "cell_type": "markdown",
   "metadata": {},
   "source": [
    "## Generate the data first"
   ]
  },
  {
   "cell_type": "code",
   "execution_count": 3,
   "metadata": {},
   "outputs": [],
   "source": [
    "w_    = [10, 2, 5]  # original linear model weights to generate the data from and to compare later with w\n",
    "noise = 5\n",
    "X,t   = getData(w_, noise=noise, n=9) # try with and without noise and with and without basis\n"
   ]
  },
  {
   "cell_type": "code",
   "execution_count": 4,
   "metadata": {},
   "outputs": [],
   "source": [
    "#X1,t1 = X,t  #store\n",
    "#X,t = X1,t1  #retrieve"
   ]
  },
  {
   "cell_type": "markdown",
   "metadata": {},
   "source": [
    "## Least Squares Solution"
   ]
  },
  {
   "cell_type": "code",
   "execution_count": 4,
   "metadata": {},
   "outputs": [],
   "source": [
    "def getLS(X,t):                       # Least Squares Solution!\n",
    "    Xt = X.dot(t)\n",
    "    XX = inv(X.dot(X.T))\n",
    "        \n",
    "    XX = np.round(XX,4)\n",
    "    Xt = np.round(Xt,2)\n",
    "    \n",
    "    w  = XX.dot(Xt)\n",
    "    w  = np.round(w,2)\n",
    "    \n",
    "    #print(XX*100)\n",
    "    #print(Xt)\n",
    "    #print(w)\n",
    "    \n",
    "    return w"
   ]
  },
  {
   "cell_type": "markdown",
   "metadata": {},
   "source": [
    "## Now apply the Least Squares on the Generated Dataset"
   ]
  },
  {
   "cell_type": "markdown",
   "metadata": {},
   "source": [
    "Now let us try it ......................!"
   ]
  },
  {
   "cell_type": "code",
   "execution_count": 5,
   "metadata": {
    "scrolled": true
   },
   "outputs": [],
   "source": [
    "def applyLST(X,t):    \n",
    "    w   = getLS(X,t)                            # solve using least squares\n",
    "    y   = get_t(X, w)                           # predict using the solution\n",
    "   \n",
    "    RMSE = np.sqrt(((t - y)**2).sum()/len(t))   # get the Sqrt(Mean Sum of Squared Error)\n",
    "    return y, w, RMSE\n",
    "\n",
    "y, w, RMSE = applyLST(X,t)\n"
   ]
  },
  {
   "cell_type": "markdown",
   "metadata": {},
   "source": [
    "Now compare between the fitted model weights and the original weights used to create the dataset (remember we added noise so there is no prefect solution)"
   ]
  },
  {
   "cell_type": "code",
   "execution_count": 6,
   "metadata": {},
   "outputs": [
    {
     "name": "stdout",
     "output_type": "stream",
     "text": [
      "[10.01  1.41  5.23]\n",
      "[10, 2, 5]\n",
      "RMSE 4.06\n",
      "5\n"
     ]
    }
   ],
   "source": [
    "print(w)\n",
    "print(w_)\n",
    "print('RMSE',np.round(RMSE,2))\n",
    "print(noise)                                # note how close RMSE is to the noise (when data is enough and for reasonable noise values < 100)\n",
    "                                            # there is a reason for this, see the last lesson in the unit"
   ]
  },
  {
   "cell_type": "markdown",
   "metadata": {},
   "source": [
    "Note that the interpretation of the above results depends on the printed outputs: the weights (`w`), the root mean squared error (`RMSE`), and the noise (`noise`). As a remaider, here's a detailed breakdown of the key components of the code:\n",
    "\n",
    "**1. Weights (`w`).** This represents the estimated weights or coefficients for the regression model, calculated using the least squares method. These weights represent the contribution of each feature in $X$ to predicting the target $t$. If the data was generated with known true weights (`w_`), you can compare `w` and `w_`. **Close match** indicates the least squares method successfully captured the true relationship between the features and the target. But **Large difference** could be due to high noise, insufficient data, or poor feature representation.\n",
    "        \n",
    "**2. Root Mean Squared Error (`RMSE`).** The average error between the predicted values ($y$) and the true target values ($t$). The formula used is:\n",
    "  $$\n",
    "  RMSE = \\sqrt{\\frac{1}{N} \\sum_{i=1}^N (t_i - y_i)^2}\n",
    "  $$\n",
    "- **Interpretation**:\n",
    "    - **Low RMSE**: Indicates the model is accurately predicting the target values, and the error is mainly due to noise.\n",
    "    - **RMSE ≈ Noise**: If the RMSE value is close to the level of noise added to the data during its generation, this confirms the least squares method has effectively captured the true underlying relationship. The remaining error is purely due to noise.\n",
    "    - **High RMSE**: Suggests the model struggled to fit the data. This could result from high noise, non-linearity in the data (not suited for least squares), or insufficient data.\n",
    "\n",
    "**3. Noise.** The level of random variation added to the target values during data generation. The noise reflects the level of distortion or randomness in the data. Comparing `RMSE` with `noise` gives insight into model performance:  \n",
    "- **RMSE ≈ Noise**: The model has successfully modeled the signal, and the remaining error is attributed to noise.\n",
    "- **RMSE > Noise**: Indicates the model is underperforming, possibly due to insufficient data, overfitting, or an inadequate model structure.\n",
    "\n",
    "In general, the results from the code should validate the ability of the least squares method to recover the true underlying relationship between $X$ and $t$, provided the data is sufficient and noise is reasonable. Comparing `w`, `w_`, RMSE, and `noise` helps to evaluate the effectiveness of the model and understand the impact of noise on the prediction accuracy. So analyse the results to get the right isnight from the results. "
   ]
  },
  {
   "cell_type": "markdown",
   "metadata": {},
   "source": [
    "## Visualize \n",
    "Both attributes x1 and x2 in 2d, we may want to create a better visualization by plotting in 3d (x1, x2, y)"
   ]
  },
  {
   "cell_type": "markdown",
   "metadata": {},
   "source": [
    "Below we can realise that although Least squares is an exact solution (for the given data), the two lines may differ due to the added noise and not due to approximation."
   ]
  },
  {
   "cell_type": "code",
   "execution_count": 7,
   "metadata": {},
   "outputs": [
    {
     "data": {
      "text/plain": [
       "<matplotlib.legend.Legend at 0x1cbe3d14430>"
      ]
     },
     "execution_count": 7,
     "metadata": {},
     "output_type": "execute_result"
    },
    {
     "data": {
      "image/png": "[encoded data removed]",
      "text/plain": [
       "<Figure size 640x480 with 1 Axes>"
      ]
     },
     "metadata": {},
     "output_type": "display_data"
    }
   ],
   "source": [
    "plt.plot(X[1],t,'.', label='x1 vs t')\n",
    "plt.plot(X[2],t,'x', label='x2 vs t')\n",
    "x1 = np.linspace(-20, 10, num = 9)\n",
    "X1 = np.array([np.ones(len(x1)), x1, x1])\n",
    "plt.plot(x1, get_t( X1, w_),'-' , label='Data generation Model')\n",
    "plt.plot(x1, get_t( X1, w ),'--', label='Least Squares Solution')\n",
    "plt.legend()\n"
   ]
  },
  {
   "cell_type": "markdown",
   "metadata": {},
   "source": [
    "Create a data frame and store the dataset in a csv file"
   ]
  },
  {
   "cell_type": "code",
   "execution_count": 8,
   "metadata": {
    "scrolled": true
   },
   "outputs": [
    {
     "name": "stdout",
     "output_type": "stream",
     "text": [
      "    x0    x1     x2      t      y\n",
      "0  1.0 -10.0 -10.55 -52.99 -59.28\n",
      "1  1.0  -7.5 -12.30 -73.37 -64.88\n",
      "2  1.0  -5.0   0.11   4.43   3.52\n",
      "3  1.0  -2.5  -0.21   3.05   5.41\n",
      "4  1.0   0.0  -3.84  -5.34 -10.08\n",
      "5  1.0   2.5   2.22  22.60  25.16\n",
      "6  1.0   5.0  -2.52   4.41   3.87\n",
      "7  1.0   7.5   9.43  69.06  69.88\n",
      "8  1.0  10.0   5.10  50.69  50.76\n"
     ]
    }
   ],
   "source": [
    "data = np.vstack((X,t,y)).T\n",
    "df = pd.DataFrame(np.round(data,2), columns=['x0','x1','x2', 't', 'y'])\n",
    "df.to_csv('simpleData.csv')\n",
    "print(df)# [50:55])"
   ]
  },
  {
   "cell_type": "code",
   "execution_count": null,
   "metadata": {},
   "outputs": [],
   "source": []
  }
 ],
 "metadata": {
  "kernelspec": {
   "display_name": "base",
   "language": "python",
   "name": "python3"
  },
  "language_info": {
   "codemirror_mode": {
    "name": "ipython",
    "version": 3
   },
   "file_extension": ".py",
   "mimetype": "text/x-python",
   "name": "python",
   "nbconvert_exporter": "python",
   "pygments_lexer": "ipython3",
   "version": "3.9.21"
  }
 },
 "nbformat": 4,
 "nbformat_minor": 4
}
