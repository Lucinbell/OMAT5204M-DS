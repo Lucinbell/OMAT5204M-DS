{
 "cells": [
  {
   "cell_type": "markdown",
   "metadata": {},
   "source": [
    "# DS Lab Activity 1.2. Data Preparation, Querying and Visualisation\n",
    "_________\n",
    "\n",
    "In this activity, you will prepare the titanic dataset for further processing in later units.\n",
    "\n",
    "**Learning Outcomes**\n",
    "1. be familiar with common data preparation procedures in pandas\n",
    "1. perform group by and other SQL-like procedures in pandas\n",
    "1. visualise the data and get insight from your visualisation\n"
   ]
  },
  {
   "cell_type": "markdown",
   "metadata": {},
   "source": [
    "To be able to follow this exercise you will need a csv file. This is the data for the passengers who boarded the famous Titanic ship (first and last) journey.\n",
    "\n",
    "1. Either the file is assumed to be located within the 'data' directory within the same root directory of this notebook. \n",
    "2. Or it can be read/downloaded directly from https://raw.githubusercontent.com/pandas-dev/pandas/master/doc/data/titanic.csv. \n",
    "The code is provided for both below (one is commented out)\n"
   ]
  },
  {
   "cell_type": "markdown",
   "metadata": {},
   "source": [
    "# Data Preparation"
   ]
  },
  {
   "cell_type": "code",
   "execution_count": 1,
   "metadata": {},
   "outputs": [
    {
     "data": {
      "text/html": [
       "<style>.container {width: 85% !important}</style>"
      ],
      "text/plain": [
       "<IPython.core.display.HTML object>"
      ]
     },
     "metadata": {},
     "output_type": "display_data"
    }
   ],
   "source": [
    "%matplotlib inline\n",
    "from IPython.display import display, HTML\n",
    "display(HTML('<style>.container {width: 85% !important}</style>'))"
   ]
  },
  {
   "cell_type": "code",
   "execution_count": 2,
   "metadata": {},
   "outputs": [],
   "source": [
    "import pandas as pd\n",
    "import numpy as np\n",
    "import matplotlib.pyplot as plt"
   ]
  },
  {
   "cell_type": "markdown",
   "metadata": {},
   "source": [
    "## Loading a CSV file"
   ]
  },
  {
   "cell_type": "markdown",
   "metadata": {},
   "source": [
    "Let us see how we can load the data from a file, particularly from a comma-separated values-csv text file. CSV files are very common data formatting files. Their power lies within their simplicity. In pandas, reading a csv file is done using the read_csv() function.\n",
    "We will load a titanic.csv file.\n"
   ]
  },
  {
   "cell_type": "code",
   "execution_count": 3,
   "metadata": {},
   "outputs": [],
   "source": [
    "titanic = pd.read_csv('datasets/titanic.csv') # use this if you want to retrieve a local copy of the titanic data\n",
    "#titanic = pd.read_csv('https://raw.githubusercontent.com/pandas-dev/pandas/master/doc/data/titanic.csv') # use this to retrieve the titanic data online\n",
    "titanic_org = titanic.copy() # keeping a copy for experimentation"
   ]
  },
  {
   "cell_type": "markdown",
   "metadata": {},
   "source": [
    "To view the first five or n records of the titanic DataFrame we can use the head() or head(n) function:"
   ]
  },
  {
   "cell_type": "code",
   "execution_count": 4,
   "metadata": {},
   "outputs": [
    {
     "data": {
      "application/vnd.microsoft.datawrangler.viewer.v0+json": {
       "columns": [
        {
         "name": "index",
         "rawType": "int64",
         "type": "integer"
        },
        {
         "name": "Unnamed: 0",
         "rawType": "int64",
         "type": "integer"
        },
        {
         "name": "PassengerId",
         "rawType": "int64",
         "type": "integer"
        },
        {
         "name": "Survived",
         "rawType": "int64",
         "type": "integer"
        },
        {
         "name": "Pclass",
         "rawType": "int64",
         "type": "integer"
        },
        {
         "name": "Name",
         "rawType": "object",
         "type": "string"
        },
        {
         "name": "Sex",
         "rawType": "object",
         "type": "string"
        },
        {
         "name": "Age",
         "rawType": "float64",
         "type": "float"
        },
        {
         "name": "SibSp",
         "rawType": "int64",
         "type": "integer"
        },
        {
         "name": "Parch",
         "rawType": "int64",
         "type": "integer"
        },
        {
         "name": "Ticket",
         "rawType": "object",
         "type": "string"
        },
        {
         "name": "Fare",
         "rawType": "float64",
         "type": "float"
        },
        {
         "name": "Cabin",
         "rawType": "object",
         "type": "string"
        },
        {
         "name": "Embarked",
         "rawType": "object",
         "type": "string"
        },
        {
         "name": "FareAgeRatio",
         "rawType": "float64",
         "type": "float"
        },
        {
         "name": "AgeRescaled",
         "rawType": "float64",
         "type": "float"
        },
        {
         "name": "FareRescaled",
         "rawType": "float64",
         "type": "float"
        }
       ],
       "conversionMethod": "pd.DataFrame",
       "ref": "79f794b3-e746-4829-b847-798b4edac5b1",
       "rows": [
        [
         "0",
         "305",
         "306",
         "1",
         "1",
         "Allison, Master Hudson Trevor",
         "male",
         "0.92",
         "1",
         "2",
         "113781",
         "151.55",
         "C22 C26",
         "S",
         "0.0060706037611349",
         "0.0062829856747926",
         "0.2958058998003627"
        ],
        [
         "1",
         "297",
         "298",
         "0",
         "1",
         "Allison, Miss Helen Loraine",
         "female",
         "2.0",
         "1",
         "2",
         "113781",
         "151.55",
         "C22 C26",
         "S",
         "0.0131969646981194",
         "0.0198542347323448",
         "0.2958058998003627"
        ],
        [
         "2",
         "386",
         "387",
         "0",
         "3",
         "Goodwin, Master Sidney Leonard",
         "male",
         "1.0",
         "5",
         "2",
         "CA 2144",
         "46.9",
         null,
         "S",
         "0.021321961620469",
         "0.0072882633827594",
         "0.0915427034024217"
        ],
        [
         "3",
         "164",
         "165",
         "0",
         "3",
         "Panula, Master Eino Viljami",
         "male",
         "1.0",
         "4",
         "1",
         "3101295",
         "39.6875",
         null,
         "S",
         "0.0251968503937007",
         "0.0072882633827594",
         "0.0774648409655354"
        ],
        [
         "4",
         "183",
         "184",
         "1",
         "2",
         "Becker, Master Richard F",
         "male",
         "1.0",
         "2",
         "1",
         "230136",
         "39.0",
         "F4",
         "S",
         "0.0256410256410256",
         "0.0072882633827594",
         "0.0761229303346364"
        ]
       ],
       "shape": {
        "columns": 16,
        "rows": 5
       }
      },
      "text/html": [
       "<div>\n",
       "<style scoped>\n",
       "    .dataframe tbody tr th:only-of-type {\n",
       "        vertical-align: middle;\n",
       "    }\n",
       "\n",
       "    .dataframe tbody tr th {\n",
       "        vertical-align: top;\n",
       "    }\n",
       "\n",
       "    .dataframe thead th {\n",
       "        text-align: right;\n",
       "    }\n",
       "</style>\n",
       "<table border=\"1\" class=\"dataframe\">\n",
       "  <thead>\n",
       "    <tr style=\"text-align: right;\">\n",
       "      <th></th>\n",
       "      <th>Unnamed: 0</th>\n",
       "      <th>PassengerId</th>\n",
       "      <th>Survived</th>\n",
       "      <th>Pclass</th>\n",
       "      <th>Name</th>\n",
       "      <th>Sex</th>\n",
       "      <th>Age</th>\n",
       "      <th>SibSp</th>\n",
       "      <th>Parch</th>\n",
       "      <th>Ticket</th>\n",
       "      <th>Fare</th>\n",
       "      <th>Cabin</th>\n",
       "      <th>Embarked</th>\n",
       "      <th>FareAgeRatio</th>\n",
       "      <th>AgeRescaled</th>\n",
       "      <th>FareRescaled</th>\n",
       "    </tr>\n",
       "  </thead>\n",
       "  <tbody>\n",
       "    <tr>\n",
       "      <th>0</th>\n",
       "      <td>305</td>\n",
       "      <td>306</td>\n",
       "      <td>1</td>\n",
       "      <td>1</td>\n",
       "      <td>Allison, Master Hudson Trevor</td>\n",
       "      <td>male</td>\n",
       "      <td>0.92</td>\n",
       "      <td>1</td>\n",
       "      <td>2</td>\n",
       "      <td>113781</td>\n",
       "      <td>151.5500</td>\n",
       "      <td>C22 C26</td>\n",
       "      <td>S</td>\n",
       "      <td>0.006071</td>\n",
       "      <td>0.006283</td>\n",
       "      <td>0.295806</td>\n",
       "    </tr>\n",
       "    <tr>\n",
       "      <th>1</th>\n",
       "      <td>297</td>\n",
       "      <td>298</td>\n",
       "      <td>0</td>\n",
       "      <td>1</td>\n",
       "      <td>Allison, Miss Helen Loraine</td>\n",
       "      <td>female</td>\n",
       "      <td>2.00</td>\n",
       "      <td>1</td>\n",
       "      <td>2</td>\n",
       "      <td>113781</td>\n",
       "      <td>151.5500</td>\n",
       "      <td>C22 C26</td>\n",
       "      <td>S</td>\n",
       "      <td>0.013197</td>\n",
       "      <td>0.019854</td>\n",
       "      <td>0.295806</td>\n",
       "    </tr>\n",
       "    <tr>\n",
       "      <th>2</th>\n",
       "      <td>386</td>\n",
       "      <td>387</td>\n",
       "      <td>0</td>\n",
       "      <td>3</td>\n",
       "      <td>Goodwin, Master Sidney Leonard</td>\n",
       "      <td>male</td>\n",
       "      <td>1.00</td>\n",
       "      <td>5</td>\n",
       "      <td>2</td>\n",
       "      <td>CA 2144</td>\n",
       "      <td>46.9000</td>\n",
       "      <td>NaN</td>\n",
       "      <td>S</td>\n",
       "      <td>0.021322</td>\n",
       "      <td>0.007288</td>\n",
       "      <td>0.091543</td>\n",
       "    </tr>\n",
       "    <tr>\n",
       "      <th>3</th>\n",
       "      <td>164</td>\n",
       "      <td>165</td>\n",
       "      <td>0</td>\n",
       "      <td>3</td>\n",
       "      <td>Panula, Master Eino Viljami</td>\n",
       "      <td>male</td>\n",
       "      <td>1.00</td>\n",
       "      <td>4</td>\n",
       "      <td>1</td>\n",
       "      <td>3101295</td>\n",
       "      <td>39.6875</td>\n",
       "      <td>NaN</td>\n",
       "      <td>S</td>\n",
       "      <td>0.025197</td>\n",
       "      <td>0.007288</td>\n",
       "      <td>0.077465</td>\n",
       "    </tr>\n",
       "    <tr>\n",
       "      <th>4</th>\n",
       "      <td>183</td>\n",
       "      <td>184</td>\n",
       "      <td>1</td>\n",
       "      <td>2</td>\n",
       "      <td>Becker, Master Richard F</td>\n",
       "      <td>male</td>\n",
       "      <td>1.00</td>\n",
       "      <td>2</td>\n",
       "      <td>1</td>\n",
       "      <td>230136</td>\n",
       "      <td>39.0000</td>\n",
       "      <td>F4</td>\n",
       "      <td>S</td>\n",
       "      <td>0.025641</td>\n",
       "      <td>0.007288</td>\n",
       "      <td>0.076123</td>\n",
       "    </tr>\n",
       "  </tbody>\n",
       "</table>\n",
       "</div>"
      ],
      "text/plain": [
       "   Unnamed: 0  PassengerId  Survived  Pclass                            Name  \\\n",
       "0         305          306         1       1   Allison, Master Hudson Trevor   \n",
       "1         297          298         0       1     Allison, Miss Helen Loraine   \n",
       "2         386          387         0       3  Goodwin, Master Sidney Leonard   \n",
       "3         164          165         0       3     Panula, Master Eino Viljami   \n",
       "4         183          184         1       2        Becker, Master Richard F   \n",
       "\n",
       "      Sex   Age  SibSp  Parch   Ticket      Fare    Cabin Embarked  \\\n",
       "0    male  0.92      1      2   113781  151.5500  C22 C26        S   \n",
       "1  female  2.00      1      2   113781  151.5500  C22 C26        S   \n",
       "2    male  1.00      5      2  CA 2144   46.9000      NaN        S   \n",
       "3    male  1.00      4      1  3101295   39.6875      NaN        S   \n",
       "4    male  1.00      2      1   230136   39.0000       F4        S   \n",
       "\n",
       "   FareAgeRatio  AgeRescaled  FareRescaled  \n",
       "0      0.006071     0.006283      0.295806  \n",
       "1      0.013197     0.019854      0.295806  \n",
       "2      0.021322     0.007288      0.091543  \n",
       "3      0.025197     0.007288      0.077465  \n",
       "4      0.025641     0.007288      0.076123  "
      ]
     },
     "execution_count": 4,
     "metadata": {},
     "output_type": "execute_result"
    }
   ],
   "source": [
    "titanic.head()"
   ]
  },
  {
   "cell_type": "markdown",
   "metadata": {},
   "source": [
    "A few words about the dataset: The ‘SibSp’ represents the number of siblings and/or spouses that are on board with the passenger, while the ‘parch’ represents the number of parents and/or children that are on board with the passenger. ‘Embarked’ is the port that the passenger embarked from to the ship. The most important field is 'Survived' which indicates whether a passenger has survived the trip or not. For a classification problem, this is called the label."
   ]
  },
  {
   "cell_type": "code",
   "execution_count": 5,
   "metadata": {},
   "outputs": [
    {
     "data": {
      "application/vnd.microsoft.datawrangler.viewer.v0+json": {
       "columns": [
        {
         "name": "index",
         "rawType": "int64",
         "type": "integer"
        },
        {
         "name": "Unnamed: 0",
         "rawType": "int64",
         "type": "integer"
        },
        {
         "name": "PassengerId",
         "rawType": "int64",
         "type": "integer"
        },
        {
         "name": "Survived",
         "rawType": "int64",
         "type": "integer"
        },
        {
         "name": "Pclass",
         "rawType": "int64",
         "type": "integer"
        },
        {
         "name": "Name",
         "rawType": "object",
         "type": "string"
        },
        {
         "name": "Sex",
         "rawType": "object",
         "type": "string"
        },
        {
         "name": "Age",
         "rawType": "float64",
         "type": "float"
        },
        {
         "name": "SibSp",
         "rawType": "int64",
         "type": "integer"
        },
        {
         "name": "Parch",
         "rawType": "int64",
         "type": "integer"
        },
        {
         "name": "Ticket",
         "rawType": "object",
         "type": "string"
        },
        {
         "name": "Fare",
         "rawType": "float64",
         "type": "float"
        },
        {
         "name": "Cabin",
         "rawType": "object",
         "type": "string"
        },
        {
         "name": "Embarked",
         "rawType": "object",
         "type": "string"
        },
        {
         "name": "FareAgeRatio",
         "rawType": "float64",
         "type": "float"
        },
        {
         "name": "AgeRescaled",
         "rawType": "float64",
         "type": "float"
        },
        {
         "name": "FareRescaled",
         "rawType": "float64",
         "type": "float"
        }
       ],
       "conversionMethod": "pd.DataFrame",
       "ref": "e7106c05-6977-41cb-b0f5-e4c51f4c1751",
       "rows": [
        [
         "0",
         "305",
         "306",
         "1",
         "1",
         "Allison, Master Hudson Trevor",
         "male",
         "0.92",
         "1",
         "2",
         "113781",
         "151.55",
         "C22 C26",
         "S",
         "0.0060706037611349",
         "0.0062829856747926",
         "0.2958058998003627"
        ],
        [
         "1",
         "297",
         "298",
         "0",
         "1",
         "Allison, Miss Helen Loraine",
         "female",
         "2.0",
         "1",
         "2",
         "113781",
         "151.55",
         "C22 C26",
         "S",
         "0.0131969646981194",
         "0.0198542347323448",
         "0.2958058998003627"
        ],
        [
         "2",
         "386",
         "387",
         "0",
         "3",
         "Goodwin, Master Sidney Leonard",
         "male",
         "1.0",
         "5",
         "2",
         "CA 2144",
         "46.9",
         null,
         "S",
         "0.021321961620469",
         "0.0072882633827594",
         "0.0915427034024217"
        ],
        [
         "3",
         "164",
         "165",
         "0",
         "3",
         "Panula, Master Eino Viljami",
         "male",
         "1.0",
         "4",
         "1",
         "3101295",
         "39.6875",
         null,
         "S",
         "0.0251968503937007",
         "0.0072882633827594",
         "0.0774648409655354"
        ],
        [
         "4",
         "183",
         "184",
         "1",
         "2",
         "Becker, Master Richard F",
         "male",
         "1.0",
         "2",
         "1",
         "230136",
         "39.0",
         "F4",
         "S",
         "0.0256410256410256",
         "0.0072882633827594",
         "0.0761229303346364"
        ],
        [
         "5",
         "827",
         "828",
         "1",
         "2",
         "Mallet, Master Andre",
         "male",
         "1.0",
         "0",
         "2",
         "S.C./PARIS 2079",
         "37.0042",
         null,
         "C",
         "0.0270239594424416",
         "0.0072882633827594",
         "0.0722273881715115"
        ],
        [
         "6",
         "78",
         "79",
         "1",
         "2",
         "Caldwell, Master Alden Gates",
         "male",
         "0.83",
         "0",
         "2",
         "248738",
         "29.0",
         null,
         "S",
         "0.0286206896551724",
         "0.0051520482533299",
         "0.0566042302488321"
        ],
        [
         "7",
         "469",
         "470",
         "1",
         "3",
         "Baclini, Miss Helene Barbara",
         "female",
         "0.75",
         "2",
         "1",
         "2666",
         "19.2583",
         null,
         "C",
         "0.0389442474154001",
         "0.0041467705453631",
         "0.0375896981862443"
        ],
        [
         "8",
         "644",
         "645",
         "1",
         "3",
         "Baclini, Miss Eugenie",
         "female",
         "0.75",
         "2",
         "1",
         "2666",
         "19.2583",
         null,
         "C",
         "0.0389442474154001",
         "0.0041467705453631",
         "0.0375896981862443"
        ],
        [
         "9",
         "831",
         "832",
         "1",
         "2",
         "Richards, Master George Sibley",
         "male",
         "0.83",
         "1",
         "1",
         "29106",
         "18.75",
         null,
         "S",
         "0.0442666666666666",
         "0.0051520482533299",
         "0.0365975626608828"
        ]
       ],
       "shape": {
        "columns": 16,
        "rows": 10
       }
      },
      "text/html": [
       "<div>\n",
       "<style scoped>\n",
       "    .dataframe tbody tr th:only-of-type {\n",
       "        vertical-align: middle;\n",
       "    }\n",
       "\n",
       "    .dataframe tbody tr th {\n",
       "        vertical-align: top;\n",
       "    }\n",
       "\n",
       "    .dataframe thead th {\n",
       "        text-align: right;\n",
       "    }\n",
       "</style>\n",
       "<table border=\"1\" class=\"dataframe\">\n",
       "  <thead>\n",
       "    <tr style=\"text-align: right;\">\n",
       "      <th></th>\n",
       "      <th>Unnamed: 0</th>\n",
       "      <th>PassengerId</th>\n",
       "      <th>Survived</th>\n",
       "      <th>Pclass</th>\n",
       "      <th>Name</th>\n",
       "      <th>Sex</th>\n",
       "      <th>Age</th>\n",
       "      <th>SibSp</th>\n",
       "      <th>Parch</th>\n",
       "      <th>Ticket</th>\n",
       "      <th>Fare</th>\n",
       "      <th>Cabin</th>\n",
       "      <th>Embarked</th>\n",
       "      <th>FareAgeRatio</th>\n",
       "      <th>AgeRescaled</th>\n",
       "      <th>FareRescaled</th>\n",
       "    </tr>\n",
       "  </thead>\n",
       "  <tbody>\n",
       "    <tr>\n",
       "      <th>0</th>\n",
       "      <td>305</td>\n",
       "      <td>306</td>\n",
       "      <td>1</td>\n",
       "      <td>1</td>\n",
       "      <td>Allison, Master Hudson Trevor</td>\n",
       "      <td>male</td>\n",
       "      <td>0.92</td>\n",
       "      <td>1</td>\n",
       "      <td>2</td>\n",
       "      <td>113781</td>\n",
       "      <td>151.5500</td>\n",
       "      <td>C22 C26</td>\n",
       "      <td>S</td>\n",
       "      <td>0.006071</td>\n",
       "      <td>0.006283</td>\n",
       "      <td>0.295806</td>\n",
       "    </tr>\n",
       "    <tr>\n",
       "      <th>1</th>\n",
       "      <td>297</td>\n",
       "      <td>298</td>\n",
       "      <td>0</td>\n",
       "      <td>1</td>\n",
       "      <td>Allison, Miss Helen Loraine</td>\n",
       "      <td>female</td>\n",
       "      <td>2.00</td>\n",
       "      <td>1</td>\n",
       "      <td>2</td>\n",
       "      <td>113781</td>\n",
       "      <td>151.5500</td>\n",
       "      <td>C22 C26</td>\n",
       "      <td>S</td>\n",
       "      <td>0.013197</td>\n",
       "      <td>0.019854</td>\n",
       "      <td>0.295806</td>\n",
       "    </tr>\n",
       "    <tr>\n",
       "      <th>2</th>\n",
       "      <td>386</td>\n",
       "      <td>387</td>\n",
       "      <td>0</td>\n",
       "      <td>3</td>\n",
       "      <td>Goodwin, Master Sidney Leonard</td>\n",
       "      <td>male</td>\n",
       "      <td>1.00</td>\n",
       "      <td>5</td>\n",
       "      <td>2</td>\n",
       "      <td>CA 2144</td>\n",
       "      <td>46.9000</td>\n",
       "      <td>NaN</td>\n",
       "      <td>S</td>\n",
       "      <td>0.021322</td>\n",
       "      <td>0.007288</td>\n",
       "      <td>0.091543</td>\n",
       "    </tr>\n",
       "    <tr>\n",
       "      <th>3</th>\n",
       "      <td>164</td>\n",
       "      <td>165</td>\n",
       "      <td>0</td>\n",
       "      <td>3</td>\n",
       "      <td>Panula, Master Eino Viljami</td>\n",
       "      <td>male</td>\n",
       "      <td>1.00</td>\n",
       "      <td>4</td>\n",
       "      <td>1</td>\n",
       "      <td>3101295</td>\n",
       "      <td>39.6875</td>\n",
       "      <td>NaN</td>\n",
       "      <td>S</td>\n",
       "      <td>0.025197</td>\n",
       "      <td>0.007288</td>\n",
       "      <td>0.077465</td>\n",
       "    </tr>\n",
       "    <tr>\n",
       "      <th>4</th>\n",
       "      <td>183</td>\n",
       "      <td>184</td>\n",
       "      <td>1</td>\n",
       "      <td>2</td>\n",
       "      <td>Becker, Master Richard F</td>\n",
       "      <td>male</td>\n",
       "      <td>1.00</td>\n",
       "      <td>2</td>\n",
       "      <td>1</td>\n",
       "      <td>230136</td>\n",
       "      <td>39.0000</td>\n",
       "      <td>F4</td>\n",
       "      <td>S</td>\n",
       "      <td>0.025641</td>\n",
       "      <td>0.007288</td>\n",
       "      <td>0.076123</td>\n",
       "    </tr>\n",
       "    <tr>\n",
       "      <th>5</th>\n",
       "      <td>827</td>\n",
       "      <td>828</td>\n",
       "      <td>1</td>\n",
       "      <td>2</td>\n",
       "      <td>Mallet, Master Andre</td>\n",
       "      <td>male</td>\n",
       "      <td>1.00</td>\n",
       "      <td>0</td>\n",
       "      <td>2</td>\n",
       "      <td>S.C./PARIS 2079</td>\n",
       "      <td>37.0042</td>\n",
       "      <td>NaN</td>\n",
       "      <td>C</td>\n",
       "      <td>0.027024</td>\n",
       "      <td>0.007288</td>\n",
       "      <td>0.072227</td>\n",
       "    </tr>\n",
       "    <tr>\n",
       "      <th>6</th>\n",
       "      <td>78</td>\n",
       "      <td>79</td>\n",
       "      <td>1</td>\n",
       "      <td>2</td>\n",
       "      <td>Caldwell, Master Alden Gates</td>\n",
       "      <td>male</td>\n",
       "      <td>0.83</td>\n",
       "      <td>0</td>\n",
       "      <td>2</td>\n",
       "      <td>248738</td>\n",
       "      <td>29.0000</td>\n",
       "      <td>NaN</td>\n",
       "      <td>S</td>\n",
       "      <td>0.028621</td>\n",
       "      <td>0.005152</td>\n",
       "      <td>0.056604</td>\n",
       "    </tr>\n",
       "    <tr>\n",
       "      <th>7</th>\n",
       "      <td>469</td>\n",
       "      <td>470</td>\n",
       "      <td>1</td>\n",
       "      <td>3</td>\n",
       "      <td>Baclini, Miss Helene Barbara</td>\n",
       "      <td>female</td>\n",
       "      <td>0.75</td>\n",
       "      <td>2</td>\n",
       "      <td>1</td>\n",
       "      <td>2666</td>\n",
       "      <td>19.2583</td>\n",
       "      <td>NaN</td>\n",
       "      <td>C</td>\n",
       "      <td>0.038944</td>\n",
       "      <td>0.004147</td>\n",
       "      <td>0.037590</td>\n",
       "    </tr>\n",
       "    <tr>\n",
       "      <th>8</th>\n",
       "      <td>644</td>\n",
       "      <td>645</td>\n",
       "      <td>1</td>\n",
       "      <td>3</td>\n",
       "      <td>Baclini, Miss Eugenie</td>\n",
       "      <td>female</td>\n",
       "      <td>0.75</td>\n",
       "      <td>2</td>\n",
       "      <td>1</td>\n",
       "      <td>2666</td>\n",
       "      <td>19.2583</td>\n",
       "      <td>NaN</td>\n",
       "      <td>C</td>\n",
       "      <td>0.038944</td>\n",
       "      <td>0.004147</td>\n",
       "      <td>0.037590</td>\n",
       "    </tr>\n",
       "    <tr>\n",
       "      <th>9</th>\n",
       "      <td>831</td>\n",
       "      <td>832</td>\n",
       "      <td>1</td>\n",
       "      <td>2</td>\n",
       "      <td>Richards, Master George Sibley</td>\n",
       "      <td>male</td>\n",
       "      <td>0.83</td>\n",
       "      <td>1</td>\n",
       "      <td>1</td>\n",
       "      <td>29106</td>\n",
       "      <td>18.7500</td>\n",
       "      <td>NaN</td>\n",
       "      <td>S</td>\n",
       "      <td>0.044267</td>\n",
       "      <td>0.005152</td>\n",
       "      <td>0.036598</td>\n",
       "    </tr>\n",
       "  </tbody>\n",
       "</table>\n",
       "</div>"
      ],
      "text/plain": [
       "   Unnamed: 0  PassengerId  Survived  Pclass                            Name  \\\n",
       "0         305          306         1       1   Allison, Master Hudson Trevor   \n",
       "1         297          298         0       1     Allison, Miss Helen Loraine   \n",
       "2         386          387         0       3  Goodwin, Master Sidney Leonard   \n",
       "3         164          165         0       3     Panula, Master Eino Viljami   \n",
       "4         183          184         1       2        Becker, Master Richard F   \n",
       "5         827          828         1       2            Mallet, Master Andre   \n",
       "6          78           79         1       2    Caldwell, Master Alden Gates   \n",
       "7         469          470         1       3    Baclini, Miss Helene Barbara   \n",
       "8         644          645         1       3           Baclini, Miss Eugenie   \n",
       "9         831          832         1       2  Richards, Master George Sibley   \n",
       "\n",
       "      Sex   Age  SibSp  Parch           Ticket      Fare    Cabin Embarked  \\\n",
       "0    male  0.92      1      2           113781  151.5500  C22 C26        S   \n",
       "1  female  2.00      1      2           113781  151.5500  C22 C26        S   \n",
       "2    male  1.00      5      2          CA 2144   46.9000      NaN        S   \n",
       "3    male  1.00      4      1          3101295   39.6875      NaN        S   \n",
       "4    male  1.00      2      1           230136   39.0000       F4        S   \n",
       "5    male  1.00      0      2  S.C./PARIS 2079   37.0042      NaN        C   \n",
       "6    male  0.83      0      2           248738   29.0000      NaN        S   \n",
       "7  female  0.75      2      1             2666   19.2583      NaN        C   \n",
       "8  female  0.75      2      1             2666   19.2583      NaN        C   \n",
       "9    male  0.83      1      1            29106   18.7500      NaN        S   \n",
       "\n",
       "   FareAgeRatio  AgeRescaled  FareRescaled  \n",
       "0      0.006071     0.006283      0.295806  \n",
       "1      0.013197     0.019854      0.295806  \n",
       "2      0.021322     0.007288      0.091543  \n",
       "3      0.025197     0.007288      0.077465  \n",
       "4      0.025641     0.007288      0.076123  \n",
       "5      0.027024     0.007288      0.072227  \n",
       "6      0.028621     0.005152      0.056604  \n",
       "7      0.038944     0.004147      0.037590  \n",
       "8      0.038944     0.004147      0.037590  \n",
       "9      0.044267     0.005152      0.036598  "
      ]
     },
     "execution_count": 5,
     "metadata": {},
     "output_type": "execute_result"
    }
   ],
   "source": [
    "titanic.head(10)"
   ]
  },
  {
   "cell_type": "markdown",
   "metadata": {},
   "source": [
    "Note that some of the data can be seen to be missing(NaN) from the first 10 records. We can call the describe() function to give a quick statistics about numerical features. This gives a useful information about the mean and standard deviation as well as the min and max and the percentiles in between."
   ]
  },
  {
   "cell_type": "code",
   "execution_count": 6,
   "metadata": {},
   "outputs": [
    {
     "data": {
      "application/vnd.microsoft.datawrangler.viewer.v0+json": {
       "columns": [
        {
         "name": "index",
         "rawType": "object",
         "type": "string"
        },
        {
         "name": "Unnamed: 0",
         "rawType": "float64",
         "type": "float"
        },
        {
         "name": "PassengerId",
         "rawType": "float64",
         "type": "float"
        },
        {
         "name": "Survived",
         "rawType": "float64",
         "type": "float"
        },
        {
         "name": "Pclass",
         "rawType": "float64",
         "type": "float"
        },
        {
         "name": "Age",
         "rawType": "float64",
         "type": "float"
        },
        {
         "name": "SibSp",
         "rawType": "float64",
         "type": "float"
        },
        {
         "name": "Parch",
         "rawType": "float64",
         "type": "float"
        },
        {
         "name": "Fare",
         "rawType": "float64",
         "type": "float"
        },
        {
         "name": "FareAgeRatio",
         "rawType": "float64",
         "type": "float"
        },
        {
         "name": "AgeRescaled",
         "rawType": "float64",
         "type": "float"
        },
        {
         "name": "FareRescaled",
         "rawType": "float64",
         "type": "float"
        }
       ],
       "conversionMethod": "pd.DataFrame",
       "ref": "d043a2ce-9a44-4346-980a-53b60d33d1ad",
       "rows": [
        [
         "count",
         "891.0",
         "891.0",
         "891.0",
         "891.0",
         "891.0",
         "891.0",
         "891.0",
         "891.0",
         "891.0",
         "891.0",
         "891.0"
        ],
        [
         "mean",
         "445.0",
         "446.0",
         "0.3838383838383838",
         "2.308641975308642",
         "29.758888888888887",
         "0.5230078563411896",
         "0.38159371492704824",
         "32.20420796857451",
         "inf",
         "0.3686716372064459",
         "0.06285842768394748"
        ],
        [
         "std",
         "257.3538420152301",
         "257.3538420152301",
         "0.4865924542648604",
         "0.8360712409770491",
         "13.002570039820908",
         "1.1027434322934344",
         "0.8060572211299599",
         "49.69342859718082",
         null,
         "0.1633899225913658",
         "0.09699511290236995"
        ],
        [
         "min",
         "0.0",
         "1.0",
         "0.0",
         "1.0",
         "0.42",
         "0.0",
         "0.0",
         "0.0",
         "0.0060706037611349",
         "0.0",
         "0.0"
        ],
        [
         "25%",
         "222.5",
         "223.5",
         "0.0",
         "2.0",
         "22.0",
         "0.0",
         "0.0",
         "7.9104",
         "0.715219826435453",
         "0.2711736617240513",
         "0.015440072515874498"
        ],
        [
         "50%",
         "445.0",
         "446.0",
         "0.0",
         "3.0",
         "30.0",
         "0.0",
         "0.0",
         "14.4542",
         "1.9251336898395723",
         "0.3717014325207338",
         "0.0282127194780231"
        ],
        [
         "75%",
         "667.5",
         "668.5",
         "1.0",
         "3.0",
         "35.0",
         "1.0",
         "0.0",
         "31.0",
         "3.4055976911202093",
         "0.4345312892686604",
         "0.060507970265993"
        ],
        [
         "max",
         "890.0",
         "891.0",
         "1.0",
         "3.0",
         "80.0",
         "8.0",
         "6.0",
         "512.3292",
         "inf",
         "1.0",
         "1.0"
        ]
       ],
       "shape": {
        "columns": 11,
        "rows": 8
       }
      },
      "text/html": [
       "<div>\n",
       "<style scoped>\n",
       "    .dataframe tbody tr th:only-of-type {\n",
       "        vertical-align: middle;\n",
       "    }\n",
       "\n",
       "    .dataframe tbody tr th {\n",
       "        vertical-align: top;\n",
       "    }\n",
       "\n",
       "    .dataframe thead th {\n",
       "        text-align: right;\n",
       "    }\n",
       "</style>\n",
       "<table border=\"1\" class=\"dataframe\">\n",
       "  <thead>\n",
       "    <tr style=\"text-align: right;\">\n",
       "      <th></th>\n",
       "      <th>Unnamed: 0</th>\n",
       "      <th>PassengerId</th>\n",
       "      <th>Survived</th>\n",
       "      <th>Pclass</th>\n",
       "      <th>Age</th>\n",
       "      <th>SibSp</th>\n",
       "      <th>Parch</th>\n",
       "      <th>Fare</th>\n",
       "      <th>FareAgeRatio</th>\n",
       "      <th>AgeRescaled</th>\n",
       "      <th>FareRescaled</th>\n",
       "    </tr>\n",
       "  </thead>\n",
       "  <tbody>\n",
       "    <tr>\n",
       "      <th>count</th>\n",
       "      <td>891.000000</td>\n",
       "      <td>891.000000</td>\n",
       "      <td>891.000000</td>\n",
       "      <td>891.000000</td>\n",
       "      <td>891.000000</td>\n",
       "      <td>891.000000</td>\n",
       "      <td>891.000000</td>\n",
       "      <td>891.000000</td>\n",
       "      <td>891.000000</td>\n",
       "      <td>891.000000</td>\n",
       "      <td>891.000000</td>\n",
       "    </tr>\n",
       "    <tr>\n",
       "      <th>mean</th>\n",
       "      <td>445.000000</td>\n",
       "      <td>446.000000</td>\n",
       "      <td>0.383838</td>\n",
       "      <td>2.308642</td>\n",
       "      <td>29.758889</td>\n",
       "      <td>0.523008</td>\n",
       "      <td>0.381594</td>\n",
       "      <td>32.204208</td>\n",
       "      <td>inf</td>\n",
       "      <td>0.368672</td>\n",
       "      <td>0.062858</td>\n",
       "    </tr>\n",
       "    <tr>\n",
       "      <th>std</th>\n",
       "      <td>257.353842</td>\n",
       "      <td>257.353842</td>\n",
       "      <td>0.486592</td>\n",
       "      <td>0.836071</td>\n",
       "      <td>13.002570</td>\n",
       "      <td>1.102743</td>\n",
       "      <td>0.806057</td>\n",
       "      <td>49.693429</td>\n",
       "      <td>NaN</td>\n",
       "      <td>0.163390</td>\n",
       "      <td>0.096995</td>\n",
       "    </tr>\n",
       "    <tr>\n",
       "      <th>min</th>\n",
       "      <td>0.000000</td>\n",
       "      <td>1.000000</td>\n",
       "      <td>0.000000</td>\n",
       "      <td>1.000000</td>\n",
       "      <td>0.420000</td>\n",
       "      <td>0.000000</td>\n",
       "      <td>0.000000</td>\n",
       "      <td>0.000000</td>\n",
       "      <td>0.006071</td>\n",
       "      <td>0.000000</td>\n",
       "      <td>0.000000</td>\n",
       "    </tr>\n",
       "    <tr>\n",
       "      <th>25%</th>\n",
       "      <td>222.500000</td>\n",
       "      <td>223.500000</td>\n",
       "      <td>0.000000</td>\n",
       "      <td>2.000000</td>\n",
       "      <td>22.000000</td>\n",
       "      <td>0.000000</td>\n",
       "      <td>0.000000</td>\n",
       "      <td>7.910400</td>\n",
       "      <td>0.715220</td>\n",
       "      <td>0.271174</td>\n",
       "      <td>0.015440</td>\n",
       "    </tr>\n",
       "    <tr>\n",
       "      <th>50%</th>\n",
       "      <td>445.000000</td>\n",
       "      <td>446.000000</td>\n",
       "      <td>0.000000</td>\n",
       "      <td>3.000000</td>\n",
       "      <td>30.000000</td>\n",
       "      <td>0.000000</td>\n",
       "      <td>0.000000</td>\n",
       "      <td>14.454200</td>\n",
       "      <td>1.925134</td>\n",
       "      <td>0.371701</td>\n",
       "      <td>0.028213</td>\n",
       "    </tr>\n",
       "    <tr>\n",
       "      <th>75%</th>\n",
       "      <td>667.500000</td>\n",
       "      <td>668.500000</td>\n",
       "      <td>1.000000</td>\n",
       "      <td>3.000000</td>\n",
       "      <td>35.000000</td>\n",
       "      <td>1.000000</td>\n",
       "      <td>0.000000</td>\n",
       "      <td>31.000000</td>\n",
       "      <td>3.405598</td>\n",
       "      <td>0.434531</td>\n",
       "      <td>0.060508</td>\n",
       "    </tr>\n",
       "    <tr>\n",
       "      <th>max</th>\n",
       "      <td>890.000000</td>\n",
       "      <td>891.000000</td>\n",
       "      <td>1.000000</td>\n",
       "      <td>3.000000</td>\n",
       "      <td>80.000000</td>\n",
       "      <td>8.000000</td>\n",
       "      <td>6.000000</td>\n",
       "      <td>512.329200</td>\n",
       "      <td>inf</td>\n",
       "      <td>1.000000</td>\n",
       "      <td>1.000000</td>\n",
       "    </tr>\n",
       "  </tbody>\n",
       "</table>\n",
       "</div>"
      ],
      "text/plain": [
       "       Unnamed: 0  PassengerId    Survived      Pclass         Age  \\\n",
       "count  891.000000   891.000000  891.000000  891.000000  891.000000   \n",
       "mean   445.000000   446.000000    0.383838    2.308642   29.758889   \n",
       "std    257.353842   257.353842    0.486592    0.836071   13.002570   \n",
       "min      0.000000     1.000000    0.000000    1.000000    0.420000   \n",
       "25%    222.500000   223.500000    0.000000    2.000000   22.000000   \n",
       "50%    445.000000   446.000000    0.000000    3.000000   30.000000   \n",
       "75%    667.500000   668.500000    1.000000    3.000000   35.000000   \n",
       "max    890.000000   891.000000    1.000000    3.000000   80.000000   \n",
       "\n",
       "            SibSp       Parch        Fare  FareAgeRatio  AgeRescaled  \\\n",
       "count  891.000000  891.000000  891.000000    891.000000   891.000000   \n",
       "mean     0.523008    0.381594   32.204208           inf     0.368672   \n",
       "std      1.102743    0.806057   49.693429           NaN     0.163390   \n",
       "min      0.000000    0.000000    0.000000      0.006071     0.000000   \n",
       "25%      0.000000    0.000000    7.910400      0.715220     0.271174   \n",
       "50%      0.000000    0.000000   14.454200      1.925134     0.371701   \n",
       "75%      1.000000    0.000000   31.000000      3.405598     0.434531   \n",
       "max      8.000000    6.000000  512.329200           inf     1.000000   \n",
       "\n",
       "       FareRescaled  \n",
       "count    891.000000  \n",
       "mean       0.062858  \n",
       "std        0.096995  \n",
       "min        0.000000  \n",
       "25%        0.015440  \n",
       "50%        0.028213  \n",
       "75%        0.060508  \n",
       "max        1.000000  "
      ]
     },
     "execution_count": 6,
     "metadata": {},
     "output_type": "execute_result"
    }
   ],
   "source": [
    "titanic.describe()"
   ]
  },
  {
   "cell_type": "markdown",
   "metadata": {},
   "source": [
    "To describe() categorical attributes we can pass the flag include='object' to describe(). This will give beside the overall count for each attribute, the number of unique values for each categorical attribute and most frequent values and their counts."
   ]
  },
  {
   "cell_type": "code",
   "execution_count": 7,
   "metadata": {},
   "outputs": [
    {
     "data": {
      "application/vnd.microsoft.datawrangler.viewer.v0+json": {
       "columns": [
        {
         "name": "index",
         "rawType": "object",
         "type": "string"
        },
        {
         "name": "Name",
         "rawType": "object",
         "type": "string"
        },
        {
         "name": "Sex",
         "rawType": "object",
         "type": "string"
        },
        {
         "name": "Ticket",
         "rawType": "object",
         "type": "string"
        },
        {
         "name": "Cabin",
         "rawType": "object",
         "type": "string"
        },
        {
         "name": "Embarked",
         "rawType": "object",
         "type": "string"
        }
       ],
       "conversionMethod": "pd.DataFrame",
       "ref": "74591e09-7d5e-4b56-b4d4-2b3533bf26f3",
       "rows": [
        [
         "count",
         "891",
         "891",
         "891",
         "204",
         "889"
        ],
        [
         "unique",
         "891",
         "2",
         "681",
         "147",
         "3"
        ],
        [
         "top",
         "Allison, Master Hudson Trevor",
         "male",
         "1601",
         "C23 C25 C27",
         "S"
        ],
        [
         "freq",
         "1",
         "577",
         "7",
         "4",
         "644"
        ]
       ],
       "shape": {
        "columns": 5,
        "rows": 4
       }
      },
      "text/html": [
       "<div>\n",
       "<style scoped>\n",
       "    .dataframe tbody tr th:only-of-type {\n",
       "        vertical-align: middle;\n",
       "    }\n",
       "\n",
       "    .dataframe tbody tr th {\n",
       "        vertical-align: top;\n",
       "    }\n",
       "\n",
       "    .dataframe thead th {\n",
       "        text-align: right;\n",
       "    }\n",
       "</style>\n",
       "<table border=\"1\" class=\"dataframe\">\n",
       "  <thead>\n",
       "    <tr style=\"text-align: right;\">\n",
       "      <th></th>\n",
       "      <th>Name</th>\n",
       "      <th>Sex</th>\n",
       "      <th>Ticket</th>\n",
       "      <th>Cabin</th>\n",
       "      <th>Embarked</th>\n",
       "    </tr>\n",
       "  </thead>\n",
       "  <tbody>\n",
       "    <tr>\n",
       "      <th>count</th>\n",
       "      <td>891</td>\n",
       "      <td>891</td>\n",
       "      <td>891</td>\n",
       "      <td>204</td>\n",
       "      <td>889</td>\n",
       "    </tr>\n",
       "    <tr>\n",
       "      <th>unique</th>\n",
       "      <td>891</td>\n",
       "      <td>2</td>\n",
       "      <td>681</td>\n",
       "      <td>147</td>\n",
       "      <td>3</td>\n",
       "    </tr>\n",
       "    <tr>\n",
       "      <th>top</th>\n",
       "      <td>Allison, Master Hudson Trevor</td>\n",
       "      <td>male</td>\n",
       "      <td>1601</td>\n",
       "      <td>C23 C25 C27</td>\n",
       "      <td>S</td>\n",
       "    </tr>\n",
       "    <tr>\n",
       "      <th>freq</th>\n",
       "      <td>1</td>\n",
       "      <td>577</td>\n",
       "      <td>7</td>\n",
       "      <td>4</td>\n",
       "      <td>644</td>\n",
       "    </tr>\n",
       "  </tbody>\n",
       "</table>\n",
       "</div>"
      ],
      "text/plain": [
       "                                 Name   Sex Ticket        Cabin Embarked\n",
       "count                             891   891    891          204      889\n",
       "unique                            891     2    681          147        3\n",
       "top     Allison, Master Hudson Trevor  male   1601  C23 C25 C27        S\n",
       "freq                                1   577      7            4      644"
      ]
     },
     "execution_count": 7,
     "metadata": {},
     "output_type": "execute_result"
    }
   ],
   "source": [
    "titanic.describe(include='object')"
   ]
  },
  {
   "cell_type": "markdown",
   "metadata": {},
   "source": [
    "The 'count' statistics, can give us a quick indication of missingness across the different attributes. For example, we have 891 records, for the Age attribute we seem to have 891-714 = 177 records *missing* the Age data. Similarly, we have 891-204=687 records missing the Cabin data."
   ]
  },
  {
   "cell_type": "markdown",
   "metadata": {},
   "source": [
    "To describe() all attributes, numerical and categorical, we can pass include='all', but that usually gives a NaN-cluttered table due to different relevant statistics for numerical and categorical attributes."
   ]
  },
  {
   "cell_type": "code",
   "execution_count": 8,
   "metadata": {},
   "outputs": [],
   "source": [
    "# titanic.describe(include='all')"
   ]
  },
  {
   "cell_type": "markdown",
   "metadata": {},
   "source": [
    "We can also use isnull() **if** we are sure that missing data is encoded as null values. \n",
    "\n",
    "**Important**\n",
    "In real-world data, sometimes missingness is expressed using different values like '?' or '??' or 'Missing' etc. The data analyst needs to be vigilant on how the data was collected and how missingness was expressed in the records."
   ]
  },
  {
   "cell_type": "code",
   "execution_count": 8,
   "metadata": {},
   "outputs": [
    {
     "data": {
      "text/plain": [
       "0"
      ]
     },
     "execution_count": 8,
     "metadata": {},
     "output_type": "execute_result"
    }
   ],
   "source": [
    "pd.isnull(titanic['Age']).sum()"
   ]
  },
  {
   "cell_type": "markdown",
   "metadata": {},
   "source": [
    "We can fill in the missing categorical values with the most frequent attribute if we do not have high missingness rate, similarly, we can fill in the missing numerical values with the mean of the attribute. \n",
    "\n",
    "**Note**: We are showing isolated data missingness treatment using simple functionalities in pandas. However, when put within the context of training predictive models, this treatment can cause data leakage if not performed carefully. One common example is when we split the data into training and testing sets. In this case, using the mean of an attribute over the entire dataset causes data leakage (the model is passed information during training that it should not have seen). **The attribute data from the test set must not contribute to the calculation of the mean**. Instead, data missingness treatment must be performed by utilising the training set only (after splitting). The mean of the attribute data in the training set (or the most frequent value if the attribute is categorical) must be used to fill in the missing data in the testing set. This can be done easily using sklearn encoders and transform in conjunction with pipelines, as we shall see later. In particular, we use fit_transform() on the training set and then utilise the transform() on the testing set. See [sklearn common pitfalls article](https://scikit-learn.org/stable/common_pitfalls.html#data-leakage-during-pre-processing) for more details."
   ]
  },
  {
   "cell_type": "code",
   "execution_count": 9,
   "metadata": {},
   "outputs": [
    {
     "data": {
      "text/plain": [
       "2.0"
      ]
     },
     "execution_count": 9,
     "metadata": {},
     "output_type": "execute_result"
    }
   ],
   "source": [
    "pd.Series([1,2,np.nan,3]).mean() # note how pandas does not take the null value into account when calculating the mean which is desirable "
   ]
  },
  {
   "cell_type": "code",
   "execution_count": 15,
   "metadata": {},
   "outputs": [
    {
     "name": "stdout",
     "output_type": "stream",
     "text": [
      "<class 'pandas.core.frame.DataFrame'>\n",
      "RangeIndex: 891 entries, 0 to 890\n",
      "Data columns (total 16 columns):\n",
      " #   Column        Non-Null Count  Dtype  \n",
      "---  ------        --------------  -----  \n",
      " 0   Unnamed: 0    891 non-null    int64  \n",
      " 1   PassengerId   891 non-null    int64  \n",
      " 2   Survived      891 non-null    int64  \n",
      " 3   Pclass        891 non-null    int64  \n",
      " 4   Name          891 non-null    object \n",
      " 5   Sex           891 non-null    object \n",
      " 6   Age           891 non-null    float64\n",
      " 7   SibSp         891 non-null    int64  \n",
      " 8   Parch         891 non-null    int64  \n",
      " 9   Ticket        891 non-null    object \n",
      " 10  Fare          891 non-null    float64\n",
      " 11  Cabin         204 non-null    object \n",
      " 12  Embarked      889 non-null    object \n",
      " 13  FareAgeRatio  891 non-null    float64\n",
      " 14  AgeRescaled   891 non-null    float64\n",
      " 15  FareRescaled  891 non-null    float64\n",
      "dtypes: float64(5), int64(6), object(5)\n",
      "memory usage: 111.5+ KB\n"
     ]
    }
   ],
   "source": [
    "titanic.info()"
   ]
  },
  {
   "cell_type": "code",
   "execution_count": 16,
   "metadata": {},
   "outputs": [
    {
     "name": "stdout",
     "output_type": "stream",
     "text": [
      "30\n"
     ]
    },
    {
     "data": {
      "text/plain": [
       "0"
      ]
     },
     "execution_count": 16,
     "metadata": {},
     "output_type": "execute_result"
    }
   ],
   "source": [
    "Age_mean = round(titanic['Age'].mean())\n",
    "print(Age_mean)\n",
    "titanic['Age'].fillna(Age_mean, inplace=True)\n",
    "pd.isnull(titanic['Age']).sum()"
   ]
  },
  {
   "cell_type": "markdown",
   "metadata": {},
   "source": [
    "## Selecting Attributes"
   ]
  },
  {
   "cell_type": "markdown",
   "metadata": {},
   "source": [
    "Let us see how we can select a specific subset of attributes(aka fields, columns, variables) within this DataFrame. \n",
    "To do so we simply specify the column names that we want to keep and leave out the fields that we do not want to include.\n",
    "Note that the attribute are shown when we call the head() function, however if you want to retrieve them programmatically then we can do so using print(titanic.columns)."
   ]
  },
  {
   "cell_type": "code",
   "execution_count": 17,
   "metadata": {},
   "outputs": [
    {
     "name": "stdout",
     "output_type": "stream",
     "text": [
      "Index(['Unnamed: 0', 'PassengerId', 'Survived', 'Pclass', 'Name', 'Sex', 'Age',\n",
      "       'SibSp', 'Parch', 'Ticket', 'Fare', 'Cabin', 'Embarked', 'FareAgeRatio',\n",
      "       'AgeRescaled', 'FareRescaled'],\n",
      "      dtype='object')\n"
     ]
    }
   ],
   "source": [
    "print(titanic.columns)"
   ]
  },
  {
   "cell_type": "code",
   "execution_count": 18,
   "metadata": {},
   "outputs": [
    {
     "data": {
      "application/vnd.microsoft.datawrangler.viewer.v0+json": {
       "columns": [
        {
         "name": "index",
         "rawType": "int64",
         "type": "integer"
        },
        {
         "name": "Age",
         "rawType": "float64",
         "type": "float"
        },
        {
         "name": "Sex",
         "rawType": "object",
         "type": "string"
        }
       ],
       "conversionMethod": "pd.DataFrame",
       "ref": "888f3829-13e9-4ef5-9c1f-82dae6a761e3",
       "rows": [
        [
         "0",
         "0.92",
         "male"
        ],
        [
         "1",
         "2.0",
         "female"
        ],
        [
         "2",
         "1.0",
         "male"
        ],
        [
         "3",
         "1.0",
         "male"
        ],
        [
         "4",
         "1.0",
         "male"
        ],
        [
         "5",
         "1.0",
         "male"
        ],
        [
         "6",
         "0.83",
         "male"
        ],
        [
         "7",
         "0.75",
         "female"
        ],
        [
         "8",
         "0.75",
         "female"
        ],
        [
         "9",
         "0.83",
         "male"
        ],
        [
         "10",
         "0.67",
         "male"
        ],
        [
         "11",
         "1.0",
         "male"
        ],
        [
         "12",
         "4.0",
         "male"
        ],
        [
         "13",
         "0.42",
         "male"
        ],
        [
         "14",
         "2.0",
         "male"
        ]
       ],
       "shape": {
        "columns": 2,
        "rows": 15
       }
      },
      "text/html": [
       "<div>\n",
       "<style scoped>\n",
       "    .dataframe tbody tr th:only-of-type {\n",
       "        vertical-align: middle;\n",
       "    }\n",
       "\n",
       "    .dataframe tbody tr th {\n",
       "        vertical-align: top;\n",
       "    }\n",
       "\n",
       "    .dataframe thead th {\n",
       "        text-align: right;\n",
       "    }\n",
       "</style>\n",
       "<table border=\"1\" class=\"dataframe\">\n",
       "  <thead>\n",
       "    <tr style=\"text-align: right;\">\n",
       "      <th></th>\n",
       "      <th>Age</th>\n",
       "      <th>Sex</th>\n",
       "    </tr>\n",
       "  </thead>\n",
       "  <tbody>\n",
       "    <tr>\n",
       "      <th>0</th>\n",
       "      <td>0.92</td>\n",
       "      <td>male</td>\n",
       "    </tr>\n",
       "    <tr>\n",
       "      <th>1</th>\n",
       "      <td>2.00</td>\n",
       "      <td>female</td>\n",
       "    </tr>\n",
       "    <tr>\n",
       "      <th>2</th>\n",
       "      <td>1.00</td>\n",
       "      <td>male</td>\n",
       "    </tr>\n",
       "    <tr>\n",
       "      <th>3</th>\n",
       "      <td>1.00</td>\n",
       "      <td>male</td>\n",
       "    </tr>\n",
       "    <tr>\n",
       "      <th>4</th>\n",
       "      <td>1.00</td>\n",
       "      <td>male</td>\n",
       "    </tr>\n",
       "    <tr>\n",
       "      <th>5</th>\n",
       "      <td>1.00</td>\n",
       "      <td>male</td>\n",
       "    </tr>\n",
       "    <tr>\n",
       "      <th>6</th>\n",
       "      <td>0.83</td>\n",
       "      <td>male</td>\n",
       "    </tr>\n",
       "    <tr>\n",
       "      <th>7</th>\n",
       "      <td>0.75</td>\n",
       "      <td>female</td>\n",
       "    </tr>\n",
       "    <tr>\n",
       "      <th>8</th>\n",
       "      <td>0.75</td>\n",
       "      <td>female</td>\n",
       "    </tr>\n",
       "    <tr>\n",
       "      <th>9</th>\n",
       "      <td>0.83</td>\n",
       "      <td>male</td>\n",
       "    </tr>\n",
       "    <tr>\n",
       "      <th>10</th>\n",
       "      <td>0.67</td>\n",
       "      <td>male</td>\n",
       "    </tr>\n",
       "    <tr>\n",
       "      <th>11</th>\n",
       "      <td>1.00</td>\n",
       "      <td>male</td>\n",
       "    </tr>\n",
       "    <tr>\n",
       "      <th>12</th>\n",
       "      <td>4.00</td>\n",
       "      <td>male</td>\n",
       "    </tr>\n",
       "    <tr>\n",
       "      <th>13</th>\n",
       "      <td>0.42</td>\n",
       "      <td>male</td>\n",
       "    </tr>\n",
       "    <tr>\n",
       "      <th>14</th>\n",
       "      <td>2.00</td>\n",
       "      <td>male</td>\n",
       "    </tr>\n",
       "  </tbody>\n",
       "</table>\n",
       "</div>"
      ],
      "text/plain": [
       "     Age     Sex\n",
       "0   0.92    male\n",
       "1   2.00  female\n",
       "2   1.00    male\n",
       "3   1.00    male\n",
       "4   1.00    male\n",
       "5   1.00    male\n",
       "6   0.83    male\n",
       "7   0.75  female\n",
       "8   0.75  female\n",
       "9   0.83    male\n",
       "10  0.67    male\n",
       "11  1.00    male\n",
       "12  4.00    male\n",
       "13  0.42    male\n",
       "14  2.00    male"
      ]
     },
     "execution_count": 18,
     "metadata": {},
     "output_type": "execute_result"
    }
   ],
   "source": [
    "titanic_age_sex = titanic[['Age', 'Sex']]\n",
    "titanic_age_sex.head(15)"
   ]
  },
  {
   "cell_type": "markdown",
   "metadata": {},
   "source": [
    "On the other hand, if we want to filter out the 'age' and 'sex' attributes then we can either state all columns except these two. Or it might be easier to use drop()"
   ]
  },
  {
   "cell_type": "code",
   "execution_count": 19,
   "metadata": {},
   "outputs": [
    {
     "data": {
      "application/vnd.microsoft.datawrangler.viewer.v0+json": {
       "columns": [
        {
         "name": "index",
         "rawType": "int64",
         "type": "integer"
        },
        {
         "name": "Unnamed: 0",
         "rawType": "int64",
         "type": "integer"
        },
        {
         "name": "PassengerId",
         "rawType": "int64",
         "type": "integer"
        },
        {
         "name": "Survived",
         "rawType": "int64",
         "type": "integer"
        },
        {
         "name": "Pclass",
         "rawType": "int64",
         "type": "integer"
        },
        {
         "name": "Name",
         "rawType": "object",
         "type": "string"
        },
        {
         "name": "SibSp",
         "rawType": "int64",
         "type": "integer"
        },
        {
         "name": "Parch",
         "rawType": "int64",
         "type": "integer"
        },
        {
         "name": "Ticket",
         "rawType": "object",
         "type": "string"
        },
        {
         "name": "Fare",
         "rawType": "float64",
         "type": "float"
        },
        {
         "name": "Cabin",
         "rawType": "object",
         "type": "string"
        },
        {
         "name": "Embarked",
         "rawType": "object",
         "type": "string"
        },
        {
         "name": "FareAgeRatio",
         "rawType": "float64",
         "type": "float"
        },
        {
         "name": "AgeRescaled",
         "rawType": "float64",
         "type": "float"
        },
        {
         "name": "FareRescaled",
         "rawType": "float64",
         "type": "float"
        }
       ],
       "conversionMethod": "pd.DataFrame",
       "ref": "9f0b4bf2-8eaa-48e1-8dc1-0217b6d88d94",
       "rows": [
        [
         "0",
         "305",
         "306",
         "1",
         "1",
         "Allison, Master Hudson Trevor",
         "1",
         "2",
         "113781",
         "151.55",
         "C22 C26",
         "S",
         "0.0060706037611349",
         "0.0062829856747926",
         "0.2958058998003627"
        ],
        [
         "1",
         "297",
         "298",
         "0",
         "1",
         "Allison, Miss Helen Loraine",
         "1",
         "2",
         "113781",
         "151.55",
         "C22 C26",
         "S",
         "0.0131969646981194",
         "0.0198542347323448",
         "0.2958058998003627"
        ],
        [
         "2",
         "386",
         "387",
         "0",
         "3",
         "Goodwin, Master Sidney Leonard",
         "5",
         "2",
         "CA 2144",
         "46.9",
         null,
         "S",
         "0.021321961620469",
         "0.0072882633827594",
         "0.0915427034024217"
        ],
        [
         "3",
         "164",
         "165",
         "0",
         "3",
         "Panula, Master Eino Viljami",
         "4",
         "1",
         "3101295",
         "39.6875",
         null,
         "S",
         "0.0251968503937007",
         "0.0072882633827594",
         "0.0774648409655354"
        ],
        [
         "4",
         "183",
         "184",
         "1",
         "2",
         "Becker, Master Richard F",
         "2",
         "1",
         "230136",
         "39.0",
         "F4",
         "S",
         "0.0256410256410256",
         "0.0072882633827594",
         "0.0761229303346364"
        ]
       ],
       "shape": {
        "columns": 14,
        "rows": 5
       }
      },
      "text/html": [
       "<div>\n",
       "<style scoped>\n",
       "    .dataframe tbody tr th:only-of-type {\n",
       "        vertical-align: middle;\n",
       "    }\n",
       "\n",
       "    .dataframe tbody tr th {\n",
       "        vertical-align: top;\n",
       "    }\n",
       "\n",
       "    .dataframe thead th {\n",
       "        text-align: right;\n",
       "    }\n",
       "</style>\n",
       "<table border=\"1\" class=\"dataframe\">\n",
       "  <thead>\n",
       "    <tr style=\"text-align: right;\">\n",
       "      <th></th>\n",
       "      <th>Unnamed: 0</th>\n",
       "      <th>PassengerId</th>\n",
       "      <th>Survived</th>\n",
       "      <th>Pclass</th>\n",
       "      <th>Name</th>\n",
       "      <th>SibSp</th>\n",
       "      <th>Parch</th>\n",
       "      <th>Ticket</th>\n",
       "      <th>Fare</th>\n",
       "      <th>Cabin</th>\n",
       "      <th>Embarked</th>\n",
       "      <th>FareAgeRatio</th>\n",
       "      <th>AgeRescaled</th>\n",
       "      <th>FareRescaled</th>\n",
       "    </tr>\n",
       "  </thead>\n",
       "  <tbody>\n",
       "    <tr>\n",
       "      <th>0</th>\n",
       "      <td>305</td>\n",
       "      <td>306</td>\n",
       "      <td>1</td>\n",
       "      <td>1</td>\n",
       "      <td>Allison, Master Hudson Trevor</td>\n",
       "      <td>1</td>\n",
       "      <td>2</td>\n",
       "      <td>113781</td>\n",
       "      <td>151.5500</td>\n",
       "      <td>C22 C26</td>\n",
       "      <td>S</td>\n",
       "      <td>0.006071</td>\n",
       "      <td>0.006283</td>\n",
       "      <td>0.295806</td>\n",
       "    </tr>\n",
       "    <tr>\n",
       "      <th>1</th>\n",
       "      <td>297</td>\n",
       "      <td>298</td>\n",
       "      <td>0</td>\n",
       "      <td>1</td>\n",
       "      <td>Allison, Miss Helen Loraine</td>\n",
       "      <td>1</td>\n",
       "      <td>2</td>\n",
       "      <td>113781</td>\n",
       "      <td>151.5500</td>\n",
       "      <td>C22 C26</td>\n",
       "      <td>S</td>\n",
       "      <td>0.013197</td>\n",
       "      <td>0.019854</td>\n",
       "      <td>0.295806</td>\n",
       "    </tr>\n",
       "    <tr>\n",
       "      <th>2</th>\n",
       "      <td>386</td>\n",
       "      <td>387</td>\n",
       "      <td>0</td>\n",
       "      <td>3</td>\n",
       "      <td>Goodwin, Master Sidney Leonard</td>\n",
       "      <td>5</td>\n",
       "      <td>2</td>\n",
       "      <td>CA 2144</td>\n",
       "      <td>46.9000</td>\n",
       "      <td>NaN</td>\n",
       "      <td>S</td>\n",
       "      <td>0.021322</td>\n",
       "      <td>0.007288</td>\n",
       "      <td>0.091543</td>\n",
       "    </tr>\n",
       "    <tr>\n",
       "      <th>3</th>\n",
       "      <td>164</td>\n",
       "      <td>165</td>\n",
       "      <td>0</td>\n",
       "      <td>3</td>\n",
       "      <td>Panula, Master Eino Viljami</td>\n",
       "      <td>4</td>\n",
       "      <td>1</td>\n",
       "      <td>3101295</td>\n",
       "      <td>39.6875</td>\n",
       "      <td>NaN</td>\n",
       "      <td>S</td>\n",
       "      <td>0.025197</td>\n",
       "      <td>0.007288</td>\n",
       "      <td>0.077465</td>\n",
       "    </tr>\n",
       "    <tr>\n",
       "      <th>4</th>\n",
       "      <td>183</td>\n",
       "      <td>184</td>\n",
       "      <td>1</td>\n",
       "      <td>2</td>\n",
       "      <td>Becker, Master Richard F</td>\n",
       "      <td>2</td>\n",
       "      <td>1</td>\n",
       "      <td>230136</td>\n",
       "      <td>39.0000</td>\n",
       "      <td>F4</td>\n",
       "      <td>S</td>\n",
       "      <td>0.025641</td>\n",
       "      <td>0.007288</td>\n",
       "      <td>0.076123</td>\n",
       "    </tr>\n",
       "  </tbody>\n",
       "</table>\n",
       "</div>"
      ],
      "text/plain": [
       "   Unnamed: 0  PassengerId  Survived  Pclass                            Name  \\\n",
       "0         305          306         1       1   Allison, Master Hudson Trevor   \n",
       "1         297          298         0       1     Allison, Miss Helen Loraine   \n",
       "2         386          387         0       3  Goodwin, Master Sidney Leonard   \n",
       "3         164          165         0       3     Panula, Master Eino Viljami   \n",
       "4         183          184         1       2        Becker, Master Richard F   \n",
       "\n",
       "   SibSp  Parch   Ticket      Fare    Cabin Embarked  FareAgeRatio  \\\n",
       "0      1      2   113781  151.5500  C22 C26        S      0.006071   \n",
       "1      1      2   113781  151.5500  C22 C26        S      0.013197   \n",
       "2      5      2  CA 2144   46.9000      NaN        S      0.021322   \n",
       "3      4      1  3101295   39.6875      NaN        S      0.025197   \n",
       "4      2      1   230136   39.0000       F4        S      0.025641   \n",
       "\n",
       "   AgeRescaled  FareRescaled  \n",
       "0     0.006283      0.295806  \n",
       "1     0.019854      0.295806  \n",
       "2     0.007288      0.091543  \n",
       "3     0.007288      0.077465  \n",
       "4     0.007288      0.076123  "
      ]
     },
     "execution_count": 19,
     "metadata": {},
     "output_type": "execute_result"
    }
   ],
   "source": [
    "titanic_no_age_sex = titanic.drop(['Age','Sex'], axis=1)\n",
    "titanic_no_age_sex.head()\n"
   ]
  },
  {
   "cell_type": "code",
   "execution_count": 21,
   "metadata": {},
   "outputs": [
    {
     "data": {
      "application/vnd.microsoft.datawrangler.viewer.v0+json": {
       "columns": [
        {
         "name": "index",
         "rawType": "int64",
         "type": "integer"
        },
        {
         "name": "Unnamed: 0",
         "rawType": "int64",
         "type": "integer"
        },
        {
         "name": "PassengerId",
         "rawType": "int64",
         "type": "integer"
        },
        {
         "name": "Survived",
         "rawType": "int64",
         "type": "integer"
        },
        {
         "name": "Pclass",
         "rawType": "int64",
         "type": "integer"
        },
        {
         "name": "Name",
         "rawType": "object",
         "type": "string"
        },
        {
         "name": "Sex",
         "rawType": "object",
         "type": "string"
        },
        {
         "name": "Age",
         "rawType": "float64",
         "type": "float"
        },
        {
         "name": "SibSp",
         "rawType": "int64",
         "type": "integer"
        },
        {
         "name": "Parch",
         "rawType": "int64",
         "type": "integer"
        },
        {
         "name": "Ticket",
         "rawType": "object",
         "type": "string"
        },
        {
         "name": "Fare",
         "rawType": "float64",
         "type": "float"
        },
        {
         "name": "Cabin",
         "rawType": "object",
         "type": "string"
        },
        {
         "name": "Embarked",
         "rawType": "object",
         "type": "string"
        },
        {
         "name": "FareAgeRatio",
         "rawType": "float64",
         "type": "float"
        },
        {
         "name": "AgeRescaled",
         "rawType": "float64",
         "type": "float"
        },
        {
         "name": "FareRescaled",
         "rawType": "float64",
         "type": "float"
        }
       ],
       "conversionMethod": "pd.DataFrame",
       "ref": "ee0c9d74-f833-4612-b189-687b0c283971",
       "rows": [
        [
         "0",
         "305",
         "306",
         "1",
         "1",
         "Allison, Master Hudson Trevor",
         "male",
         "0.92",
         "1",
         "2",
         "113781",
         "151.55",
         "C22 C26",
         "S",
         "0.0060706037611349",
         "0.0062829856747926",
         "0.2958058998003627"
        ],
        [
         "1",
         "297",
         "298",
         "0",
         "1",
         "Allison, Miss Helen Loraine",
         "female",
         "2.0",
         "1",
         "2",
         "113781",
         "151.55",
         "C22 C26",
         "S",
         "0.0131969646981194",
         "0.0198542347323448",
         "0.2958058998003627"
        ],
        [
         "2",
         "386",
         "387",
         "0",
         "3",
         "Goodwin, Master Sidney Leonard",
         "male",
         "1.0",
         "5",
         "2",
         "CA 2144",
         "46.9",
         null,
         "S",
         "0.021321961620469",
         "0.0072882633827594",
         "0.0915427034024217"
        ],
        [
         "3",
         "164",
         "165",
         "0",
         "3",
         "Panula, Master Eino Viljami",
         "male",
         "1.0",
         "4",
         "1",
         "3101295",
         "39.6875",
         null,
         "S",
         "0.0251968503937007",
         "0.0072882633827594",
         "0.0774648409655354"
        ],
        [
         "4",
         "183",
         "184",
         "1",
         "2",
         "Becker, Master Richard F",
         "male",
         "1.0",
         "2",
         "1",
         "230136",
         "39.0",
         "F4",
         "S",
         "0.0256410256410256",
         "0.0072882633827594",
         "0.0761229303346364"
        ]
       ],
       "shape": {
        "columns": 16,
        "rows": 5
       }
      },
      "text/html": [
       "<div>\n",
       "<style scoped>\n",
       "    .dataframe tbody tr th:only-of-type {\n",
       "        vertical-align: middle;\n",
       "    }\n",
       "\n",
       "    .dataframe tbody tr th {\n",
       "        vertical-align: top;\n",
       "    }\n",
       "\n",
       "    .dataframe thead th {\n",
       "        text-align: right;\n",
       "    }\n",
       "</style>\n",
       "<table border=\"1\" class=\"dataframe\">\n",
       "  <thead>\n",
       "    <tr style=\"text-align: right;\">\n",
       "      <th></th>\n",
       "      <th>Unnamed: 0</th>\n",
       "      <th>PassengerId</th>\n",
       "      <th>Survived</th>\n",
       "      <th>Pclass</th>\n",
       "      <th>Name</th>\n",
       "      <th>Sex</th>\n",
       "      <th>Age</th>\n",
       "      <th>SibSp</th>\n",
       "      <th>Parch</th>\n",
       "      <th>Ticket</th>\n",
       "      <th>Fare</th>\n",
       "      <th>Cabin</th>\n",
       "      <th>Embarked</th>\n",
       "      <th>FareAgeRatio</th>\n",
       "      <th>AgeRescaled</th>\n",
       "      <th>FareRescaled</th>\n",
       "    </tr>\n",
       "  </thead>\n",
       "  <tbody>\n",
       "    <tr>\n",
       "      <th>0</th>\n",
       "      <td>305</td>\n",
       "      <td>306</td>\n",
       "      <td>1</td>\n",
       "      <td>1</td>\n",
       "      <td>Allison, Master Hudson Trevor</td>\n",
       "      <td>male</td>\n",
       "      <td>0.92</td>\n",
       "      <td>1</td>\n",
       "      <td>2</td>\n",
       "      <td>113781</td>\n",
       "      <td>151.5500</td>\n",
       "      <td>C22 C26</td>\n",
       "      <td>S</td>\n",
       "      <td>0.006071</td>\n",
       "      <td>0.006283</td>\n",
       "      <td>0.295806</td>\n",
       "    </tr>\n",
       "    <tr>\n",
       "      <th>1</th>\n",
       "      <td>297</td>\n",
       "      <td>298</td>\n",
       "      <td>0</td>\n",
       "      <td>1</td>\n",
       "      <td>Allison, Miss Helen Loraine</td>\n",
       "      <td>female</td>\n",
       "      <td>2.00</td>\n",
       "      <td>1</td>\n",
       "      <td>2</td>\n",
       "      <td>113781</td>\n",
       "      <td>151.5500</td>\n",
       "      <td>C22 C26</td>\n",
       "      <td>S</td>\n",
       "      <td>0.013197</td>\n",
       "      <td>0.019854</td>\n",
       "      <td>0.295806</td>\n",
       "    </tr>\n",
       "    <tr>\n",
       "      <th>2</th>\n",
       "      <td>386</td>\n",
       "      <td>387</td>\n",
       "      <td>0</td>\n",
       "      <td>3</td>\n",
       "      <td>Goodwin, Master Sidney Leonard</td>\n",
       "      <td>male</td>\n",
       "      <td>1.00</td>\n",
       "      <td>5</td>\n",
       "      <td>2</td>\n",
       "      <td>CA 2144</td>\n",
       "      <td>46.9000</td>\n",
       "      <td>NaN</td>\n",
       "      <td>S</td>\n",
       "      <td>0.021322</td>\n",
       "      <td>0.007288</td>\n",
       "      <td>0.091543</td>\n",
       "    </tr>\n",
       "    <tr>\n",
       "      <th>3</th>\n",
       "      <td>164</td>\n",
       "      <td>165</td>\n",
       "      <td>0</td>\n",
       "      <td>3</td>\n",
       "      <td>Panula, Master Eino Viljami</td>\n",
       "      <td>male</td>\n",
       "      <td>1.00</td>\n",
       "      <td>4</td>\n",
       "      <td>1</td>\n",
       "      <td>3101295</td>\n",
       "      <td>39.6875</td>\n",
       "      <td>NaN</td>\n",
       "      <td>S</td>\n",
       "      <td>0.025197</td>\n",
       "      <td>0.007288</td>\n",
       "      <td>0.077465</td>\n",
       "    </tr>\n",
       "    <tr>\n",
       "      <th>4</th>\n",
       "      <td>183</td>\n",
       "      <td>184</td>\n",
       "      <td>1</td>\n",
       "      <td>2</td>\n",
       "      <td>Becker, Master Richard F</td>\n",
       "      <td>male</td>\n",
       "      <td>1.00</td>\n",
       "      <td>2</td>\n",
       "      <td>1</td>\n",
       "      <td>230136</td>\n",
       "      <td>39.0000</td>\n",
       "      <td>F4</td>\n",
       "      <td>S</td>\n",
       "      <td>0.025641</td>\n",
       "      <td>0.007288</td>\n",
       "      <td>0.076123</td>\n",
       "    </tr>\n",
       "  </tbody>\n",
       "</table>\n",
       "</div>"
      ],
      "text/plain": [
       "   Unnamed: 0  PassengerId  Survived  Pclass                            Name  \\\n",
       "0         305          306         1       1   Allison, Master Hudson Trevor   \n",
       "1         297          298         0       1     Allison, Miss Helen Loraine   \n",
       "2         386          387         0       3  Goodwin, Master Sidney Leonard   \n",
       "3         164          165         0       3     Panula, Master Eino Viljami   \n",
       "4         183          184         1       2        Becker, Master Richard F   \n",
       "\n",
       "      Sex   Age  SibSp  Parch   Ticket      Fare    Cabin Embarked  \\\n",
       "0    male  0.92      1      2   113781  151.5500  C22 C26        S   \n",
       "1  female  2.00      1      2   113781  151.5500  C22 C26        S   \n",
       "2    male  1.00      5      2  CA 2144   46.9000      NaN        S   \n",
       "3    male  1.00      4      1  3101295   39.6875      NaN        S   \n",
       "4    male  1.00      2      1   230136   39.0000       F4        S   \n",
       "\n",
       "   FareAgeRatio  AgeRescaled  FareRescaled  \n",
       "0      0.006071     0.006283      0.295806  \n",
       "1      0.013197     0.019854      0.295806  \n",
       "2      0.021322     0.007288      0.091543  \n",
       "3      0.025197     0.007288      0.077465  \n",
       "4      0.025641     0.007288      0.076123  "
      ]
     },
     "execution_count": 21,
     "metadata": {},
     "output_type": "execute_result"
    }
   ],
   "source": [
    "titanic.head()"
   ]
  },
  {
   "cell_type": "markdown",
   "metadata": {},
   "source": [
    "Note that pandas return a DataFrame type when we filter by a list of attributes, i.e. titanic[['Age','Sex']] returns a new DataFrame."
   ]
  },
  {
   "cell_type": "code",
   "execution_count": 22,
   "metadata": {},
   "outputs": [
    {
     "data": {
      "text/plain": [
       "pandas.core.frame.DataFrame"
      ]
     },
     "execution_count": 22,
     "metadata": {},
     "output_type": "execute_result"
    }
   ],
   "source": [
    "type(titanic_age_sex)"
   ]
  },
  {
   "cell_type": "markdown",
   "metadata": {},
   "source": [
    "## Selecting Records"
   ]
  },
  {
   "cell_type": "markdown",
   "metadata": {},
   "source": [
    "Now let us obtain a subset of records (above we returned a subset of fields so we filtered vertically), below we filter horizontally, i.e. we obtain a smaller subsets of the available rows in the data frame."
   ]
  },
  {
   "cell_type": "code",
   "execution_count": 23,
   "metadata": {},
   "outputs": [
    {
     "data": {
      "text/plain": [
       "0    False\n",
       "1    False\n",
       "2    False\n",
       "3    False\n",
       "4    False\n",
       "5    False\n",
       "6    False\n",
       "7    False\n",
       "8    False\n",
       "9    False\n",
       "Name: Age, dtype: bool"
      ]
     },
     "execution_count": 23,
     "metadata": {},
     "output_type": "execute_result"
    }
   ],
   "source": [
    "titanic_adults = titanic['Age'] > 25\n",
    "titanic_adults.head(10)"
   ]
  },
  {
   "cell_type": "markdown",
   "metadata": {},
   "source": [
    "Note that the operation titanic['Age'] > 25 returned a set of True/False values for each available record.\n",
    "To utilise this filter we would need to pass this series of Boolean values to the titanic Data Frame again!\n",
    "\n",
    "This is a common operation, we do the same also for numpy arrays, in fact a lot of the operations that we state here are available for numpy array and possibly motivated by that since pandas and numpy complement each other greatly. We provide a tutorial on numpy and data generation and data visualisation in another exercise."
   ]
  },
  {
   "cell_type": "code",
   "execution_count": 24,
   "metadata": {},
   "outputs": [
    {
     "data": {
      "application/vnd.microsoft.datawrangler.viewer.v0+json": {
       "columns": [
        {
         "name": "index",
         "rawType": "int64",
         "type": "integer"
        },
        {
         "name": "Unnamed: 0",
         "rawType": "int64",
         "type": "integer"
        },
        {
         "name": "PassengerId",
         "rawType": "int64",
         "type": "integer"
        },
        {
         "name": "Survived",
         "rawType": "int64",
         "type": "integer"
        },
        {
         "name": "Pclass",
         "rawType": "int64",
         "type": "integer"
        },
        {
         "name": "Name",
         "rawType": "object",
         "type": "string"
        },
        {
         "name": "Sex",
         "rawType": "object",
         "type": "string"
        },
        {
         "name": "Age",
         "rawType": "float64",
         "type": "float"
        },
        {
         "name": "SibSp",
         "rawType": "int64",
         "type": "integer"
        },
        {
         "name": "Parch",
         "rawType": "int64",
         "type": "integer"
        },
        {
         "name": "Ticket",
         "rawType": "object",
         "type": "string"
        },
        {
         "name": "Fare",
         "rawType": "float64",
         "type": "float"
        },
        {
         "name": "Cabin",
         "rawType": "object",
         "type": "string"
        },
        {
         "name": "Embarked",
         "rawType": "object",
         "type": "string"
        },
        {
         "name": "FareAgeRatio",
         "rawType": "float64",
         "type": "float"
        },
        {
         "name": "AgeRescaled",
         "rawType": "float64",
         "type": "float"
        },
        {
         "name": "FareRescaled",
         "rawType": "float64",
         "type": "float"
        }
       ],
       "conversionMethod": "pd.DataFrame",
       "ref": "8698d118-e6e7-4542-a5c2-4cc600402247",
       "rows": [
        [
         "17",
         "258",
         "259",
         "1",
         "1",
         "Ward, Miss Anna",
         "female",
         "35.0",
         "0",
         "0",
         "PC 17755",
         "512.3292",
         null,
         "C",
         "0.0683154503003147",
         "0.4345312892686604",
         "1.0"
        ],
        [
         "18",
         "737",
         "738",
         "1",
         "1",
         "Lesurer, Mr. Gustave J",
         "male",
         "35.0",
         "0",
         "0",
         "PC 17755",
         "512.3292",
         "B101",
         "C",
         "0.0683154503003147",
         "0.4345312892686604",
         "1.0"
        ],
        [
         "21",
         "679",
         "680",
         "1",
         "1",
         "Cardeza, Mr. Thomas Drake Martinez",
         "male",
         "36.0",
         "0",
         "1",
         "PC 17755",
         "512.3292",
         "B51 B53 B55",
         "C",
         "0.0702673203088951",
         "0.4470972606182458",
         "1.0"
        ],
        [
         "40",
         "377",
         "378",
         "0",
         "1",
         "Widener, Mr. Harry Elkins",
         "male",
         "27.0",
         "0",
         "2",
         "113503",
         "211.5",
         "C82",
         "C",
         "0.1276595744680851",
         "0.3340035184719778",
         "0.4128205068147589"
        ],
        [
         "42",
         "557",
         "558",
         "0",
         "1",
         "Robbins, Mr. Victor",
         "male",
         "30.0",
         "0",
         "0",
         "PC 17757",
         "227.525",
         null,
         "C",
         "0.1318536424568728",
         "0.3717014325207338",
         "0.4440992237022602"
        ]
       ],
       "shape": {
        "columns": 16,
        "rows": 5
       }
      },
      "text/html": [
       "<div>\n",
       "<style scoped>\n",
       "    .dataframe tbody tr th:only-of-type {\n",
       "        vertical-align: middle;\n",
       "    }\n",
       "\n",
       "    .dataframe tbody tr th {\n",
       "        vertical-align: top;\n",
       "    }\n",
       "\n",
       "    .dataframe thead th {\n",
       "        text-align: right;\n",
       "    }\n",
       "</style>\n",
       "<table border=\"1\" class=\"dataframe\">\n",
       "  <thead>\n",
       "    <tr style=\"text-align: right;\">\n",
       "      <th></th>\n",
       "      <th>Unnamed: 0</th>\n",
       "      <th>PassengerId</th>\n",
       "      <th>Survived</th>\n",
       "      <th>Pclass</th>\n",
       "      <th>Name</th>\n",
       "      <th>Sex</th>\n",
       "      <th>Age</th>\n",
       "      <th>SibSp</th>\n",
       "      <th>Parch</th>\n",
       "      <th>Ticket</th>\n",
       "      <th>Fare</th>\n",
       "      <th>Cabin</th>\n",
       "      <th>Embarked</th>\n",
       "      <th>FareAgeRatio</th>\n",
       "      <th>AgeRescaled</th>\n",
       "      <th>FareRescaled</th>\n",
       "    </tr>\n",
       "  </thead>\n",
       "  <tbody>\n",
       "    <tr>\n",
       "      <th>17</th>\n",
       "      <td>258</td>\n",
       "      <td>259</td>\n",
       "      <td>1</td>\n",
       "      <td>1</td>\n",
       "      <td>Ward, Miss Anna</td>\n",
       "      <td>female</td>\n",
       "      <td>35.0</td>\n",
       "      <td>0</td>\n",
       "      <td>0</td>\n",
       "      <td>PC 17755</td>\n",
       "      <td>512.3292</td>\n",
       "      <td>NaN</td>\n",
       "      <td>C</td>\n",
       "      <td>0.068315</td>\n",
       "      <td>0.434531</td>\n",
       "      <td>1.000000</td>\n",
       "    </tr>\n",
       "    <tr>\n",
       "      <th>18</th>\n",
       "      <td>737</td>\n",
       "      <td>738</td>\n",
       "      <td>1</td>\n",
       "      <td>1</td>\n",
       "      <td>Lesurer, Mr. Gustave J</td>\n",
       "      <td>male</td>\n",
       "      <td>35.0</td>\n",
       "      <td>0</td>\n",
       "      <td>0</td>\n",
       "      <td>PC 17755</td>\n",
       "      <td>512.3292</td>\n",
       "      <td>B101</td>\n",
       "      <td>C</td>\n",
       "      <td>0.068315</td>\n",
       "      <td>0.434531</td>\n",
       "      <td>1.000000</td>\n",
       "    </tr>\n",
       "    <tr>\n",
       "      <th>21</th>\n",
       "      <td>679</td>\n",
       "      <td>680</td>\n",
       "      <td>1</td>\n",
       "      <td>1</td>\n",
       "      <td>Cardeza, Mr. Thomas Drake Martinez</td>\n",
       "      <td>male</td>\n",
       "      <td>36.0</td>\n",
       "      <td>0</td>\n",
       "      <td>1</td>\n",
       "      <td>PC 17755</td>\n",
       "      <td>512.3292</td>\n",
       "      <td>B51 B53 B55</td>\n",
       "      <td>C</td>\n",
       "      <td>0.070267</td>\n",
       "      <td>0.447097</td>\n",
       "      <td>1.000000</td>\n",
       "    </tr>\n",
       "    <tr>\n",
       "      <th>40</th>\n",
       "      <td>377</td>\n",
       "      <td>378</td>\n",
       "      <td>0</td>\n",
       "      <td>1</td>\n",
       "      <td>Widener, Mr. Harry Elkins</td>\n",
       "      <td>male</td>\n",
       "      <td>27.0</td>\n",
       "      <td>0</td>\n",
       "      <td>2</td>\n",
       "      <td>113503</td>\n",
       "      <td>211.5000</td>\n",
       "      <td>C82</td>\n",
       "      <td>C</td>\n",
       "      <td>0.127660</td>\n",
       "      <td>0.334004</td>\n",
       "      <td>0.412821</td>\n",
       "    </tr>\n",
       "    <tr>\n",
       "      <th>42</th>\n",
       "      <td>557</td>\n",
       "      <td>558</td>\n",
       "      <td>0</td>\n",
       "      <td>1</td>\n",
       "      <td>Robbins, Mr. Victor</td>\n",
       "      <td>male</td>\n",
       "      <td>30.0</td>\n",
       "      <td>0</td>\n",
       "      <td>0</td>\n",
       "      <td>PC 17757</td>\n",
       "      <td>227.5250</td>\n",
       "      <td>NaN</td>\n",
       "      <td>C</td>\n",
       "      <td>0.131854</td>\n",
       "      <td>0.371701</td>\n",
       "      <td>0.444099</td>\n",
       "    </tr>\n",
       "  </tbody>\n",
       "</table>\n",
       "</div>"
      ],
      "text/plain": [
       "    Unnamed: 0  PassengerId  Survived  Pclass  \\\n",
       "17         258          259         1       1   \n",
       "18         737          738         1       1   \n",
       "21         679          680         1       1   \n",
       "40         377          378         0       1   \n",
       "42         557          558         0       1   \n",
       "\n",
       "                                  Name     Sex   Age  SibSp  Parch    Ticket  \\\n",
       "17                     Ward, Miss Anna  female  35.0      0      0  PC 17755   \n",
       "18              Lesurer, Mr. Gustave J    male  35.0      0      0  PC 17755   \n",
       "21  Cardeza, Mr. Thomas Drake Martinez    male  36.0      0      1  PC 17755   \n",
       "40           Widener, Mr. Harry Elkins    male  27.0      0      2    113503   \n",
       "42                 Robbins, Mr. Victor    male  30.0      0      0  PC 17757   \n",
       "\n",
       "        Fare        Cabin Embarked  FareAgeRatio  AgeRescaled  FareRescaled  \n",
       "17  512.3292          NaN        C      0.068315     0.434531      1.000000  \n",
       "18  512.3292         B101        C      0.068315     0.434531      1.000000  \n",
       "21  512.3292  B51 B53 B55        C      0.070267     0.447097      1.000000  \n",
       "40  211.5000          C82        C      0.127660     0.334004      0.412821  \n",
       "42  227.5250          NaN        C      0.131854     0.371701      0.444099  "
      ]
     },
     "execution_count": 24,
     "metadata": {},
     "output_type": "execute_result"
    }
   ],
   "source": [
    "titanic[titanic['Age'] > 25].head()"
   ]
  },
  {
   "cell_type": "markdown",
   "metadata": {},
   "source": [
    "Ok, let us check how many records we retrieved from the original titanic DataFrame"
   ]
  },
  {
   "cell_type": "code",
   "execution_count": 25,
   "metadata": {},
   "outputs": [
    {
     "data": {
      "text/plain": [
       "((891, 16), (590, 16))"
      ]
     },
     "execution_count": 25,
     "metadata": {},
     "output_type": "execute_result"
    }
   ],
   "source": [
    "titanic.shape , titanic[titanic_adults].shape"
   ]
  },
  {
   "cell_type": "markdown",
   "metadata": {},
   "source": [
    "Note that the filter resulted in a smaller set of records."
   ]
  },
  {
   "cell_type": "markdown",
   "metadata": {},
   "source": [
    "----------\n",
    "# Data Querying: Survival Analysis\n",
    "## GroupBy- one field"
   ]
  },
  {
   "cell_type": "markdown",
   "metadata": {},
   "source": [
    "Let us see the percentage of people who survived from the tragic accident of the titanic sink. To do so, we can filter according to the 'survived' attribute (which is the class/label), then we use the value_count() function to count the number of people who survived and the one who did not make it."
   ]
  },
  {
   "cell_type": "code",
   "execution_count": 26,
   "metadata": {},
   "outputs": [
    {
     "data": {
      "text/plain": [
       "Survived\n",
       "0           549\n",
       "1           342\n",
       "dtype: int64"
      ]
     },
     "execution_count": 26,
     "metadata": {},
     "output_type": "execute_result"
    }
   ],
   "source": [
    "survived_titanic = titanic[['Survived']].value_counts()\n",
    "survived_titanic.head()"
   ]
  },
  {
   "cell_type": "code",
   "execution_count": 27,
   "metadata": {},
   "outputs": [
    {
     "data": {
      "text/plain": [
       "549"
      ]
     },
     "execution_count": 27,
     "metadata": {},
     "output_type": "execute_result"
    }
   ],
   "source": [
    "survived_titanic[0]"
   ]
  },
  {
   "cell_type": "markdown",
   "metadata": {},
   "source": [
    "We can also visualise using plot in pandas, we will cover this in more details toward the end of this notebook."
   ]
  },
  {
   "cell_type": "code",
   "execution_count": 22,
   "metadata": {},
   "outputs": [
    {
     "data": {
      "text/plain": [
       "<AxesSubplot: xlabel='Survived'>"
      ]
     },
     "execution_count": 22,
     "metadata": {},
     "output_type": "execute_result"
    },
    {
     "data": {
      "image/png": "[encoded data removed]",
      "text/plain": [
       "<Figure size 640x480 with 1 Axes>"
      ]
     },
     "metadata": {},
     "output_type": "display_data"
    }
   ],
   "source": [
    "survived_titanic.plot.bar()"
   ]
  },
  {
   "cell_type": "markdown",
   "metadata": {},
   "source": [
    "Let us see the gender distribution of the number of males and females who boarded the ship"
   ]
  },
  {
   "cell_type": "code",
   "execution_count": 23,
   "metadata": {},
   "outputs": [
    {
     "data": {
      "text/plain": [
       "Sex   \n",
       "male      577\n",
       "female    314\n",
       "dtype: int64"
      ]
     },
     "execution_count": 23,
     "metadata": {},
     "output_type": "execute_result"
    }
   ],
   "source": [
    "titanic_byGender = titanic[['Sex']].value_counts()\n",
    "titanic_byGender.head()"
   ]
  },
  {
   "cell_type": "code",
   "execution_count": 24,
   "metadata": {},
   "outputs": [
    {
     "data": {
      "text/plain": [
       "314"
      ]
     },
     "execution_count": 24,
     "metadata": {},
     "output_type": "execute_result"
    }
   ],
   "source": [
    "titanic_byGender[1]"
   ]
  },
  {
   "cell_type": "markdown",
   "metadata": {},
   "source": [
    "To see the percentage of male and females we can pass normalize=True to the value_counts() function and then multiply by 100."
   ]
  },
  {
   "cell_type": "code",
   "execution_count": 25,
   "metadata": {},
   "outputs": [
    {
     "data": {
      "text/plain": [
       "Sex   \n",
       "male      64.758698\n",
       "female    35.241302\n",
       "dtype: float64"
      ]
     },
     "execution_count": 25,
     "metadata": {},
     "output_type": "execute_result"
    }
   ],
   "source": [
    "titanic_byGender_perc = titanic[['Sex']].value_counts(normalize=True)*100\n",
    "titanic_byGender_perc.head()"
   ]
  },
  {
   "cell_type": "markdown",
   "metadata": {},
   "source": [
    "So male count is twice the female count on the ship"
   ]
  },
  {
   "cell_type": "markdown",
   "metadata": {},
   "source": [
    "If we are interested in the gender distribution of the survivors in the titanic dataset, then we can group records by 'Sex' to see how many males and females made it."
   ]
  },
  {
   "cell_type": "code",
   "execution_count": 26,
   "metadata": {},
   "outputs": [
    {
     "data": {
      "text/html": [
       "<div>\n",
       "<style scoped>\n",
       "    .dataframe tbody tr th:only-of-type {\n",
       "        vertical-align: middle;\n",
       "    }\n",
       "\n",
       "    .dataframe tbody tr th {\n",
       "        vertical-align: top;\n",
       "    }\n",
       "\n",
       "    .dataframe thead th {\n",
       "        text-align: right;\n",
       "    }\n",
       "</style>\n",
       "<table border=\"1\" class=\"dataframe\">\n",
       "  <thead>\n",
       "    <tr style=\"text-align: right;\">\n",
       "      <th></th>\n",
       "      <th>Survived</th>\n",
       "    </tr>\n",
       "    <tr>\n",
       "      <th>Sex</th>\n",
       "      <th></th>\n",
       "    </tr>\n",
       "  </thead>\n",
       "  <tbody>\n",
       "    <tr>\n",
       "      <th>female</th>\n",
       "      <td>233</td>\n",
       "    </tr>\n",
       "    <tr>\n",
       "      <th>male</th>\n",
       "      <td>109</td>\n",
       "    </tr>\n",
       "  </tbody>\n",
       "</table>\n",
       "</div>"
      ],
      "text/plain": [
       "        Survived\n",
       "Sex             \n",
       "female       233\n",
       "male         109"
      ]
     },
     "execution_count": 26,
     "metadata": {},
     "output_type": "execute_result"
    }
   ],
   "source": [
    "survived_titanic_byGender = titanic[['Sex','Survived']].groupby('Sex').sum()\n",
    "survived_titanic_byGender.head()"
   ]
  },
  {
   "cell_type": "markdown",
   "metadata": {},
   "source": [
    "Let us see now the count of male and females who survived and the count of male and female who did survived"
   ]
  },
  {
   "cell_type": "code",
   "execution_count": 27,
   "metadata": {},
   "outputs": [
    {
     "data": {
      "text/plain": [
       "Survived  Sex   \n",
       "0         female     81\n",
       "          male      468\n",
       "1         female    233\n",
       "          male      109\n",
       "dtype: int64"
      ]
     },
     "execution_count": 27,
     "metadata": {},
     "output_type": "execute_result"
    }
   ],
   "source": [
    "titanic_survival = titanic[['Survived', 'Sex']].groupby(['Survived','Sex']).value_counts()\n",
    "titanic_survival.head()"
   ]
  },
  {
   "cell_type": "markdown",
   "metadata": {},
   "source": [
    "To see the *percentage* of male and females who survived and the percentage of male and female who did survived, we can divide by the titanic_byGender and multiply by 100."
   ]
  },
  {
   "cell_type": "code",
   "execution_count": 28,
   "metadata": {},
   "outputs": [
    {
     "data": {
      "text/plain": [
       "Sex     Survived\n",
       "female  0           25.796178\n",
       "        1           74.203822\n",
       "male    0           81.109185\n",
       "        1           18.890815\n",
       "dtype: float64"
      ]
     },
     "execution_count": 28,
     "metadata": {},
     "output_type": "execute_result"
    }
   ],
   "source": [
    "titanic_survival_perc = titanic_survival/titanic_byGender*100\n",
    "titanic_survival_perc.head()"
   ]
  },
  {
   "cell_type": "markdown",
   "metadata": {},
   "source": [
    "As we can see 81% of males did not survived, while 74% of females survived! \n",
    "That shows a great preference of gender and a strong correlation between a specific gender and survival, which indicates that gender would be a strong predictor for survival for this dataset."
   ]
  },
  {
   "cell_type": "markdown",
   "metadata": {},
   "source": [
    "To see the age average of male and female"
   ]
  },
  {
   "cell_type": "code",
   "execution_count": 29,
   "metadata": {},
   "outputs": [
    {
     "data": {
      "text/html": [
       "<div>\n",
       "<style scoped>\n",
       "    .dataframe tbody tr th:only-of-type {\n",
       "        vertical-align: middle;\n",
       "    }\n",
       "\n",
       "    .dataframe tbody tr th {\n",
       "        vertical-align: top;\n",
       "    }\n",
       "\n",
       "    .dataframe thead th {\n",
       "        text-align: right;\n",
       "    }\n",
       "</style>\n",
       "<table border=\"1\" class=\"dataframe\">\n",
       "  <thead>\n",
       "    <tr style=\"text-align: right;\">\n",
       "      <th></th>\n",
       "      <th>Age</th>\n",
       "    </tr>\n",
       "    <tr>\n",
       "      <th>Sex</th>\n",
       "      <th></th>\n",
       "    </tr>\n",
       "  </thead>\n",
       "  <tbody>\n",
       "    <tr>\n",
       "      <th>female</th>\n",
       "      <td>28.267516</td>\n",
       "    </tr>\n",
       "    <tr>\n",
       "      <th>male</th>\n",
       "      <td>30.570485</td>\n",
       "    </tr>\n",
       "  </tbody>\n",
       "</table>\n",
       "</div>"
      ],
      "text/plain": [
       "              Age\n",
       "Sex              \n",
       "female  28.267516\n",
       "male    30.570485"
      ]
     },
     "execution_count": 29,
     "metadata": {},
     "output_type": "execute_result"
    }
   ],
   "source": [
    "titanic_byGender = titanic_age_sex.groupby(['Sex']).mean()\n",
    "titanic_byGender.head()"
   ]
  },
  {
   "cell_type": "markdown",
   "metadata": {},
   "source": [
    "Note that the 'Age' attribute has the mean of all female and male ages on the ship and it shows that on average the females were 2.8 years younger than their males counterparts."
   ]
  },
  {
   "cell_type": "markdown",
   "metadata": {},
   "source": [
    "## CrossTab Function"
   ]
  },
  {
   "cell_type": "markdown",
   "metadata": {},
   "source": [
    "A similar results can be obtained using crosstab instead of groupby (titanic[['Survived', 'Sex']].groupby(['Survived','Sex']).value_counts())"
   ]
  },
  {
   "cell_type": "code",
   "execution_count": 30,
   "metadata": {},
   "outputs": [
    {
     "name": "stdout",
     "output_type": "stream",
     "text": [
      "Survived    0    1\n",
      "Sex               \n",
      "female     81  233\n",
      "male      468  109\n"
     ]
    },
    {
     "data": {
      "text/plain": [
       "<AxesSubplot: xlabel='Sex'>"
      ]
     },
     "execution_count": 30,
     "metadata": {},
     "output_type": "execute_result"
    },
    {
     "data": {
      "image/png": "[encoded data removed]",
      "text/plain": [
       "<Figure size 640x480 with 1 Axes>"
      ]
     },
     "metadata": {},
     "output_type": "display_data"
    }
   ],
   "source": [
    "titanic_survival_ = pd.crosstab(titanic['Sex'], titanic['Survived'])\n",
    "print(titanic_survival_)\n",
    "titanic_survival_.plot.bar()"
   ]
  },
  {
   "cell_type": "markdown",
   "metadata": {},
   "source": [
    "## Your turn\n",
    "Try to see the distribution of Age with Sex and Survival and what you could deduce from them"
   ]
  },
  {
   "cell_type": "markdown",
   "metadata": {},
   "source": [
    "## GroupBy- multiple fields\n",
    "Groupby can yield an interesting information and insight about our data. Note that Pandas attempts to compute the mean of numeric columns, but there are some unexpected string or mixed-type data. So, by converting all columns to numeric explicitly and handling invalid entries, the operation proceeds without errors. In addition, dropping non-numeric columns ensures only aggregatable data is passed to the `.groupby()` and `.mean()` methods. The following code cell generate a DataFrame of grouped averages by `Age` and `Fare`, sorted by `Fare` in descending order, and display the first 5 rows."
   ]
  },
  {
   "cell_type": "code",
   "execution_count": 31,
   "metadata": {},
   "outputs": [
    {
     "name": "stdout",
     "output_type": "stream",
     "text": [
      "               Survived  Pclass  SibSp  Parch   Ticket  Cabin  Embarked\n",
      "Age  Fare                                                              \n",
      "35.0 512.3292       1.0     1.0    0.0    0.0      NaN    NaN       NaN\n",
      "36.0 512.3292       1.0     1.0    0.0    1.0      NaN    NaN       NaN\n",
      "19.0 263.0000       0.0     1.0    3.0    2.0  19950.0    NaN       NaN\n",
      "23.0 263.0000       1.0     1.0    3.0    2.0  19950.0    NaN       NaN\n",
      "24.0 263.0000       1.0     1.0    3.0    2.0  19950.0    NaN       NaN\n"
     ]
    }
   ],
   "source": [
    "# Ensure 'Age' and 'Fare' columns are numeric, coercing invalid entries to NaN\n",
    "titanic['Age'] = pd.to_numeric(titanic['Age'], errors='coerce')\n",
    "titanic['Fare'] = pd.to_numeric(titanic['Fare'], errors='coerce')\n",
    "\n",
    "# Drop non-numeric or irrelevant columns, then drop rows with NaN in 'Age' or 'Fare'\n",
    "titanic_cleaned = titanic.drop(['PassengerId', 'Name', 'Sex'], axis=1)\n",
    "titanic_cleaned = titanic_cleaned.dropna(subset=['Age', 'Fare'])\n",
    "\n",
    "# Ensure all remaining columns are numeric, coercing non-numeric ones to NaN\n",
    "for col in titanic_cleaned.columns:\n",
    "    titanic_cleaned[col] = pd.to_numeric(titanic_cleaned[col], errors='coerce')\n",
    "\n",
    "# Group by 'Age' and 'Fare', calculate the mean of other numeric columns\n",
    "titanic_byFare = titanic_cleaned.groupby(['Age', 'Fare']).mean()\n",
    "\n",
    "# Sort the grouped data by 'Fare' in descending order\n",
    "titanic_byFare_sorted = titanic_byFare.sort_values(by='Fare', ascending=False)\n",
    "\n",
    "# Display the first 5 rows of the sorted DataFrame\n",
    "print(titanic_byFare_sorted.head(5))"
   ]
  },
  {
   "cell_type": "markdown",
   "metadata": {},
   "source": [
    "Note how we cascaded two operations drop and groupby. This is possible since drop returns a dataframe.\n",
    "Also Note that this gives us the records grouped by both the 'Fare' and the 'Age'.\n"
   ]
  },
  {
   "cell_type": "markdown",
   "metadata": {},
   "source": [
    "Ok, let us now filter by 'Age', 'Fare' and 'Sex' and then we groupby and average via the 'Sex' attribute to see socioeconomic distribution of the journey."
   ]
  },
  {
   "cell_type": "code",
   "execution_count": 32,
   "metadata": {},
   "outputs": [
    {
     "data": {
      "text/html": [
       "<div>\n",
       "<style scoped>\n",
       "    .dataframe tbody tr th:only-of-type {\n",
       "        vertical-align: middle;\n",
       "    }\n",
       "\n",
       "    .dataframe tbody tr th {\n",
       "        vertical-align: top;\n",
       "    }\n",
       "\n",
       "    .dataframe thead th {\n",
       "        text-align: right;\n",
       "    }\n",
       "</style>\n",
       "<table border=\"1\" class=\"dataframe\">\n",
       "  <thead>\n",
       "    <tr style=\"text-align: right;\">\n",
       "      <th></th>\n",
       "      <th>Age</th>\n",
       "      <th>Fare</th>\n",
       "    </tr>\n",
       "    <tr>\n",
       "      <th>Sex</th>\n",
       "      <th></th>\n",
       "      <th></th>\n",
       "    </tr>\n",
       "  </thead>\n",
       "  <tbody>\n",
       "    <tr>\n",
       "      <th>female</th>\n",
       "      <td>28.3</td>\n",
       "      <td>44.5</td>\n",
       "    </tr>\n",
       "    <tr>\n",
       "      <th>male</th>\n",
       "      <td>30.6</td>\n",
       "      <td>25.5</td>\n",
       "    </tr>\n",
       "  </tbody>\n",
       "</table>\n",
       "</div>"
      ],
      "text/plain": [
       "         Age  Fare\n",
       "Sex               \n",
       "female  28.3  44.5\n",
       "male    30.6  25.5"
      ]
     },
     "execution_count": 32,
     "metadata": {},
     "output_type": "execute_result"
    }
   ],
   "source": [
    "titanic_byAgeFare = titanic[['Age','Fare', 'Sex']]\n",
    "titanic_byAgeFare = titanic_byAgeFare.groupby(['Sex'],sort='ascending').mean().round(1)\n",
    "titanic_byAgeFare.head()"
   ]
  },
  {
   "cell_type": "markdown",
   "metadata": {},
   "source": [
    "The results show that females paid almost £19 more than their males counterparts in general (this is about £2000 in today's money) and on average were 2.8 years younger than their male counterpart."
   ]
  },
  {
   "cell_type": "markdown",
   "metadata": {},
   "source": [
    "## Calculating the Ratio of Two Fields"
   ]
  },
  {
   "cell_type": "markdown",
   "metadata": {},
   "source": [
    "We can calculate a new field based on other fields in the dataset. This can be useful when we want to pre-process the data before passing it to a modelling technique.\n",
    "\n",
    "To demonstrate how, let us calculate the ratio of the 'Fare' and the 'Age' and assign the result to a new column (field) that we call 'FareAgeRatio' (although this might not make a lot of sense in the context of the Titanic dataset but it shows the concept)"
   ]
  },
  {
   "cell_type": "code",
   "execution_count": 33,
   "metadata": {},
   "outputs": [
    {
     "data": {
      "text/html": [
       "<div>\n",
       "<style scoped>\n",
       "    .dataframe tbody tr th:only-of-type {\n",
       "        vertical-align: middle;\n",
       "    }\n",
       "\n",
       "    .dataframe tbody tr th {\n",
       "        vertical-align: top;\n",
       "    }\n",
       "\n",
       "    .dataframe thead th {\n",
       "        text-align: right;\n",
       "    }\n",
       "</style>\n",
       "<table border=\"1\" class=\"dataframe\">\n",
       "  <thead>\n",
       "    <tr style=\"text-align: right;\">\n",
       "      <th></th>\n",
       "      <th>PassengerId</th>\n",
       "      <th>Survived</th>\n",
       "      <th>Pclass</th>\n",
       "      <th>Name</th>\n",
       "      <th>Sex</th>\n",
       "      <th>Age</th>\n",
       "      <th>SibSp</th>\n",
       "      <th>Parch</th>\n",
       "      <th>Ticket</th>\n",
       "      <th>Fare</th>\n",
       "      <th>Cabin</th>\n",
       "      <th>Embarked</th>\n",
       "      <th>FareAgeRatio</th>\n",
       "    </tr>\n",
       "  </thead>\n",
       "  <tbody>\n",
       "    <tr>\n",
       "      <th>305</th>\n",
       "      <td>306</td>\n",
       "      <td>1</td>\n",
       "      <td>1</td>\n",
       "      <td>Allison, Master Hudson Trevor</td>\n",
       "      <td>male</td>\n",
       "      <td>0.92</td>\n",
       "      <td>1</td>\n",
       "      <td>2</td>\n",
       "      <td>113781</td>\n",
       "      <td>151.5500</td>\n",
       "      <td>C22 C26</td>\n",
       "      <td>S</td>\n",
       "      <td>0.006071</td>\n",
       "    </tr>\n",
       "    <tr>\n",
       "      <th>297</th>\n",
       "      <td>298</td>\n",
       "      <td>0</td>\n",
       "      <td>1</td>\n",
       "      <td>Allison, Miss Helen Loraine</td>\n",
       "      <td>female</td>\n",
       "      <td>2.00</td>\n",
       "      <td>1</td>\n",
       "      <td>2</td>\n",
       "      <td>113781</td>\n",
       "      <td>151.5500</td>\n",
       "      <td>C22 C26</td>\n",
       "      <td>S</td>\n",
       "      <td>0.013197</td>\n",
       "    </tr>\n",
       "    <tr>\n",
       "      <th>386</th>\n",
       "      <td>387</td>\n",
       "      <td>0</td>\n",
       "      <td>3</td>\n",
       "      <td>Goodwin, Master Sidney Leonard</td>\n",
       "      <td>male</td>\n",
       "      <td>1.00</td>\n",
       "      <td>5</td>\n",
       "      <td>2</td>\n",
       "      <td>CA 2144</td>\n",
       "      <td>46.9000</td>\n",
       "      <td>NaN</td>\n",
       "      <td>S</td>\n",
       "      <td>0.021322</td>\n",
       "    </tr>\n",
       "    <tr>\n",
       "      <th>164</th>\n",
       "      <td>165</td>\n",
       "      <td>0</td>\n",
       "      <td>3</td>\n",
       "      <td>Panula, Master Eino Viljami</td>\n",
       "      <td>male</td>\n",
       "      <td>1.00</td>\n",
       "      <td>4</td>\n",
       "      <td>1</td>\n",
       "      <td>3101295</td>\n",
       "      <td>39.6875</td>\n",
       "      <td>NaN</td>\n",
       "      <td>S</td>\n",
       "      <td>0.025197</td>\n",
       "    </tr>\n",
       "    <tr>\n",
       "      <th>183</th>\n",
       "      <td>184</td>\n",
       "      <td>1</td>\n",
       "      <td>2</td>\n",
       "      <td>Becker, Master Richard F</td>\n",
       "      <td>male</td>\n",
       "      <td>1.00</td>\n",
       "      <td>2</td>\n",
       "      <td>1</td>\n",
       "      <td>230136</td>\n",
       "      <td>39.0000</td>\n",
       "      <td>F4</td>\n",
       "      <td>S</td>\n",
       "      <td>0.025641</td>\n",
       "    </tr>\n",
       "    <tr>\n",
       "      <th>827</th>\n",
       "      <td>828</td>\n",
       "      <td>1</td>\n",
       "      <td>2</td>\n",
       "      <td>Mallet, Master Andre</td>\n",
       "      <td>male</td>\n",
       "      <td>1.00</td>\n",
       "      <td>0</td>\n",
       "      <td>2</td>\n",
       "      <td>S.C./PARIS 2079</td>\n",
       "      <td>37.0042</td>\n",
       "      <td>NaN</td>\n",
       "      <td>C</td>\n",
       "      <td>0.027024</td>\n",
       "    </tr>\n",
       "    <tr>\n",
       "      <th>78</th>\n",
       "      <td>79</td>\n",
       "      <td>1</td>\n",
       "      <td>2</td>\n",
       "      <td>Caldwell, Master Alden Gates</td>\n",
       "      <td>male</td>\n",
       "      <td>0.83</td>\n",
       "      <td>0</td>\n",
       "      <td>2</td>\n",
       "      <td>248738</td>\n",
       "      <td>29.0000</td>\n",
       "      <td>NaN</td>\n",
       "      <td>S</td>\n",
       "      <td>0.028621</td>\n",
       "    </tr>\n",
       "    <tr>\n",
       "      <th>469</th>\n",
       "      <td>470</td>\n",
       "      <td>1</td>\n",
       "      <td>3</td>\n",
       "      <td>Baclini, Miss Helene Barbara</td>\n",
       "      <td>female</td>\n",
       "      <td>0.75</td>\n",
       "      <td>2</td>\n",
       "      <td>1</td>\n",
       "      <td>2666</td>\n",
       "      <td>19.2583</td>\n",
       "      <td>NaN</td>\n",
       "      <td>C</td>\n",
       "      <td>0.038944</td>\n",
       "    </tr>\n",
       "  </tbody>\n",
       "</table>\n",
       "</div>"
      ],
      "text/plain": [
       "     PassengerId  Survived  Pclass                            Name     Sex  \\\n",
       "305          306         1       1   Allison, Master Hudson Trevor    male   \n",
       "297          298         0       1     Allison, Miss Helen Loraine  female   \n",
       "386          387         0       3  Goodwin, Master Sidney Leonard    male   \n",
       "164          165         0       3     Panula, Master Eino Viljami    male   \n",
       "183          184         1       2        Becker, Master Richard F    male   \n",
       "827          828         1       2            Mallet, Master Andre    male   \n",
       "78            79         1       2    Caldwell, Master Alden Gates    male   \n",
       "469          470         1       3    Baclini, Miss Helene Barbara  female   \n",
       "\n",
       "      Age  SibSp  Parch           Ticket      Fare    Cabin Embarked  \\\n",
       "305  0.92      1      2           113781  151.5500  C22 C26        S   \n",
       "297  2.00      1      2           113781  151.5500  C22 C26        S   \n",
       "386  1.00      5      2          CA 2144   46.9000      NaN        S   \n",
       "164  1.00      4      1          3101295   39.6875      NaN        S   \n",
       "183  1.00      2      1           230136   39.0000       F4        S   \n",
       "827  1.00      0      2  S.C./PARIS 2079   37.0042      NaN        C   \n",
       "78   0.83      0      2           248738   29.0000      NaN        S   \n",
       "469  0.75      2      1             2666   19.2583      NaN        C   \n",
       "\n",
       "     FareAgeRatio  \n",
       "305      0.006071  \n",
       "297      0.013197  \n",
       "386      0.021322  \n",
       "164      0.025197  \n",
       "183      0.025641  \n",
       "827      0.027024  \n",
       "78       0.028621  \n",
       "469      0.038944  "
      ]
     },
     "execution_count": 33,
     "metadata": {},
     "output_type": "execute_result"
    }
   ],
   "source": [
    "titanic['FareAgeRatio'] = titanic['Age']/titanic['Fare']\n",
    "titanic.sort_values(by=['FareAgeRatio'], inplace=True, ascending=True)\n",
    "titanic.head(8)"
   ]
  },
  {
   "cell_type": "markdown",
   "metadata": {},
   "source": [
    "## Summarising and Rescaling a Field"
   ]
  },
  {
   "cell_type": "markdown",
   "metadata": {},
   "source": [
    "Sometimes it is useful to rescale the data in order to normalise it to make sure that all entries lie within the unit interval [0,1]. Such property has many benefits and it can guarantee better performance for some models such as the kNN (k Nearest Neigbours) technique discussed in unit 3. Effectively it prevents one attribute from dominating other attributes due to its values being large by nature in comparison to other attributes.\n",
    "\n",
    "Let us see how we can do this in pandas succinctly for the age.\n",
    "First let us see how we can get the max and min of the ages on our DataFrame"
   ]
  },
  {
   "cell_type": "code",
   "execution_count": 34,
   "metadata": {},
   "outputs": [
    {
     "data": {
      "text/plain": [
       "(80.0, 0.42)"
      ]
     },
     "execution_count": 34,
     "metadata": {},
     "output_type": "execute_result"
    }
   ],
   "source": [
    "titanic.Age.max(), titanic.Age.min()"
   ]
  },
  {
   "cell_type": "markdown",
   "metadata": {},
   "source": [
    "To rescale we need to take each age, subtract it from the min and then we divide the result over the max - min"
   ]
  },
  {
   "cell_type": "code",
   "execution_count": 35,
   "metadata": {},
   "outputs": [
    {
     "data": {
      "text/html": [
       "<div>\n",
       "<style scoped>\n",
       "    .dataframe tbody tr th:only-of-type {\n",
       "        vertical-align: middle;\n",
       "    }\n",
       "\n",
       "    .dataframe tbody tr th {\n",
       "        vertical-align: top;\n",
       "    }\n",
       "\n",
       "    .dataframe thead th {\n",
       "        text-align: right;\n",
       "    }\n",
       "</style>\n",
       "<table border=\"1\" class=\"dataframe\">\n",
       "  <thead>\n",
       "    <tr style=\"text-align: right;\">\n",
       "      <th></th>\n",
       "      <th>PassengerId</th>\n",
       "      <th>Survived</th>\n",
       "      <th>Pclass</th>\n",
       "      <th>Name</th>\n",
       "      <th>Sex</th>\n",
       "      <th>Age</th>\n",
       "      <th>SibSp</th>\n",
       "      <th>Parch</th>\n",
       "      <th>Ticket</th>\n",
       "      <th>Fare</th>\n",
       "      <th>Cabin</th>\n",
       "      <th>Embarked</th>\n",
       "      <th>FareAgeRatio</th>\n",
       "      <th>AgeRescaled</th>\n",
       "    </tr>\n",
       "  </thead>\n",
       "  <tbody>\n",
       "    <tr>\n",
       "      <th>305</th>\n",
       "      <td>306</td>\n",
       "      <td>1</td>\n",
       "      <td>1</td>\n",
       "      <td>Allison, Master Hudson Trevor</td>\n",
       "      <td>male</td>\n",
       "      <td>0.92</td>\n",
       "      <td>1</td>\n",
       "      <td>2</td>\n",
       "      <td>113781</td>\n",
       "      <td>151.5500</td>\n",
       "      <td>C22 C26</td>\n",
       "      <td>S</td>\n",
       "      <td>0.006071</td>\n",
       "      <td>0.006283</td>\n",
       "    </tr>\n",
       "    <tr>\n",
       "      <th>297</th>\n",
       "      <td>298</td>\n",
       "      <td>0</td>\n",
       "      <td>1</td>\n",
       "      <td>Allison, Miss Helen Loraine</td>\n",
       "      <td>female</td>\n",
       "      <td>2.00</td>\n",
       "      <td>1</td>\n",
       "      <td>2</td>\n",
       "      <td>113781</td>\n",
       "      <td>151.5500</td>\n",
       "      <td>C22 C26</td>\n",
       "      <td>S</td>\n",
       "      <td>0.013197</td>\n",
       "      <td>0.019854</td>\n",
       "    </tr>\n",
       "    <tr>\n",
       "      <th>386</th>\n",
       "      <td>387</td>\n",
       "      <td>0</td>\n",
       "      <td>3</td>\n",
       "      <td>Goodwin, Master Sidney Leonard</td>\n",
       "      <td>male</td>\n",
       "      <td>1.00</td>\n",
       "      <td>5</td>\n",
       "      <td>2</td>\n",
       "      <td>CA 2144</td>\n",
       "      <td>46.9000</td>\n",
       "      <td>NaN</td>\n",
       "      <td>S</td>\n",
       "      <td>0.021322</td>\n",
       "      <td>0.007288</td>\n",
       "    </tr>\n",
       "    <tr>\n",
       "      <th>164</th>\n",
       "      <td>165</td>\n",
       "      <td>0</td>\n",
       "      <td>3</td>\n",
       "      <td>Panula, Master Eino Viljami</td>\n",
       "      <td>male</td>\n",
       "      <td>1.00</td>\n",
       "      <td>4</td>\n",
       "      <td>1</td>\n",
       "      <td>3101295</td>\n",
       "      <td>39.6875</td>\n",
       "      <td>NaN</td>\n",
       "      <td>S</td>\n",
       "      <td>0.025197</td>\n",
       "      <td>0.007288</td>\n",
       "    </tr>\n",
       "    <tr>\n",
       "      <th>183</th>\n",
       "      <td>184</td>\n",
       "      <td>1</td>\n",
       "      <td>2</td>\n",
       "      <td>Becker, Master Richard F</td>\n",
       "      <td>male</td>\n",
       "      <td>1.00</td>\n",
       "      <td>2</td>\n",
       "      <td>1</td>\n",
       "      <td>230136</td>\n",
       "      <td>39.0000</td>\n",
       "      <td>F4</td>\n",
       "      <td>S</td>\n",
       "      <td>0.025641</td>\n",
       "      <td>0.007288</td>\n",
       "    </tr>\n",
       "  </tbody>\n",
       "</table>\n",
       "</div>"
      ],
      "text/plain": [
       "     PassengerId  Survived  Pclass                            Name     Sex  \\\n",
       "305          306         1       1   Allison, Master Hudson Trevor    male   \n",
       "297          298         0       1     Allison, Miss Helen Loraine  female   \n",
       "386          387         0       3  Goodwin, Master Sidney Leonard    male   \n",
       "164          165         0       3     Panula, Master Eino Viljami    male   \n",
       "183          184         1       2        Becker, Master Richard F    male   \n",
       "\n",
       "      Age  SibSp  Parch   Ticket      Fare    Cabin Embarked  FareAgeRatio  \\\n",
       "305  0.92      1      2   113781  151.5500  C22 C26        S      0.006071   \n",
       "297  2.00      1      2   113781  151.5500  C22 C26        S      0.013197   \n",
       "386  1.00      5      2  CA 2144   46.9000      NaN        S      0.021322   \n",
       "164  1.00      4      1  3101295   39.6875      NaN        S      0.025197   \n",
       "183  1.00      2      1   230136   39.0000       F4        S      0.025641   \n",
       "\n",
       "     AgeRescaled  \n",
       "305     0.006283  \n",
       "297     0.019854  \n",
       "386     0.007288  \n",
       "164     0.007288  \n",
       "183     0.007288  "
      ]
     },
     "execution_count": 35,
     "metadata": {},
     "output_type": "execute_result"
    }
   ],
   "source": [
    "titanic['AgeRescaled'] = (titanic.Age - titanic.Age.min())/(titanic.Age.max()-titanic.Age.min())\n",
    "titanic.head()"
   ]
  },
  {
   "cell_type": "markdown",
   "metadata": {},
   "source": [
    "If we want to select the relevant attributes without creating a new DataFrame we can do so by creating a list of those relevant attributes. This is a better practice because trying to add a newly created attribute to a DataFrame copy will result in a warning. "
   ]
  },
  {
   "cell_type": "code",
   "execution_count": 36,
   "metadata": {},
   "outputs": [
    {
     "data": {
      "text/html": [
       "<div>\n",
       "<style scoped>\n",
       "    .dataframe tbody tr th:only-of-type {\n",
       "        vertical-align: middle;\n",
       "    }\n",
       "\n",
       "    .dataframe tbody tr th {\n",
       "        vertical-align: top;\n",
       "    }\n",
       "\n",
       "    .dataframe thead th {\n",
       "        text-align: right;\n",
       "    }\n",
       "</style>\n",
       "<table border=\"1\" class=\"dataframe\">\n",
       "  <thead>\n",
       "    <tr style=\"text-align: right;\">\n",
       "      <th></th>\n",
       "      <th>Survived</th>\n",
       "      <th>Pclass</th>\n",
       "      <th>Sex</th>\n",
       "      <th>Fare</th>\n",
       "      <th>Embarked</th>\n",
       "      <th>Age</th>\n",
       "      <th>AgeRescaled</th>\n",
       "    </tr>\n",
       "  </thead>\n",
       "  <tbody>\n",
       "    <tr>\n",
       "      <th>305</th>\n",
       "      <td>1</td>\n",
       "      <td>1</td>\n",
       "      <td>male</td>\n",
       "      <td>151.5500</td>\n",
       "      <td>S</td>\n",
       "      <td>0.92</td>\n",
       "      <td>0.006283</td>\n",
       "    </tr>\n",
       "    <tr>\n",
       "      <th>297</th>\n",
       "      <td>0</td>\n",
       "      <td>1</td>\n",
       "      <td>female</td>\n",
       "      <td>151.5500</td>\n",
       "      <td>S</td>\n",
       "      <td>2.00</td>\n",
       "      <td>0.019854</td>\n",
       "    </tr>\n",
       "    <tr>\n",
       "      <th>386</th>\n",
       "      <td>0</td>\n",
       "      <td>3</td>\n",
       "      <td>male</td>\n",
       "      <td>46.9000</td>\n",
       "      <td>S</td>\n",
       "      <td>1.00</td>\n",
       "      <td>0.007288</td>\n",
       "    </tr>\n",
       "    <tr>\n",
       "      <th>164</th>\n",
       "      <td>0</td>\n",
       "      <td>3</td>\n",
       "      <td>male</td>\n",
       "      <td>39.6875</td>\n",
       "      <td>S</td>\n",
       "      <td>1.00</td>\n",
       "      <td>0.007288</td>\n",
       "    </tr>\n",
       "    <tr>\n",
       "      <th>183</th>\n",
       "      <td>1</td>\n",
       "      <td>2</td>\n",
       "      <td>male</td>\n",
       "      <td>39.0000</td>\n",
       "      <td>S</td>\n",
       "      <td>1.00</td>\n",
       "      <td>0.007288</td>\n",
       "    </tr>\n",
       "  </tbody>\n",
       "</table>\n",
       "</div>"
      ],
      "text/plain": [
       "     Survived  Pclass     Sex      Fare Embarked   Age  AgeRescaled\n",
       "305         1       1    male  151.5500        S  0.92     0.006283\n",
       "297         0       1  female  151.5500        S  2.00     0.019854\n",
       "386         0       3    male   46.9000        S  1.00     0.007288\n",
       "164         0       3    male   39.6875        S  1.00     0.007288\n",
       "183         1       2    male   39.0000        S  1.00     0.007288"
      ]
     },
     "execution_count": 36,
     "metadata": {},
     "output_type": "execute_result"
    }
   ],
   "source": [
    "relevant = ['Survived', 'Pclass', 'Sex', 'Fare', 'Embarked', 'Age', 'AgeRescaled']\n",
    "titanic[relevant].head()"
   ]
  },
  {
   "cell_type": "code",
   "execution_count": 37,
   "metadata": {},
   "outputs": [
    {
     "data": {
      "text/html": [
       "<div>\n",
       "<style scoped>\n",
       "    .dataframe tbody tr th:only-of-type {\n",
       "        vertical-align: middle;\n",
       "    }\n",
       "\n",
       "    .dataframe tbody tr th {\n",
       "        vertical-align: top;\n",
       "    }\n",
       "\n",
       "    .dataframe thead th {\n",
       "        text-align: right;\n",
       "    }\n",
       "</style>\n",
       "<table border=\"1\" class=\"dataframe\">\n",
       "  <thead>\n",
       "    <tr style=\"text-align: right;\">\n",
       "      <th></th>\n",
       "      <th>Survived</th>\n",
       "      <th>Sex</th>\n",
       "      <th>Fare</th>\n",
       "      <th>Age</th>\n",
       "      <th>AgeRescaled</th>\n",
       "    </tr>\n",
       "  </thead>\n",
       "  <tbody>\n",
       "    <tr>\n",
       "      <th>305</th>\n",
       "      <td>1</td>\n",
       "      <td>male</td>\n",
       "      <td>151.5500</td>\n",
       "      <td>0.92</td>\n",
       "      <td>0.006283</td>\n",
       "    </tr>\n",
       "    <tr>\n",
       "      <th>297</th>\n",
       "      <td>0</td>\n",
       "      <td>female</td>\n",
       "      <td>151.5500</td>\n",
       "      <td>2.00</td>\n",
       "      <td>0.019854</td>\n",
       "    </tr>\n",
       "    <tr>\n",
       "      <th>386</th>\n",
       "      <td>0</td>\n",
       "      <td>male</td>\n",
       "      <td>46.9000</td>\n",
       "      <td>1.00</td>\n",
       "      <td>0.007288</td>\n",
       "    </tr>\n",
       "    <tr>\n",
       "      <th>164</th>\n",
       "      <td>0</td>\n",
       "      <td>male</td>\n",
       "      <td>39.6875</td>\n",
       "      <td>1.00</td>\n",
       "      <td>0.007288</td>\n",
       "    </tr>\n",
       "    <tr>\n",
       "      <th>183</th>\n",
       "      <td>1</td>\n",
       "      <td>male</td>\n",
       "      <td>39.0000</td>\n",
       "      <td>1.00</td>\n",
       "      <td>0.007288</td>\n",
       "    </tr>\n",
       "  </tbody>\n",
       "</table>\n",
       "</div>"
      ],
      "text/plain": [
       "     Survived     Sex      Fare   Age  AgeRescaled\n",
       "305         1    male  151.5500  0.92     0.006283\n",
       "297         0  female  151.5500  2.00     0.019854\n",
       "386         0    male   46.9000  1.00     0.007288\n",
       "164         0    male   39.6875  1.00     0.007288\n",
       "183         1    male   39.0000  1.00     0.007288"
      ]
     },
     "execution_count": 37,
     "metadata": {},
     "output_type": "execute_result"
    }
   ],
   "source": [
    "# we can create a smaller dataframe\n",
    "relevant_small = ['Survived', 'Sex', 'Fare', 'Age', 'AgeRescaled']\n",
    "titanic[relevant_small].head()"
   ]
  },
  {
   "cell_type": "markdown",
   "metadata": {},
   "source": [
    "Try to rescale the 'Fare' attribute"
   ]
  },
  {
   "cell_type": "code",
   "execution_count": 38,
   "metadata": {},
   "outputs": [],
   "source": [
    "titanic['FareRescaled'] = (titanic.Fare - titanic.Fare.min())/(titanic.Fare.max()-titanic.Fare.min())"
   ]
  },
  {
   "cell_type": "markdown",
   "metadata": {},
   "source": [
    "Let us see how the gender affected the survivals"
   ]
  },
  {
   "cell_type": "code",
   "execution_count": 39,
   "metadata": {},
   "outputs": [
    {
     "data": {
      "text/html": [
       "<div>\n",
       "<style scoped>\n",
       "    .dataframe tbody tr th:only-of-type {\n",
       "        vertical-align: middle;\n",
       "    }\n",
       "\n",
       "    .dataframe tbody tr th {\n",
       "        vertical-align: top;\n",
       "    }\n",
       "\n",
       "    .dataframe thead th {\n",
       "        text-align: right;\n",
       "    }\n",
       "</style>\n",
       "<table border=\"1\" class=\"dataframe\">\n",
       "  <thead>\n",
       "    <tr style=\"text-align: right;\">\n",
       "      <th></th>\n",
       "      <th></th>\n",
       "      <th>AgeRescaled</th>\n",
       "      <th>FareRescaled</th>\n",
       "    </tr>\n",
       "    <tr>\n",
       "      <th>Sex</th>\n",
       "      <th>Survived</th>\n",
       "      <th></th>\n",
       "      <th></th>\n",
       "    </tr>\n",
       "  </thead>\n",
       "  <tbody>\n",
       "    <tr>\n",
       "      <th rowspan=\"2\" valign=\"top\">female</th>\n",
       "      <th>0</th>\n",
       "      <td>0.322523</td>\n",
       "      <td>0.044941</td>\n",
       "    </tr>\n",
       "    <tr>\n",
       "      <th>1</th>\n",
       "      <td>0.359459</td>\n",
       "      <td>0.101377</td>\n",
       "    </tr>\n",
       "    <tr>\n",
       "      <th rowspan=\"2\" valign=\"top\">male</th>\n",
       "      <th>0</th>\n",
       "      <td>0.387342</td>\n",
       "      <td>0.042865</td>\n",
       "    </tr>\n",
       "    <tr>\n",
       "      <th>1</th>\n",
       "      <td>0.342497</td>\n",
       "      <td>0.079678</td>\n",
       "    </tr>\n",
       "  </tbody>\n",
       "</table>\n",
       "</div>"
      ],
      "text/plain": [
       "                 AgeRescaled  FareRescaled\n",
       "Sex    Survived                           \n",
       "female 0            0.322523      0.044941\n",
       "       1            0.359459      0.101377\n",
       "male   0            0.387342      0.042865\n",
       "       1            0.342497      0.079678"
      ]
     },
     "execution_count": 39,
     "metadata": {},
     "output_type": "execute_result"
    }
   ],
   "source": [
    "titanic_byGender = titanic[['Sex','Survived','AgeRescaled','FareRescaled']].groupby(['Sex','Survived']).mean()\n",
    "titanic_byGender.head()\n",
    "#titanic_byGender.columns"
   ]
  },
  {
   "cell_type": "markdown",
   "metadata": {},
   "source": [
    "**Note**: Although we have used pandas to perform rescaling, sklearn provides a superior operators that can be used to achieve this objective and they should be used instead of pandas. This is because they provide a better integration with other tools like pipelines to help prevent data leakage. See the example at the end of the notebook."
   ]
  },
  {
   "cell_type": "markdown",
   "metadata": {},
   "source": [
    "-----\n",
    "# Data Visualisation: with Pandas\n"
   ]
  },
  {
   "cell_type": "markdown",
   "metadata": {},
   "source": [
    "## Simple Command for Plotting in Pandas"
   ]
  },
  {
   "cell_type": "markdown",
   "metadata": {},
   "source": [
    "There are some built-in capabilities to plot in pandas, however you might find it easier to use ‎matplotlib. Below we show both approaches."
   ]
  },
  {
   "cell_type": "code",
   "execution_count": 40,
   "metadata": {},
   "outputs": [
    {
     "data": {
      "text/html": [
       "<div>\n",
       "<style scoped>\n",
       "    .dataframe tbody tr th:only-of-type {\n",
       "        vertical-align: middle;\n",
       "    }\n",
       "\n",
       "    .dataframe tbody tr th {\n",
       "        vertical-align: top;\n",
       "    }\n",
       "\n",
       "    .dataframe thead th {\n",
       "        text-align: right;\n",
       "    }\n",
       "</style>\n",
       "<table border=\"1\" class=\"dataframe\">\n",
       "  <thead>\n",
       "    <tr style=\"text-align: right;\">\n",
       "      <th></th>\n",
       "      <th>Age</th>\n",
       "      <th>Fare</th>\n",
       "    </tr>\n",
       "    <tr>\n",
       "      <th>Sex</th>\n",
       "      <th></th>\n",
       "      <th></th>\n",
       "    </tr>\n",
       "  </thead>\n",
       "  <tbody>\n",
       "    <tr>\n",
       "      <th>female</th>\n",
       "      <td>28.3</td>\n",
       "      <td>44.5</td>\n",
       "    </tr>\n",
       "    <tr>\n",
       "      <th>male</th>\n",
       "      <td>30.6</td>\n",
       "      <td>25.5</td>\n",
       "    </tr>\n",
       "  </tbody>\n",
       "</table>\n",
       "</div>"
      ],
      "text/plain": [
       "         Age  Fare\n",
       "Sex               \n",
       "female  28.3  44.5\n",
       "male    30.6  25.5"
      ]
     },
     "execution_count": 40,
     "metadata": {},
     "output_type": "execute_result"
    },
    {
     "data": {
      "image/png": "[encoded data removed]",
      "text/plain": [
       "<Figure size 640x480 with 1 Axes>"
      ]
     },
     "metadata": {},
     "output_type": "display_data"
    }
   ],
   "source": [
    "titanic_byAgeFare.plot(marker='.')\n",
    "titanic_byAgeFare"
   ]
  },
  {
   "cell_type": "markdown",
   "metadata": {},
   "source": [
    "Note how the 'Fare' and 'Age' varies with gender. This visualization shows that 'Fare' varies more significantly with gender than with age. This visualisation would be better using a bar chart which we show below."
   ]
  },
  {
   "cell_type": "code",
   "execution_count": 41,
   "metadata": {},
   "outputs": [
    {
     "data": {
      "text/plain": [
       "<AxesSubplot: xlabel='Sex'>"
      ]
     },
     "execution_count": 41,
     "metadata": {},
     "output_type": "execute_result"
    },
    {
     "data": {
      "image/png": "[encoded data removed]",
      "text/plain": [
       "<Figure size 640x480 with 1 Axes>"
      ]
     },
     "metadata": {},
     "output_type": "display_data"
    }
   ],
   "source": [
    "titanic_byAgeFare.plot.bar()"
   ]
  },
  {
   "cell_type": "markdown",
   "metadata": {},
   "source": [
    "We can use a scatter plot which conveys a different visualisation that shows each point as a dot(bulb). We need to pass to it the fields that we want to visualise against each other. "
   ]
  },
  {
   "cell_type": "code",
   "execution_count": 42,
   "metadata": {},
   "outputs": [
    {
     "data": {
      "text/plain": [
       "<AxesSubplot: xlabel='Survived', ylabel='Fare'>"
      ]
     },
     "execution_count": 42,
     "metadata": {},
     "output_type": "execute_result"
    },
    {
     "data": {
      "image/png": "[encoded data removed]",
      "text/plain": [
       "<Figure size 640x480 with 1 Axes>"
      ]
     },
     "metadata": {},
     "output_type": "display_data"
    }
   ],
   "source": [
    "titanic.plot.scatter('Survived', 'Fare')"
   ]
  },
  {
   "cell_type": "markdown",
   "metadata": {},
   "source": [
    "Note how survival seems not to be affected by the fair for the first £100 then the chances of survival becomes higher for the [100,200] price bracket. Interestingly the [200, 300] bracket seems to have similar chances of survival and not survival(possibly affected by gender). Finally all those who paid extremely high price fare of more than £500 have survived."
   ]
  },
  {
   "cell_type": "code",
   "execution_count": 43,
   "metadata": {},
   "outputs": [
    {
     "data": {
      "text/plain": [
       "<AxesSubplot: xlabel='Survived', ylabel='Fare'>"
      ]
     },
     "execution_count": 43,
     "metadata": {},
     "output_type": "execute_result"
    },
    {
     "data": {
      "image/png": "[encoded data removed]",
      "text/plain": [
       "<Figure size 640x480 with 1 Axes>"
      ]
     },
     "metadata": {},
     "output_type": "display_data"
    }
   ],
   "source": [
    "titanic.plot.scatter(x='Survived', y='Fare', alpha= 0.1)"
   ]
  },
  {
   "cell_type": "markdown",
   "metadata": {},
   "source": [
    "The alpha argument is for how transparent the bubbles are, 1 is not transparent (the default) while 0 is completely transparent (which will not allow you to see anything so do not assign 0 to this parameter)."
   ]
  },
  {
   "cell_type": "code",
   "execution_count": 44,
   "metadata": {},
   "outputs": [
    {
     "data": {
      "text/plain": [
       "<AxesSubplot: xlabel='Survived', ylabel='Age'>"
      ]
     },
     "execution_count": 44,
     "metadata": {},
     "output_type": "execute_result"
    },
    {
     "data": {
      "image/png": "[encoded data removed]",
      "text/plain": [
       "<Figure size 640x480 with 1 Axes>"
      ]
     },
     "metadata": {},
     "output_type": "display_data"
    }
   ],
   "source": [
    "titanic.plot.scatter(x='Survived', y='Age', alpha=0.1)"
   ]
  },
  {
   "cell_type": "markdown",
   "metadata": {},
   "source": [
    "This shows that the age group above 65 have less survival chances"
   ]
  },
  {
   "cell_type": "markdown",
   "metadata": {},
   "source": [
    "## Data Visualisation from Different Perspectives"
   ]
  },
  {
   "cell_type": "markdown",
   "metadata": {},
   "source": [
    "Let us now plot the Age against the Fare and see if there is some correlation with the survival of the passengers "
   ]
  },
  {
   "cell_type": "code",
   "execution_count": 45,
   "metadata": {},
   "outputs": [
    {
     "data": {
      "text/plain": [
       "<AxesSubplot: xlabel='Age', ylabel='Fare'>"
      ]
     },
     "execution_count": 45,
     "metadata": {},
     "output_type": "execute_result"
    },
    {
     "data": {
      "image/png": "[encoded data removed]",
      "text/plain": [
       "<Figure size 640x480 with 1 Axes>"
      ]
     },
     "metadata": {},
     "output_type": "display_data"
    }
   ],
   "source": [
    "titanic.plot.scatter(x='Age', y='Fare', alpha=0.1)"
   ]
  },
  {
   "cell_type": "markdown",
   "metadata": {},
   "source": [
    "Let us now plot the label of the data (Survived) against the gender. Note that this label can be used to predict the survival of a passenger in a supervised learning manner. You will learn more about this in the machine learning and data science modules."
   ]
  },
  {
   "cell_type": "code",
   "execution_count": 46,
   "metadata": {},
   "outputs": [
    {
     "data": {
      "text/plain": [
       "<AxesSubplot: xlabel='Sex', ylabel='Survived'>"
      ]
     },
     "execution_count": 46,
     "metadata": {},
     "output_type": "execute_result"
    },
    {
     "data": {
      "image/png": "[encoded data removed]",
      "text/plain": [
       "<Figure size 640x480 with 1 Axes>"
      ]
     },
     "metadata": {},
     "output_type": "display_data"
    }
   ],
   "source": [
    "titanic.plot.scatter(x='Sex', y='Survived', alpha=0.1)"
   ]
  },
  {
   "cell_type": "markdown",
   "metadata": {},
   "source": [
    "This seems to suggest that survival and non-survival occurred in all age and gender groups."
   ]
  },
  {
   "cell_type": "markdown",
   "metadata": {},
   "source": [
    "If we plot the gender against the survivals and the 'Fare' in a bubble plot, it becomes clearer that the Fare played a role in the survival of the passenger. At least we can say there is some correlation between them. Note that we have used the Fare to represent the size of each bubble. Note how it is possible to use the plt module (by importing the matplotlib.pyplot library) directly. Note that we have to use titanic DataFrame to refer to any attribute inside it, while we did not have to do that in the above examples, both ways are valid."
   ]
  },
  {
   "cell_type": "code",
   "execution_count": 47,
   "metadata": {},
   "outputs": [
    {
     "data": {
      "text/plain": [
       "<matplotlib.collections.PathCollection at 0x77bae2a5d240>"
      ]
     },
     "execution_count": 47,
     "metadata": {},
     "output_type": "execute_result"
    },
    {
     "data": {
      "image/png": "[encoded data removed]",
      "text/plain": [
       "<Figure size 640x480 with 1 Axes>"
      ]
     },
     "metadata": {},
     "output_type": "display_data"
    }
   ],
   "source": [
    "import matplotlib.pyplot as plt\n",
    "plt.scatter(x=titanic['Sex'], y=titanic['Survived'], s = titanic['Fare'])"
   ]
  },
  {
   "cell_type": "markdown",
   "metadata": {},
   "source": [
    "Can you find a way to change the transparency and the colour the bubbles in the above example?\n",
    "Can you find a way to plot the data in last section of Exercise 2?"
   ]
  },
  {
   "cell_type": "markdown",
   "metadata": {},
   "source": [
    "Let us do the same for Age and Survived to see the effect of Age on survival chances"
   ]
  },
  {
   "cell_type": "code",
   "execution_count": 48,
   "metadata": {},
   "outputs": [
    {
     "data": {
      "image/png": "[encoded data removed]",
      "text/plain": [
       "<Figure size 640x480 with 1 Axes>"
      ]
     },
     "metadata": {},
     "output_type": "display_data"
    }
   ],
   "source": [
    "axs = plt.scatter(x=titanic['Age'], y=titanic['Survived'], s = titanic['Fare'])"
   ]
  },
  {
   "cell_type": "markdown",
   "metadata": {},
   "source": [
    "The figure seems to suggest that people in their 30s had relatively better survival chances than people in their 20s, also people in their 60s had less chances of survival than everyone. Children above 10 years old had relatively better chances than younger age."
   ]
  },
  {
   "cell_type": "markdown",
   "metadata": {},
   "source": [
    "### Correlation in pandas\n",
    "We can also employ correlation analysis from pandas to check for collinearity, as we show below."
   ]
  },
  {
   "cell_type": "code",
   "execution_count": 49,
   "metadata": {},
   "outputs": [
    {
     "data": {
      "image/png": "[encoded data removed]",
      "text/plain": [
       "<Figure size 480x480 with 2 Axes>"
      ]
     },
     "metadata": {},
     "output_type": "display_data"
    }
   ],
   "source": [
    "def correlation(X):\n",
    "    X = X.select_dtypes(include='number') \n",
    "    plt.matshow(X.corr(), cmap=plt.get_cmap('hot'))\n",
    "    plt.colorbar()\n",
    "    name_rng = np.arange(0,X.columns.size)\n",
    "    plt.xticks(name_rng, X.columns, rotation=80)\n",
    "    plt.yticks(name_rng, X.columns)\n",
    "    plt.show()\n",
    "\n",
    "correlation(titanic_org.drop(['PassengerId'], axis=1))"
   ]
  },
  {
   "cell_type": "markdown",
   "metadata": {},
   "source": [
    "As can be seen the 'Survived' class features is correlated more with 'Fare' and is less correlated with Age. Note that it is also negatively correlated to Pcalss, which means the higher the Pclass the less likely that the person will survive. This is because, Pclass is itself inversely correlated with affluence, and social class. For example 1st class has an advantage over and is treated better than 2nd class etc."
   ]
  },
  {
   "cell_type": "markdown",
   "metadata": {},
   "source": [
    "# Data Conversion: Converting Categorical into Numerical Data and its Pitfalls"
   ]
  },
  {
   "cell_type": "markdown",
   "metadata": {},
   "source": [
    "If we would like to convert the gender values into 0 and 1 to be able to manipulate them, then this can be done as follows:"
   ]
  },
  {
   "cell_type": "code",
   "execution_count": 50,
   "metadata": {},
   "outputs": [
    {
     "data": {
      "text/plain": [
       "0    577\n",
       "1    314\n",
       "Name: Sex, dtype: int64"
      ]
     },
     "execution_count": 50,
     "metadata": {},
     "output_type": "execute_result"
    }
   ],
   "source": [
    "conversion_criteria = {\"Sex\": {\"male\": 0, \"female\": 1}}\n",
    "titanic_ = titanic.replace(conversion_criteria)\n",
    "titanic_[\"Sex\"].value_counts()"
   ]
  },
  {
   "cell_type": "markdown",
   "metadata": {},
   "source": [
    "The conversion can be better achieved by using one-hot-encoding. In pandas, this can be achieved via get_dummies(), while in sklearn it can be equally achieved via OneHotEncoder(). One-hot-encoding creates a feature for each value, similar to pivoting, let us see how."
   ]
  },
  {
   "cell_type": "code",
   "execution_count": 51,
   "metadata": {},
   "outputs": [
    {
     "data": {
      "text/html": [
       "<div>\n",
       "<style scoped>\n",
       "    .dataframe tbody tr th:only-of-type {\n",
       "        vertical-align: middle;\n",
       "    }\n",
       "\n",
       "    .dataframe tbody tr th {\n",
       "        vertical-align: top;\n",
       "    }\n",
       "\n",
       "    .dataframe thead th {\n",
       "        text-align: right;\n",
       "    }\n",
       "</style>\n",
       "<table border=\"1\" class=\"dataframe\">\n",
       "  <thead>\n",
       "    <tr style=\"text-align: right;\">\n",
       "      <th></th>\n",
       "      <th>female</th>\n",
       "      <th>male</th>\n",
       "    </tr>\n",
       "  </thead>\n",
       "  <tbody>\n",
       "    <tr>\n",
       "      <th>305</th>\n",
       "      <td>0</td>\n",
       "      <td>1</td>\n",
       "    </tr>\n",
       "    <tr>\n",
       "      <th>297</th>\n",
       "      <td>1</td>\n",
       "      <td>0</td>\n",
       "    </tr>\n",
       "    <tr>\n",
       "      <th>386</th>\n",
       "      <td>0</td>\n",
       "      <td>1</td>\n",
       "    </tr>\n",
       "    <tr>\n",
       "      <th>164</th>\n",
       "      <td>0</td>\n",
       "      <td>1</td>\n",
       "    </tr>\n",
       "    <tr>\n",
       "      <th>183</th>\n",
       "      <td>0</td>\n",
       "      <td>1</td>\n",
       "    </tr>\n",
       "    <tr>\n",
       "      <th>...</th>\n",
       "      <td>...</td>\n",
       "      <td>...</td>\n",
       "    </tr>\n",
       "    <tr>\n",
       "      <th>263</th>\n",
       "      <td>0</td>\n",
       "      <td>1</td>\n",
       "    </tr>\n",
       "    <tr>\n",
       "      <th>732</th>\n",
       "      <td>0</td>\n",
       "      <td>1</td>\n",
       "    </tr>\n",
       "    <tr>\n",
       "      <th>271</th>\n",
       "      <td>0</td>\n",
       "      <td>1</td>\n",
       "    </tr>\n",
       "    <tr>\n",
       "      <th>822</th>\n",
       "      <td>0</td>\n",
       "      <td>1</td>\n",
       "    </tr>\n",
       "    <tr>\n",
       "      <th>466</th>\n",
       "      <td>0</td>\n",
       "      <td>1</td>\n",
       "    </tr>\n",
       "  </tbody>\n",
       "</table>\n",
       "<p>891 rows × 2 columns</p>\n",
       "</div>"
      ],
      "text/plain": [
       "     female  male\n",
       "305       0     1\n",
       "297       1     0\n",
       "386       0     1\n",
       "164       0     1\n",
       "183       0     1\n",
       "..      ...   ...\n",
       "263       0     1\n",
       "732       0     1\n",
       "271       0     1\n",
       "822       0     1\n",
       "466       0     1\n",
       "\n",
       "[891 rows x 2 columns]"
      ]
     },
     "execution_count": 51,
     "metadata": {},
     "output_type": "execute_result"
    }
   ],
   "source": [
    "pd.get_dummies(titanic['Sex'])"
   ]
  },
  {
   "cell_type": "markdown",
   "metadata": {},
   "source": [
    "**Note**: Using one-hot-encoding is preferable over directly replacing nominal values with numerical values because it avoids implicitly assuming an order. Think about it, o is less than 1, so why we need to assume that one nominal value is larger than the other. This is does not make sense, and although this might not appear to be significant for binary attributes, it certainly plays a role implicitly for numerical models.\n",
    "\n",
    "In general, to apply a numerical technique to a dataset, we encode nominal variables into numerical values. \n",
    "A pitfall that we need to avoid is to infuses order when we do this conversion (numerical values have this built-in characteristic that we do not think about due to the habitual use of numbers). This is where we need to use one-hot-encoding (whether in pandas or sklearn)  because it does not assume any order between the nominal values.\n",
    " \n",
    "For ordinal variables (like 'small', 'medium', 'large'), we can certainly convert them into ordinal numerical values in place (like 1,2,3), and that would be sufficient. *This should happen before normalization or standardization* to ensure that these values will be rescaled into the desired interval.\n",
    " \n",
    "With the risk of stating the obvious: numerical categorical variables are not continuous, they are ordinal by nature. Unless we discretise a continuous feature to become categorical and ordinal. Normalising a continuous variable sets its range of values that it can take to a pre-set range (usually [0,1]) but this is not discretisation."
   ]
  },
  {
   "cell_type": "markdown",
   "metadata": {},
   "source": [
    "----\n",
    "# Data Preparation and Preprocessing using sklearn"
   ]
  },
  {
   "cell_type": "markdown",
   "metadata": {},
   "source": [
    "## Encoding for Nominal and Ordinal Data\n",
    "In the following example, we demonstrate how to convert categorical data (nominal and ordinal) to numerical data using  OneHotEncoder(), OrdinalEncoder() from sklearn."
   ]
  },
  {
   "cell_type": "code",
   "execution_count": 52,
   "metadata": {},
   "outputs": [
    {
     "data": {
      "text/html": [
       "<div>\n",
       "<style scoped>\n",
       "    .dataframe tbody tr th:only-of-type {\n",
       "        vertical-align: middle;\n",
       "    }\n",
       "\n",
       "    .dataframe tbody tr th {\n",
       "        vertical-align: top;\n",
       "    }\n",
       "\n",
       "    .dataframe thead th {\n",
       "        text-align: right;\n",
       "    }\n",
       "</style>\n",
       "<table border=\"1\" class=\"dataframe\">\n",
       "  <thead>\n",
       "    <tr style=\"text-align: right;\">\n",
       "      <th></th>\n",
       "      <th>country_DE</th>\n",
       "      <th>country_FR</th>\n",
       "      <th>country_US</th>\n",
       "      <th>Quality</th>\n",
       "      <th>counts</th>\n",
       "    </tr>\n",
       "  </thead>\n",
       "  <tbody>\n",
       "    <tr>\n",
       "      <th>0</th>\n",
       "      <td>0.0</td>\n",
       "      <td>1.0</td>\n",
       "      <td>0.0</td>\n",
       "      <td>0.0</td>\n",
       "      <td>7000</td>\n",
       "    </tr>\n",
       "    <tr>\n",
       "      <th>1</th>\n",
       "      <td>1.0</td>\n",
       "      <td>0.0</td>\n",
       "      <td>0.0</td>\n",
       "      <td>0.0</td>\n",
       "      <td>5800</td>\n",
       "    </tr>\n",
       "    <tr>\n",
       "      <th>2</th>\n",
       "      <td>0.0</td>\n",
       "      <td>0.0</td>\n",
       "      <td>1.0</td>\n",
       "      <td>2.0</td>\n",
       "      <td>15000</td>\n",
       "    </tr>\n",
       "    <tr>\n",
       "      <th>3</th>\n",
       "      <td>0.0</td>\n",
       "      <td>1.0</td>\n",
       "      <td>0.0</td>\n",
       "      <td>1.0</td>\n",
       "      <td>2000</td>\n",
       "    </tr>\n",
       "  </tbody>\n",
       "</table>\n",
       "</div>"
      ],
      "text/plain": [
       "   country_DE  country_FR  country_US  Quality  counts\n",
       "0         0.0         1.0         0.0      0.0    7000\n",
       "1         1.0         0.0         0.0      0.0    5800\n",
       "2         0.0         0.0         1.0      2.0   15000\n",
       "3         0.0         1.0         0.0      1.0    2000"
      ]
     },
     "execution_count": 52,
     "metadata": {},
     "output_type": "execute_result"
    }
   ],
   "source": [
    "from sklearn.preprocessing import OneHotEncoder, OrdinalEncoder\n",
    "\n",
    "X = pd.DataFrame({\n",
    "    'country':['FR','DE','US', 'FR'],\n",
    "    'counts':[7000,5800,15000, 2000],\n",
    "    'Quality':['high', 'high', 'medium', 'low']})\n",
    "\n",
    "OHt_encoder = OneHotEncoder(sparse=False)\n",
    "ORd_encoder = OrdinalEncoder()\n",
    "\n",
    "numeral_feat = X.select_dtypes(include='number') # numerical features\n",
    "nominal_feat = pd.DataFrame(X['country']) # using .select_dtypes(include='object') does not allow us to differentiate\n",
    "ordinal_feat = pd.DataFrame(X['Quality']) # between nominal and ordinal features\n",
    "\n",
    "# obtain a dataframes of encoded nominal and ordinal features\n",
    "nominal_feat = pd.DataFrame(OHt_encoder.fit_transform(nominal_feat), columns=OHt_encoder.get_feature_names_out())\n",
    "ordinal_feat = pd.DataFrame(ORd_encoder.fit_transform(ordinal_feat), columns=ORd_encoder.get_feature_names_out())\n",
    "\n",
    "X = pd.concat([nominal_feat, ordinal_feat, numeral_feat], axis=1)\n",
    "X.head()"
   ]
  },
  {
   "cell_type": "markdown",
   "metadata": {},
   "source": [
    "Note how each nominal category {'FR', 'US', 'DE'} becomes a feature name, and these names are obtained via get_feature_names_out() automatically."
   ]
  },
  {
   "cell_type": "markdown",
   "metadata": {},
   "source": [
    "## Imputing and Rescaling\n",
    "In the example below, we demonstrate the effect of utilising two commonly used transformers from sklearn, namely SimpleImputer() and MaxMinScaler()."
   ]
  },
  {
   "cell_type": "code",
   "execution_count": 53,
   "metadata": {},
   "outputs": [
    {
     "name": "stdout",
     "output_type": "stream",
     "text": [
      "-------after imputing-------\n",
      "    feet     kg\n",
      "0   1.00   10.0\n",
      "1   4.00   40.0\n",
      "2   6.00   50.0\n",
      "3  10.00  100.0\n",
      "4   5.25   50.0\n",
      "   feet    kg\n",
      "0  6.00   6.0\n",
      "1  5.25  50.0\n",
      "-------after scaling-------\n",
      "   feet    kg\n",
      "0  0.00  0.00\n",
      "1  0.33  0.33\n",
      "2  0.56  0.44\n",
      "3  1.00  1.00\n",
      "4  0.47  0.44\n",
      "   feet    kg\n",
      "0  0.56 -0.04\n",
      "1  0.47  0.44\n"
     ]
    }
   ],
   "source": [
    "from sklearn.preprocessing import MinMaxScaler\n",
    "from sklearn.impute import SimpleImputer\n",
    "\n",
    "# training and testing sets (we skipped splitting for clarity)\n",
    "nan = np.nan\n",
    "training = pd.DataFrame({\n",
    "    'feet':[1,  4,  6,  10, nan],\n",
    "    'kg'  :[10, 40, 50, 100, nan]})\n",
    "\n",
    "testing  = pd.DataFrame({\n",
    "    'feet':[6, nan],\n",
    "    'kg'  :[6, nan]})\n",
    "\n",
    "imputer = SimpleImputer()\n",
    "scaler = MinMaxScaler()\n",
    "\n",
    "training = pd.DataFrame(imputer.fit_transform(training), columns=imputer.get_feature_names_out())\n",
    "testing = pd.DataFrame(imputer.transform(testing), columns=imputer.get_feature_names_out())\n",
    "\n",
    "print('-------after imputing-------')\n",
    "print(training.head())\n",
    "print(testing.head())\n",
    "\n",
    "training = pd.DataFrame(scaler.fit_transform(training), columns=scaler.get_feature_names_out())\n",
    "testing = pd.DataFrame(scaler.transform(testing), columns=scaler.get_feature_names_out())\n",
    "\n",
    "print('-------after scaling-------')\n",
    "print(training.head().round(2))\n",
    "print(testing.head().round(2))"
   ]
  },
  {
   "cell_type": "markdown",
   "metadata": {},
   "source": [
    "Note how the rescaled features becomes identical because they vary to the same extent between each other. This is one desired side effect of rescaling which exposes collinearity more easily. In real world data we rarely obtain such clear collinearity and it is often more hidden. "
   ]
  },
  {
   "cell_type": "markdown",
   "metadata": {},
   "source": [
    "Storing a dataframe as a csv file is the more efficient and convenient way."
   ]
  },
  {
   "cell_type": "code",
   "execution_count": 54,
   "metadata": {},
   "outputs": [],
   "source": [
    "# best is to do something like the below\n",
    "titanic.to_csv('./titanic.csv')"
   ]
  },
  {
   "cell_type": "markdown",
   "metadata": {},
   "source": [
    "## Your turn\n",
    "* Combine the above two examples (imputing, scaling and encoding) of sklearn code into one that takes into account splitting and that prevent data leakage.\n",
    "* Find a way to sort items in query. Select two of any of the previous data queries in this notebook and apply sorting on them. Try to think of ways where sorting is important."
   ]
  }
 ],
 "metadata": {
  "kernelspec": {
   "display_name": "base",
   "language": "python",
   "name": "python3"
  },
  "language_info": {
   "codemirror_mode": {
    "name": "ipython",
    "version": 3
   },
   "file_extension": ".py",
   "mimetype": "text/x-python",
   "name": "python",
   "nbconvert_exporter": "python",
   "pygments_lexer": "ipython3",
   "version": "3.9.7"
  }
 },
 "nbformat": 4,
 "nbformat_minor": 4
}
