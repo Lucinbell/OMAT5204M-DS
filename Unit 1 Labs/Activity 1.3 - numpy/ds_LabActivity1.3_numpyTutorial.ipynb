{
 "cells": [
  {
   "cell_type": "markdown",
   "metadata": {},
   "source": [
    "# DS Lab Activity 1.3. Numpy Superfast Tutorial"
   ]
  },
  {
   "cell_type": "markdown",
   "metadata": {},
   "source": [
    "In this tutorial we go through the basic capabilities of numpy. \n",
    "\n",
    "**Learning Outcomes**\n",
    "\n",
    "1.\tgain familiarity with important basic operations in numpy\n",
    "2.\tability to conduct a simple matrices and arrays operations in numpy\n",
    "\n",
    "Numpy is all about dealing with arrays efficiently. It allows us to manipulate big arrays in a fast and convenient way. We do not use built in python lists because they are slow for large arrays. Remember they allow for different types to coexist in a list. We pay less efficiency as a price for this built in flexibility. Numpy condenses all the capabilities of usual numerical packages or software such as MATLAB or R (if you are familiar with these). For more details see [official numpy quick start](https://numpy.org/doc/stable/user/quickstart.html).\n"
   ]
  },
  {
   "cell_type": "markdown",
   "metadata": {},
   "source": [
    "First we always need to import the library that we want to use, in our case the library is numpy and for abbreviation we called it np. "
   ]
  },
  {
   "cell_type": "code",
   "execution_count": 1,
   "metadata": {},
   "outputs": [
    {
     "data": {
      "text/html": [
       "<style>.container {width: 85% !important}</style>"
      ],
      "text/plain": [
       "<IPython.core.display.HTML object>"
      ]
     },
     "metadata": {},
     "output_type": "display_data"
    }
   ],
   "source": [
    "%matplotlib inline\n",
    "from IPython.display import display, HTML\n",
    "display(HTML('<style>.container {width: 85% !important}</style>'))"
   ]
  },
  {
   "cell_type": "code",
   "execution_count": 2,
   "metadata": {},
   "outputs": [],
   "source": [
    "import numpy as np"
   ]
  },
  {
   "cell_type": "markdown",
   "metadata": {},
   "source": [
    "Each time we want to invoke a function from numpy we do something like np.fun() where fun() is the name of the function that we want to call. For example, numpy has a function called arange() that is similar to the usual python range() function but produces iterable list in an efficient way."
   ]
  },
  {
   "cell_type": "code",
   "execution_count": 3,
   "metadata": {},
   "outputs": [
    {
     "name": "stdout",
     "output_type": "stream",
     "text": [
      "[2 3 4 5 6 7 8 9]\n"
     ]
    }
   ],
   "source": [
    "a = np.arange(2,10)\n",
    "print(a)"
   ]
  },
  {
   "cell_type": "code",
   "execution_count": 4,
   "metadata": {},
   "outputs": [
    {
     "name": "stdout",
     "output_type": "stream",
     "text": [
      "[40 50 60 70 80 90]\n"
     ]
    }
   ],
   "source": [
    "a = np.arange(4,10)  # multiply all by 10\n",
    "print(a*10)"
   ]
  },
  {
   "cell_type": "code",
   "execution_count": 5,
   "metadata": {},
   "outputs": [
    {
     "name": "stdout",
     "output_type": "stream",
     "text": [
      "[ 0  1  4  9 16]\n"
     ]
    }
   ],
   "source": [
    "ap = np.arange(5)**2  # raise all to the power of 10\n",
    "print(ap)"
   ]
  },
  {
   "cell_type": "markdown",
   "metadata": {},
   "source": [
    "To obtain the sum we can do the following"
   ]
  },
  {
   "cell_type": "code",
   "execution_count": 6,
   "metadata": {},
   "outputs": [
    {
     "data": {
      "text/plain": [
       "30"
      ]
     },
     "execution_count": 6,
     "metadata": {},
     "output_type": "execute_result"
    }
   ],
   "source": [
    "ap.sum()"
   ]
  },
  {
   "cell_type": "markdown",
   "metadata": {},
   "source": [
    "## We can now slice"
   ]
  },
  {
   "cell_type": "code",
   "execution_count": 7,
   "metadata": {},
   "outputs": [
    {
     "name": "stdout",
     "output_type": "stream",
     "text": [
      "[4 5 6 7 8 9]\n",
      "[4 5 6]\n",
      "[4 5 6]\n"
     ]
    }
   ],
   "source": [
    "print(a)\n",
    "print(a[:-3])\n",
    "print(a[:3])"
   ]
  },
  {
   "cell_type": "code",
   "execution_count": 8,
   "metadata": {},
   "outputs": [
    {
     "name": "stdout",
     "output_type": "stream",
     "text": [
      "[4 5 6 7 8]\n"
     ]
    }
   ],
   "source": [
    "print(a[:-1]) # print all except the last element"
   ]
  },
  {
   "cell_type": "code",
   "execution_count": 9,
   "metadata": {},
   "outputs": [
    {
     "name": "stdout",
     "output_type": "stream",
     "text": [
      "[4 5 6 7]\n"
     ]
    }
   ],
   "source": [
    "print(a[:-2]) # print all except the last 2 elements"
   ]
  },
  {
   "cell_type": "markdown",
   "metadata": {},
   "source": [
    "Although the following is not generally advisable in data science or machine learning, we can go through the elements of an array one by one. It is better and more Pythonic to manipulate the array as is without treating each element separately. This is called vectorisation and constitutes an important aspect of machine learning algorithms"
   ]
  },
  {
   "cell_type": "code",
   "execution_count": 10,
   "metadata": {},
   "outputs": [
    {
     "name": "stdout",
     "output_type": "stream",
     "text": [
      "4\n",
      "5\n",
      "6\n",
      "7\n",
      "8\n",
      "9\n"
     ]
    }
   ],
   "source": [
    "for row in a:\n",
    "    print(row)"
   ]
  },
  {
   "cell_type": "markdown",
   "metadata": {},
   "source": [
    "## We can deal with multi-dimensional arrays"
   ]
  },
  {
   "cell_type": "markdown",
   "metadata": {},
   "source": [
    "The following generates numbers 0<=x<1"
   ]
  },
  {
   "cell_type": "code",
   "execution_count": 11,
   "metadata": {},
   "outputs": [
    {
     "name": "stdout",
     "output_type": "stream",
     "text": [
      "[[0.51182162 0.9504637  0.14415961 0.94864945]\n",
      " [0.31183145 0.42332645 0.82770259 0.40919914]\n",
      " [0.54959369 0.02755911 0.75351311 0.53814331]]\n",
      "[[0.32973172 0.7884287  0.30319483 0.45349789]\n",
      " [0.1340417  0.40311299 0.20345524 0.26231334]\n",
      " [0.75036467 0.28040876 0.48519097 0.9807372 ]]\n"
     ]
    }
   ],
   "source": [
    "rg = np.random.default_rng(1)     # for random number generation\n",
    "a = rg.random((3,4))\n",
    "print(a)\n",
    "\n",
    "a = rg.random((3,4))\n",
    "print(a)"
   ]
  },
  {
   "cell_type": "markdown",
   "metadata": {},
   "source": [
    "we can generate numbers 0<x<10 by multiplying by 10"
   ]
  },
  {
   "cell_type": "code",
   "execution_count": 12,
   "metadata": {},
   "outputs": [
    {
     "name": "stdout",
     "output_type": "stream",
     "text": [
      "[[9.61657194 7.24789941 5.41226856]\n",
      " [2.76891204 1.60652009 9.69925413]]\n"
     ]
    }
   ],
   "source": [
    "# run this multiple times each time you will get a different set of numbers (different array) which is what we want\n",
    "a = rg.random((2,3))*10\n",
    "print(a)"
   ]
  },
  {
   "cell_type": "markdown",
   "metadata": {},
   "source": [
    "## Random Integers\n",
    "if we want integer we can floor"
   ]
  },
  {
   "cell_type": "code",
   "execution_count": 13,
   "metadata": {},
   "outputs": [
    {
     "name": "stdout",
     "output_type": "stream",
     "text": [
      "[[5 1 6]\n",
      " [7 6 9]]\n"
     ]
    }
   ],
   "source": [
    "a = np.floor(rg.random((2,3))*10).astype(int)\n",
    "print(a)"
   ]
  },
  {
   "cell_type": "markdown",
   "metadata": {},
   "source": [
    "Be mindful as the order makes a big difference, for example the following will always get us an array of 0s"
   ]
  },
  {
   "cell_type": "code",
   "execution_count": 14,
   "metadata": {},
   "outputs": [
    {
     "name": "stdout",
     "output_type": "stream",
     "text": [
      "[[0. 0. 0.]\n",
      " [0. 0. 0.]]\n"
     ]
    }
   ],
   "source": [
    "a = np.floor(rg.random((2,3)))*10\n",
    "print(a)"
   ]
  },
  {
   "cell_type": "markdown",
   "metadata": {},
   "source": [
    "We can call functions such as sort, sqrt and exp on the entire array efficiently"
   ]
  },
  {
   "cell_type": "code",
   "execution_count": 15,
   "metadata": {},
   "outputs": [
    {
     "name": "stdout",
     "output_type": "stream",
     "text": [
      "[[5. 2. 8.]\n",
      " [5. 5. 7.]]\n",
      "[[2. 5. 8.]\n",
      " [5. 5. 7.]]\n"
     ]
    }
   ],
   "source": [
    "a = np.floor(rg.random((2,3))*10)\n",
    "print(a)\n",
    "print(np.sort(a))"
   ]
  },
  {
   "cell_type": "code",
   "execution_count": 16,
   "metadata": {},
   "outputs": [
    {
     "name": "stdout",
     "output_type": "stream",
     "text": [
      "[[ 148.4131591     7.3890561  2980.95798704]\n",
      " [ 148.4131591   148.4131591  1096.63315843]]\n",
      "[[2.23606798 1.41421356 2.82842712]\n",
      " [2.23606798 2.23606798 2.64575131]]\n"
     ]
    }
   ],
   "source": [
    "print(np.exp(a))\n",
    "print(np.sqrt(a))"
   ]
  },
  {
   "cell_type": "markdown",
   "metadata": {},
   "source": [
    "The above however, is not the standard way of generating random integer. numpy provides a function that is dedicated for this task, let us see how."
   ]
  },
  {
   "cell_type": "code",
   "execution_count": 17,
   "metadata": {},
   "outputs": [
    {
     "data": {
      "text/plain": [
       "array([[1, 1, 1, 1, 2, 0, 2, 2, 2, 2],\n",
       "       [0, 0, 2, 2, 2, 0, 0, 0, 0, 0]], dtype=int64)"
      ]
     },
     "execution_count": 17,
     "metadata": {},
     "output_type": "execute_result"
    }
   ],
   "source": [
    "rng = np.random.default_rng()\n",
    "rng.integers(3, size=(2,10))"
   ]
  },
  {
   "cell_type": "markdown",
   "metadata": {},
   "source": [
    "## Generating an array of 1s or 0s"
   ]
  },
  {
   "cell_type": "code",
   "execution_count": 18,
   "metadata": {},
   "outputs": [
    {
     "name": "stdout",
     "output_type": "stream",
     "text": [
      "[1. 1. 1. 1. 1. 1.]\n"
     ]
    }
   ],
   "source": [
    "a = np.ones(6)\n",
    "print(a)\n"
   ]
  },
  {
   "cell_type": "code",
   "execution_count": 19,
   "metadata": {},
   "outputs": [
    {
     "name": "stdout",
     "output_type": "stream",
     "text": [
      "[[1. 1. 1. 1. 1. 1.]\n",
      " [1. 1. 1. 1. 1. 1.]]\n"
     ]
    }
   ],
   "source": [
    "b = np.ones((2,6))\n",
    "print(b)"
   ]
  },
  {
   "cell_type": "markdown",
   "metadata": {},
   "source": [
    "Note that once we moved to multi-dimension we need to provide the space as a tuple (2,6) inside the parenthesis of the ones()"
   ]
  },
  {
   "cell_type": "markdown",
   "metadata": {},
   "source": [
    "If we want to generate 1s as integers then we can either convert or set the type during the initialisation."
   ]
  },
  {
   "cell_type": "code",
   "execution_count": 20,
   "metadata": {},
   "outputs": [
    {
     "name": "stdout",
     "output_type": "stream",
     "text": [
      "[1 1 1 1 1 1]\n"
     ]
    },
    {
     "data": {
      "text/plain": [
       "numpy.ndarray"
      ]
     },
     "execution_count": 20,
     "metadata": {},
     "output_type": "execute_result"
    }
   ],
   "source": [
    "a = np.ones(6).astype(int)\n",
    "print(a)\n",
    "type(a)"
   ]
  },
  {
   "cell_type": "code",
   "execution_count": 21,
   "metadata": {},
   "outputs": [
    {
     "name": "stdout",
     "output_type": "stream",
     "text": [
      "[1 1 1 1 1 1]\n"
     ]
    },
    {
     "data": {
      "text/plain": [
       "numpy.ndarray"
      ]
     },
     "execution_count": 21,
     "metadata": {},
     "output_type": "execute_result"
    }
   ],
   "source": [
    "a = np.ones(6, dtype=np.uint32)\n",
    "print(a)\n",
    "type(a)"
   ]
  },
  {
   "cell_type": "markdown",
   "metadata": {},
   "source": [
    "## Arrays Shape"
   ]
  },
  {
   "cell_type": "markdown",
   "metadata": {},
   "source": [
    "Be mindful to the shape that you are dealing with as often this is the single most common obstacle in any numpy implementation"
   ]
  },
  {
   "cell_type": "code",
   "execution_count": 22,
   "metadata": {},
   "outputs": [
    {
     "name": "stdout",
     "output_type": "stream",
     "text": [
      "[1. 1. 1. 1. 1. 1.]\n",
      "(6,)\n",
      "[1. 1. 1. 1. 1. 1.]\n",
      "(6,)\n"
     ]
    }
   ],
   "source": [
    "a = np.ones(6)\n",
    "print(a)\n",
    "print(a.shape)\n",
    "\n",
    "# same as above\n",
    "a = np.ones((6,))\n",
    "print(a)\n",
    "print(a.shape)\n"
   ]
  },
  {
   "cell_type": "markdown",
   "metadata": {},
   "source": [
    "so the above is an array of one dimension (it is neither a column nor a row)\n",
    "If we want a column you should do something like the following"
   ]
  },
  {
   "cell_type": "code",
   "execution_count": 23,
   "metadata": {},
   "outputs": [
    {
     "name": "stdout",
     "output_type": "stream",
     "text": [
      "[[1.]\n",
      " [1.]\n",
      " [1.]\n",
      " [1.]\n",
      " [1.]\n",
      " [1.]]\n",
      "[[1. 1. 1. 1. 1. 1.]]\n"
     ]
    }
   ],
   "source": [
    "a = np.ones((6,1))   # column\n",
    "print(a)\n",
    "\n",
    "a = np.ones((1,6))   # row\n",
    "print(a)\n"
   ]
  },
  {
   "cell_type": "markdown",
   "metadata": {},
   "source": [
    "Same as for the 0s we can produce as many as we want from them"
   ]
  },
  {
   "cell_type": "code",
   "execution_count": 24,
   "metadata": {},
   "outputs": [
    {
     "name": "stdout",
     "output_type": "stream",
     "text": [
      "[0. 0. 0. 0. 0. 0.]\n"
     ]
    }
   ],
   "source": [
    "a = np.zeros(6)\n",
    "print(a)"
   ]
  },
  {
   "cell_type": "markdown",
   "metadata": {},
   "source": [
    "The following generates an error, make sure to remember this as it will come handy when you forget about the extra parenthesis needed for the shape (6,2)"
   ]
  },
  {
   "cell_type": "code",
   "execution_count": 25,
   "metadata": {},
   "outputs": [],
   "source": [
    "# a = np.zeros(6,2)"
   ]
  },
  {
   "cell_type": "markdown",
   "metadata": {},
   "source": [
    "## We can transpose an array to flip its shape"
   ]
  },
  {
   "cell_type": "code",
   "execution_count": 26,
   "metadata": {},
   "outputs": [
    {
     "name": "stdout",
     "output_type": "stream",
     "text": [
      "[[1. 8. 6.]\n",
      " [7. 1. 8.]]\n",
      "[[1. 7.]\n",
      " [8. 1.]\n",
      " [6. 8.]]\n"
     ]
    }
   ],
   "source": [
    "a = np.floor(rg.random((2,3))*10)\n",
    "print(a)\n",
    "print(a.T)   # array transpose"
   ]
  },
  {
   "cell_type": "code",
   "execution_count": 27,
   "metadata": {},
   "outputs": [
    {
     "name": "stdout",
     "output_type": "stream",
     "text": [
      "[[1.]\n",
      " [0.]\n",
      " [8.]\n",
      " [8.]]\n",
      "[[1. 0. 8. 8.]]\n"
     ]
    }
   ],
   "source": [
    "a = np.floor(rg.random((4,1))*10)\n",
    "print(a)\n",
    "print(a.T)   # array transpose"
   ]
  },
  {
   "cell_type": "markdown",
   "metadata": {},
   "source": [
    "Be mindful as this applies only to matrices, when we deal with a arrays the transpose does not work as expected."
   ]
  },
  {
   "cell_type": "code",
   "execution_count": 28,
   "metadata": {},
   "outputs": [
    {
     "name": "stdout",
     "output_type": "stream",
     "text": [
      "[8. 4. 2. 0.]\n",
      "[8. 4. 2. 0.]\n"
     ]
    }
   ],
   "source": [
    "a = np.floor(rg.random((4,))*10)\n",
    "print(a)\n",
    "print(a.T) # = a"
   ]
  },
  {
   "cell_type": "markdown",
   "metadata": {},
   "source": [
    "## Checking equality"
   ]
  },
  {
   "cell_type": "markdown",
   "metadata": {},
   "source": [
    "Using python built-in list"
   ]
  },
  {
   "cell_type": "code",
   "execution_count": 29,
   "metadata": {},
   "outputs": [
    {
     "data": {
      "text/plain": [
       "True"
      ]
     },
     "execution_count": 29,
     "metadata": {},
     "output_type": "execute_result"
    }
   ],
   "source": [
    "a = [1,2,3,0]\n",
    "b = [1,2,3,0]\n",
    "a==b"
   ]
  },
  {
   "cell_type": "code",
   "execution_count": 30,
   "metadata": {},
   "outputs": [
    {
     "data": {
      "text/plain": [
       "False"
      ]
     },
     "execution_count": 30,
     "metadata": {},
     "output_type": "execute_result"
    }
   ],
   "source": [
    "a = [2,2,3,0]\n",
    "b = [1,2,3,0]\n",
    "a==b"
   ]
  },
  {
   "cell_type": "code",
   "execution_count": 31,
   "metadata": {},
   "outputs": [
    {
     "data": {
      "text/plain": [
       "False"
      ]
     },
     "execution_count": 31,
     "metadata": {},
     "output_type": "execute_result"
    }
   ],
   "source": [
    "a = [2,2,3,1]\n",
    "b = [1,2,3,0]\n",
    "a==b"
   ]
  },
  {
   "cell_type": "markdown",
   "metadata": {},
   "source": [
    "Using numpy"
   ]
  },
  {
   "cell_type": "code",
   "execution_count": 32,
   "metadata": {},
   "outputs": [
    {
     "data": {
      "text/plain": [
       "array([ True,  True,  True,  True])"
      ]
     },
     "execution_count": 32,
     "metadata": {},
     "output_type": "execute_result"
    }
   ],
   "source": [
    "a = np.array([1,2,3,0])\n",
    "b = np.array([1,2,3,0])\n",
    "a==b"
   ]
  },
  {
   "cell_type": "code",
   "execution_count": 33,
   "metadata": {},
   "outputs": [
    {
     "name": "stdout",
     "output_type": "stream",
     "text": [
      "Arrays have different lengths and cannot be compared directly.\n"
     ]
    }
   ],
   "source": [
    "import numpy as np\n",
    "\n",
    "a = np.array([1, 2, 3, 0, 5])\n",
    "b = np.array([1, 2, 3, 0])\n",
    "\n",
    "if len(a) != len(b):\n",
    "    print(\"Arrays have different lengths and cannot be compared directly.\")\n",
    "else:\n",
    "    result = a == b\n",
    "    print(result)"
   ]
  },
  {
   "cell_type": "code",
   "execution_count": 34,
   "metadata": {},
   "outputs": [
    {
     "data": {
      "text/plain": [
       "True"
      ]
     },
     "execution_count": 34,
     "metadata": {},
     "output_type": "execute_result"
    }
   ],
   "source": [
    "a = np.array([1,2,3,0])\n",
    "b = np.array([1,2,3,0])\n",
    "(a==b).all()"
   ]
  },
  {
   "cell_type": "code",
   "execution_count": 35,
   "metadata": {},
   "outputs": [
    {
     "data": {
      "text/plain": [
       "False"
      ]
     },
     "execution_count": 35,
     "metadata": {},
     "output_type": "execute_result"
    }
   ],
   "source": [
    "a = np.array([1,2,3,0])\n",
    "b = np.array([1,2,3,1])\n",
    "(a==b).all()"
   ]
  },
  {
   "cell_type": "markdown",
   "metadata": {},
   "source": [
    "## We can create an identity matrix"
   ]
  },
  {
   "cell_type": "code",
   "execution_count": 36,
   "metadata": {},
   "outputs": [
    {
     "name": "stdout",
     "output_type": "stream",
     "text": [
      "[[1. 0. 0. 0. 0. 0.]\n",
      " [0. 1. 0. 0. 0. 0.]\n",
      " [0. 0. 1. 0. 0. 0.]\n",
      " [0. 0. 0. 1. 0. 0.]\n",
      " [0. 0. 0. 0. 1. 0.]\n",
      " [0. 0. 0. 0. 0. 1.]]\n"
     ]
    }
   ],
   "source": [
    "a = np.eye(6)\n",
    "print(a)"
   ]
  },
  {
   "cell_type": "markdown",
   "metadata": {},
   "source": [
    "For identity matrix we have always that a.T=a"
   ]
  },
  {
   "cell_type": "code",
   "execution_count": 37,
   "metadata": {},
   "outputs": [
    {
     "name": "stdout",
     "output_type": "stream",
     "text": [
      "[[1. 0. 0. 0. 0. 0.]\n",
      " [0. 1. 0. 0. 0. 0.]\n",
      " [0. 0. 1. 0. 0. 0.]\n",
      " [0. 0. 0. 1. 0. 0.]\n",
      " [0. 0. 0. 0. 1. 0.]\n",
      " [0. 0. 0. 0. 0. 1.]]\n"
     ]
    }
   ],
   "source": [
    "print(a.T)"
   ]
  },
  {
   "cell_type": "markdown",
   "metadata": {},
   "source": [
    "## We can assign multiple elements at once"
   ]
  },
  {
   "cell_type": "code",
   "execution_count": 38,
   "metadata": {},
   "outputs": [
    {
     "name": "stdout",
     "output_type": "stream",
     "text": [
      "[1. 2. 2. 4. 6. 6. 7. 8. 8. 9.]\n",
      "[   1.    2. 1000. 1000. 1000. 1000.    7.    8.    8.    9.]\n",
      "[1. 2. 1. 1. 1. 1. 7. 8. 8. 9.]\n"
     ]
    }
   ],
   "source": [
    "a = np.sort(np.floor(rg.random((10,))*10))\n",
    "print(a)\n",
    "\n",
    "a[2:6] = 1000\n",
    "print(a)\n",
    "\n",
    "a[2:6] = np.ones(6-2)\n",
    "print(a)"
   ]
  },
  {
   "cell_type": "markdown",
   "metadata": {},
   "source": [
    "## Function calls"
   ]
  },
  {
   "cell_type": "code",
   "execution_count": 39,
   "metadata": {},
   "outputs": [
    {
     "name": "stdout",
     "output_type": "stream",
     "text": [
      "[[0 1 2 3]\n",
      " [1 2 3 4]\n",
      " [2 3 4 5]\n",
      " [3 4 5 6]\n",
      " [4 5 6 7]]\n"
     ]
    }
   ],
   "source": [
    "\n",
    "def f(x,y):\n",
    "    return x+y  \n",
    "    #return x    # uncomment to try me but comment the others\n",
    "    #return y    # same as above\n",
    "    #return x*y  # same as above\n",
    "\n",
    "b = np.fromfunction(f,(5,4),dtype=int)\n",
    "print(b)"
   ]
  },
  {
   "cell_type": "markdown",
   "metadata": {},
   "source": [
    "## Concatenate and merge arrays along any axis"
   ]
  },
  {
   "cell_type": "code",
   "execution_count": 40,
   "metadata": {},
   "outputs": [
    {
     "name": "stdout",
     "output_type": "stream",
     "text": [
      "[[8. 4. 5. 0. 6.]\n",
      " [9. 8. 8. 6. 2.]]\n",
      "[[7. 2. 8. 0. 8.]\n",
      " [1. 3. 3. 6. 1.]]\n",
      "[[8. 4. 5. 0. 6. 7. 2. 8. 0. 8.]\n",
      " [9. 8. 8. 6. 2. 1. 3. 3. 6. 1.]]\n"
     ]
    }
   ],
   "source": [
    "a = np.floor(10*rg.random((2,5)))\n",
    "b = np.floor(10*rg.random((2,5)))\n",
    "print(a)\n",
    "print(b)\n",
    "d = np.c_[a,b]    # merged along the columns\n",
    "print(d)\n"
   ]
  },
  {
   "cell_type": "code",
   "execution_count": 41,
   "metadata": {},
   "outputs": [
    {
     "name": "stdout",
     "output_type": "stream",
     "text": [
      "[[8. 4. 5. 0. 6.]\n",
      " [9. 8. 8. 6. 2.]]\n",
      "[[7. 2. 8. 0. 8.]\n",
      " [1. 3. 3. 6. 1.]]\n",
      "[[8. 4. 5. 0. 6.]\n",
      " [9. 8. 8. 6. 2.]\n",
      " [7. 2. 8. 0. 8.]\n",
      " [1. 3. 3. 6. 1.]]\n"
     ]
    }
   ],
   "source": [
    "print (a)\n",
    "print (b)\n",
    "d = np.c_[a.T,b.T].T    # merged along the rows\n",
    "print(d)"
   ]
  },
  {
   "cell_type": "code",
   "execution_count": 42,
   "metadata": {},
   "outputs": [
    {
     "name": "stdout",
     "output_type": "stream",
     "text": [
      "[[8. 4. 5. 0. 6.]\n",
      " [9. 8. 8. 6. 2.]]\n",
      "[[7. 2. 8. 0. 8.]\n",
      " [1. 3. 3. 6. 1.]]\n",
      "[[8. 4. 5. 0. 6.]\n",
      " [9. 8. 8. 6. 2.]\n",
      " [7. 2. 8. 0. 8.]\n",
      " [1. 3. 3. 6. 1.]]\n"
     ]
    }
   ],
   "source": [
    "print (a)\n",
    "print (b)\n",
    "d = np.r_[a,b]        # merged along the rows\n",
    "print(d)"
   ]
  },
  {
   "cell_type": "markdown",
   "metadata": {},
   "source": [
    "The above can be achieved in many ways, we show some below"
   ]
  },
  {
   "cell_type": "code",
   "execution_count": 43,
   "metadata": {},
   "outputs": [
    {
     "name": "stdout",
     "output_type": "stream",
     "text": [
      "[[8. 4. 5. 0. 6. 7. 2. 8. 0. 8.]\n",
      " [9. 8. 8. 6. 2. 1. 3. 3. 6. 1.]]\n"
     ]
    }
   ],
   "source": [
    "d = np.hstack((a,b))  # merged along the columns\n",
    "print(d)"
   ]
  },
  {
   "cell_type": "code",
   "execution_count": 44,
   "metadata": {},
   "outputs": [
    {
     "name": "stdout",
     "output_type": "stream",
     "text": [
      "[[8. 4. 5. 0. 6.]\n",
      " [9. 8. 8. 6. 2.]\n",
      " [7. 2. 8. 0. 8.]\n",
      " [1. 3. 3. 6. 1.]]\n"
     ]
    }
   ],
   "source": [
    "d = np.vstack((a,b))  # merged along the rows\n",
    "print(d)"
   ]
  },
  {
   "cell_type": "code",
   "execution_count": 45,
   "metadata": {},
   "outputs": [
    {
     "name": "stdout",
     "output_type": "stream",
     "text": [
      "[[8. 4. 5. 0. 6. 7. 2. 8. 0. 8.]\n",
      " [9. 8. 8. 6. 2. 1. 3. 3. 6. 1.]]\n"
     ]
    }
   ],
   "source": [
    "d = np.column_stack((a,b))   # merged along the columns\n",
    "print(d)"
   ]
  },
  {
   "cell_type": "code",
   "execution_count": 46,
   "metadata": {},
   "outputs": [
    {
     "name": "stdout",
     "output_type": "stream",
     "text": [
      "[1 2 3]\n",
      "[4 5 6]\n",
      "[[1 4]\n",
      " [2 5]\n",
      " [3 6]]\n"
     ]
    }
   ],
   "source": [
    "a = np.array((1,2,3))\n",
    "b = np.array((4,5,6))\n",
    "d = np.column_stack((a,b))\n",
    "print(a)\n",
    "print(b)\n",
    "print(d)\n"
   ]
  },
  {
   "cell_type": "markdown",
   "metadata": {},
   "source": [
    "## Flattening an Array"
   ]
  },
  {
   "cell_type": "code",
   "execution_count": 47,
   "metadata": {},
   "outputs": [
    {
     "name": "stdout",
     "output_type": "stream",
     "text": [
      "[[1 4]\n",
      " [2 5]\n",
      " [3 6]]\n",
      "[1 4 2 5 3 6]\n"
     ]
    }
   ],
   "source": [
    "print(d)\n",
    "print(d.ravel())"
   ]
  },
  {
   "cell_type": "markdown",
   "metadata": {},
   "source": [
    "## Making Copies and Pass by Reference"
   ]
  },
  {
   "cell_type": "markdown",
   "metadata": {},
   "source": [
    "Numpy passed to functions and assign by object reference which means assignment can produce surprising results and you must be aware of this"
   ]
  },
  {
   "cell_type": "code",
   "execution_count": 48,
   "metadata": {},
   "outputs": [
    {
     "name": "stdout",
     "output_type": "stream",
     "text": [
      "[[1 4]\n",
      " [2 5]\n",
      " [3 6]]\n"
     ]
    }
   ],
   "source": [
    "h = d\n",
    "print(h)"
   ]
  },
  {
   "cell_type": "code",
   "execution_count": 49,
   "metadata": {},
   "outputs": [
    {
     "name": "stdout",
     "output_type": "stream",
     "text": [
      "[[500   4]\n",
      " [  2   5]\n",
      " [  3   6]]\n",
      "[[500   4]\n",
      " [  2   5]\n",
      " [  3   6]]\n",
      "True\n"
     ]
    }
   ],
   "source": [
    "h[0,0] = 500\n",
    "print(h) \n",
    "print(d) \n",
    "print(d is h)"
   ]
  },
  {
   "cell_type": "markdown",
   "metadata": {},
   "source": [
    "So both h and d are **pointing to the same array in memory** if you change one you are changing the other !!!!"
   ]
  },
  {
   "cell_type": "markdown",
   "metadata": {},
   "source": [
    "## Broadcasting, Matrices and Arrays Multiplication"
   ]
  },
  {
   "cell_type": "markdown",
   "metadata": {},
   "source": [
    "### Multiplication"
   ]
  },
  {
   "cell_type": "markdown",
   "metadata": {},
   "source": [
    "**This is an important topic that we will make use of in later units. Make sure to understand it. See official documentation of numpy [broadcasting](https://numpy.org/doc/stable/user/basics.broadcasting.html#basics-broadcasting) for more details.**"
   ]
  },
  {
   "cell_type": "markdown",
   "metadata": {},
   "source": [
    "First we have to realise that array multiplication is different than matrix multiplication in numpy.\n",
    "Numpy multiply element-wise when we simply use the operators * . For example:"
   ]
  },
  {
   "cell_type": "code",
   "execution_count": 50,
   "metadata": {},
   "outputs": [
    {
     "name": "stdout",
     "output_type": "stream",
     "text": [
      "[ 4 10 18]\n",
      "(3,)\n"
     ]
    }
   ],
   "source": [
    "a = np.array((1,2,3))\n",
    "b = np.array((4,5,6))\n",
    "d = a*b\n",
    "print(d)\n",
    "print(d.shape)"
   ]
  },
  {
   "cell_type": "markdown",
   "metadata": {},
   "source": [
    "Same for multi-dimensional array"
   ]
  },
  {
   "cell_type": "code",
   "execution_count": 51,
   "metadata": {},
   "outputs": [
    {
     "name": "stdout",
     "output_type": "stream",
     "text": [
      "[[1. 0. 1. 2. 0.]\n",
      " [3. 1. 3. 3. 2.]]\n",
      "[[4. 3. 4. 1. 2.]\n",
      " [0. 4. 1. 1. 0.]]\n",
      "x---------------------\n",
      "[[4. 0. 4. 2. 0.]\n",
      " [0. 4. 3. 3. 0.]]\n"
     ]
    }
   ],
   "source": [
    "\n",
    "a = np.floor(5*rg.random((2,5)))\n",
    "b = np.floor(5*rg.random((2,5)))\n",
    "d = a*b\n",
    "print(a)\n",
    "print(b)\n",
    "print('x---------------------')\n",
    "print(d)"
   ]
  },
  {
   "cell_type": "markdown",
   "metadata": {},
   "source": [
    "To do matrices multiplication we can do either of two things"
   ]
  },
  {
   "cell_type": "markdown",
   "metadata": {},
   "source": [
    "1- call the dot function"
   ]
  },
  {
   "cell_type": "code",
   "execution_count": 52,
   "metadata": {},
   "outputs": [
    {
     "name": "stdout",
     "output_type": "stream",
     "text": [
      "[[1. 0. 1. 2. 0.]\n",
      " [3. 1. 3. 3. 2.]]\n",
      "[[4. 3. 4. 1. 2.]\n",
      " [0. 4. 1. 1. 0.]]\n",
      "[[10.  3.]\n",
      " [34. 10.]]\n"
     ]
    }
   ],
   "source": [
    "#multiply and sum along the columns of a and b\n",
    "print (a)\n",
    "print (b)\n",
    "d = a.dot(b.T)\n",
    "print(d)"
   ]
  },
  {
   "cell_type": "code",
   "execution_count": 53,
   "metadata": {},
   "outputs": [
    {
     "name": "stdout",
     "output_type": "stream",
     "text": [
      "[[1. 0. 1. 2. 0.]\n",
      " [3. 1. 3. 3. 2.]]\n",
      "[[4. 3. 4. 1. 2.]\n",
      " [0. 4. 1. 1. 0.]]\n",
      "[[ 4. 15.  7.  4.  2.]\n",
      " [ 0.  4.  1.  1.  0.]\n",
      " [ 4. 15.  7.  4.  2.]\n",
      " [ 8. 18. 11.  5.  4.]\n",
      " [ 0.  8.  2.  2.  0.]]\n",
      "(5, 5)\n"
     ]
    }
   ],
   "source": [
    "#multiply and sum along the rows of a and b\n",
    "print (a)\n",
    "print (b)\n",
    "d = a.T.dot(b)\n",
    "print(d)\n",
    "print(d.shape)"
   ]
  },
  {
   "cell_type": "markdown",
   "metadata": {},
   "source": [
    "2 - convert the arrays into numpy matrices and then perform the multiplication operation *"
   ]
  },
  {
   "cell_type": "code",
   "execution_count": 54,
   "metadata": {},
   "outputs": [],
   "source": [
    "p = np.matrix(a)\n",
    "q = np.matrix(b)"
   ]
  },
  {
   "cell_type": "markdown",
   "metadata": {},
   "source": [
    "Now we can do the usual matrices operations "
   ]
  },
  {
   "cell_type": "code",
   "execution_count": 55,
   "metadata": {},
   "outputs": [
    {
     "data": {
      "text/plain": [
       "matrix([[10.,  3.],\n",
       "        [34., 10.]])"
      ]
     },
     "execution_count": 55,
     "metadata": {},
     "output_type": "execute_result"
    }
   ],
   "source": [
    "#multiply and sum along the columns of p and q\n",
    "p*q.T"
   ]
  },
  {
   "cell_type": "code",
   "execution_count": 56,
   "metadata": {},
   "outputs": [
    {
     "data": {
      "text/plain": [
       "matrix([[ 4., 15.,  7.,  4.,  2.],\n",
       "        [ 0.,  4.,  1.,  1.,  0.],\n",
       "        [ 4., 15.,  7.,  4.,  2.],\n",
       "        [ 8., 18., 11.,  5.,  4.],\n",
       "        [ 0.,  8.,  2.,  2.,  0.]])"
      ]
     },
     "execution_count": 56,
     "metadata": {},
     "output_type": "execute_result"
    }
   ],
   "source": [
    "#multiply and sum along the rows of p and q\n",
    "p.T*q"
   ]
  },
  {
   "cell_type": "markdown",
   "metadata": {},
   "source": [
    "### using @ operators\n",
    "In Python > 3.5 we can use the @ operator to indicate that we want to do a matrices multiplication. "
   ]
  },
  {
   "cell_type": "code",
   "execution_count": 57,
   "metadata": {},
   "outputs": [
    {
     "name": "stdout",
     "output_type": "stream",
     "text": [
      "[[1. 3. 1.]\n",
      " [3. 0. 2.]]\n",
      "[[3. 2. 2.]\n",
      " [4. 3. 1.]\n",
      " [2. 1. 0.]]\n",
      "x---------------------\n",
      "[[17. 12.  5.]\n",
      " [13.  8.  6.]]\n"
     ]
    }
   ],
   "source": [
    "a = np.floor(5*rg.random((3,2)))\n",
    "b = np.floor(5*rg.random((3,3)))\n",
    "d = a.T@b\n",
    "\n",
    "print(a.T)\n",
    "print(b)\n",
    "print('x---------------------')\n",
    "print(d)"
   ]
  },
  {
   "cell_type": "markdown",
   "metadata": {},
   "source": [
    "Note that $b = a \\times a^\\top$ is always a symmetric square matrix (not rectangular) even when $a$ is rectangular. It is actually the definition of matrices squaring operation! The diagonal of the resultant matrix is the sum of the squares of all element of each row. Equivalently, $c = a ^\\top \\times a$ is a symmetric square matrix, with a diagonal representing the sum of the squares of all element of each columns. Let us see an example."
   ]
  },
  {
   "cell_type": "code",
   "execution_count": 58,
   "metadata": {},
   "outputs": [
    {
     "name": "stdout",
     "output_type": "stream",
     "text": [
      "the idm of the matrix =  (2, 3)\n",
      "[[1 1]\n",
      " [2 3]\n",
      " [1 1]]\n",
      "[[1 2 1]\n",
      " [1 3 1]]\n",
      "x--------------- cancles the 1st dim and we obtain 3x3 matrix\n",
      "[[ 2  5  2]\n",
      " [ 5 13  5]\n",
      " [ 2  5  2]]\n",
      "\n",
      "[[1 2 1]\n",
      " [1 3 1]]\n",
      "[[1 1]\n",
      " [2 3]\n",
      " [1 1]]\n",
      "x-------------- cancles the 2nd dim and we obtain 2x2 matrix\n",
      "[[ 6  8]\n",
      " [ 8 11]]\n"
     ]
    }
   ],
   "source": [
    "a = np.array([[1, 2, 1],\n",
    "              [1, 3, 1]])\n",
    "b = a.T@a\n",
    "print('the idm of the matrix = ', a.shape)\n",
    "print(a.T)\n",
    "print(a)\n",
    "print('x--------------- cancles the 1st dim and we obtain 3x3 matrix')\n",
    "print(b)\n",
    "\n",
    "print()\n",
    "\n",
    "c = a@a.T\n",
    "print(a)\n",
    "print(a.T)\n",
    "print('x-------------- cancles the 2nd dim and we obtain 2x2 matrix')\n",
    "print(c)"
   ]
  },
  {
   "cell_type": "markdown",
   "metadata": {},
   "source": [
    "### Symmetrical and positive definite matrix\n",
    "If a matrix $a$ satisfies that $b=x^\\top a x > 0$ for *all x $\\in \\cal R $* then we say that matrix $a$ is positive definite. See [here](https://en.wikipedia.org/wiki/Square_matrix#Definite_matrix) for more details."
   ]
  },
  {
   "cell_type": "code",
   "execution_count": 64,
   "metadata": {},
   "outputs": [
    {
     "name": "stdin",
     "output_type": "stream",
     "text": [
      "matrix dim =  3\n",
      "input 3 numbers y =  4 7 9\n"
     ]
    },
    {
     "name": "stdout",
     "output_type": "stream",
     "text": [
      "[[4 7 9]]\n",
      "[[1 0 0]\n",
      " [0 1 0]\n",
      " [0 0 1]]\n",
      "[[4]\n",
      " [7]\n",
      " [9]]\n",
      "x---------------\n",
      "[[146.]]\n",
      "146\n"
     ]
    }
   ],
   "source": [
    "dim = int(input('matrix dim = '))\n",
    "# a = np.array([[3, 3, 3], [3, 2, 2], [3, 2, 1]])\n",
    "a = np.eye(dim, dtype=np.uint64) # when we use I we obtain the sume of squares of x (remember y=Iy=yI)\n",
    "\n",
    "# y = np.array([10, 20, 30]).reshape(3,1)\n",
    "y = np.array([int(i) for i in input('input ' +str(dim) +' numbers y = ').split()]).reshape(dim,1)\n",
    "\n",
    "print(y.T)\n",
    "print(a)\n",
    "print(y)\n",
    "print('x---------------')\n",
    "b = y.T@a@y\n",
    "print(b)\n",
    "print((y**2).sum())"
   ]
  },
  {
   "cell_type": "markdown",
   "metadata": {},
   "source": [
    "Note that even if we have a positive results for one, two or several examples, that does not prove that the matrix is positive definite, to arrive to such conclusion we need to prove that the results is *always* positive regardless of y."
   ]
  },
  {
   "cell_type": "markdown",
   "metadata": {},
   "source": [
    "### Broadcasting"
   ]
  },
  {
   "cell_type": "code",
   "execution_count": null,
   "metadata": {},
   "outputs": [],
   "source": [
    "a = np.floor(5*rg.random((2,5)))\n",
    "b = np.floor(5*rg.random((2,1)))\n",
    "\n",
    "print(a)\n",
    "print(b)\n"
   ]
  },
  {
   "cell_type": "markdown",
   "metadata": {},
   "source": [
    "Let us broadcast b on a"
   ]
  },
  {
   "cell_type": "code",
   "execution_count": null,
   "metadata": {},
   "outputs": [],
   "source": [
    "d = a*b\n",
    "print(d)"
   ]
  },
  {
   "cell_type": "markdown",
   "metadata": {},
   "source": [
    "i.e. broadcasting b on a takes each element of the first row of 'a' and multiply it by first row of 'b' and same for the second rows of 'a' and 'b'\n",
    "\n",
    "note that 'a' and 'b' must agree on one axis and the second axis must have a dimension of 1 to be able to do the broadcasting, for example the following code will produce an error"
   ]
  },
  {
   "cell_type": "code",
   "execution_count": null,
   "metadata": {},
   "outputs": [],
   "source": [
    "a = np.floor(5*rg.random((2,5)))\n",
    "b = np.floor(5*rg.random((2,3)))\n",
    "\n",
    "print(a)\n",
    "print(b)\n",
    "\n",
    "# d = a*b  # an error\n",
    "# print(d)"
   ]
  },
  {
   "cell_type": "code",
   "execution_count": null,
   "metadata": {},
   "outputs": [],
   "source": [
    "a = np.floor(5*rg.random((2,5)))\n",
    "b = np.floor(5*rg.random((2,5)))\n",
    "\n",
    "print(a)\n",
    "print(b)\n",
    "\n",
    "d = a*b  # element-wise multiplication \n",
    "print(d)"
   ]
  },
  {
   "cell_type": "code",
   "execution_count": null,
   "metadata": {},
   "outputs": [],
   "source": [
    "a = np.floor(5*rg.random((2,5)))\n",
    "b = np.floor(5*rg.random((1,5)))\n",
    "\n",
    "print(a)\n",
    "print(b)\n",
    "\n",
    "d = a*b  # broadcasting \n",
    "print(d)"
   ]
  }
 ],
 "metadata": {
  "kernelspec": {
   "display_name": "Python 3 (ipykernel)",
   "language": "python",
   "name": "python3"
  },
  "language_info": {
   "codemirror_mode": {
    "name": "ipython",
    "version": 3
   },
   "file_extension": ".py",
   "mimetype": "text/x-python",
   "name": "python",
   "nbconvert_exporter": "python",
   "pygments_lexer": "ipython3",
   "version": "3.12.4"
  }
 },
 "nbformat": 4,
 "nbformat_minor": 4
}
